{
 "cells": [
  {
   "cell_type": "markdown",
   "metadata": {},
   "source": [
    "# Theoretical Questions:"
   ]
  },
  {
   "cell_type": "markdown",
   "metadata": {},
   "source": [
    "##### 1. Explain the purpose and advantages of NumPy in scientific computing and data analysis. How does it enhance Python's capabilities for numerical operations?  \n",
    "Ans  \n",
    "\n",
    "* Purpose of NumPy:  \n",
    "\n",
    "   i.Efficient Array Handling: At the core of NumPy is the ndarray object, a fast, flexible container for large data sets in Python. This allows for efficient storage and manipulation of numerical data.  \n",
    "\n",
    "   ii. Mathematical Functions: NumPy provides a variety of mathematical functions to operate on arrays, enabling element-wise operations and broadcasting.  \n",
    " \n",
    "   iii. Linear Algebra and Random Number Generation: It includes functionality for linear algebra, Fourier transforms, and random number generation, making it essential for many scientific computations.  \n",
    "\n",
    "* Advantages of NumPy:  \n",
    "\n",
    "   i. Performance: NumPy operations are implemented in C and are optimized for performance, which makes them significantly faster than standard Python list operations, especially for large datasets.  \n",
    "\n",
    "   ii. Memory Efficiency: The ndarray is more memory-efficient than Python lists, allowing you to store and manipulate large datasets without excessive memory overhead.  \n",
    "\n",
    "   iii. onvenience: NumPy's syntax and functionality make it easier to perform complex mathematical operations succinctly. It supports slicing, indexing, and broadcasting, simplifying code and improving readability.   \n",
    "\n",
    "* Enhancing Python's Capabilities:  \n",
    "\n",
    "   i. Vectorization: NumPy allows for vectorized operations, which means you can apply operations to entire arrays at once, avoiding the need for explicit loops in Python. This not only speeds up computations but also leads to more readable code.  \n",
    "\n",
    "   ii. Broadcasting: NumPy’s broadcasting rules allow for operations between arrays of different shapes, enabling flexible and efficient calculations without the need for manual replication of data.  \n",
    "\n",
    "   iii. Universal Functions: NumPy provides a collection of universal functions (ufuncs) that perform element-wise operations on arrays, making mathematical computations straightforward and efficient.  \n"
   ]
  },
  {
   "cell_type": "markdown",
   "metadata": {},
   "source": [
    "##### 2. Compare and contrast np.mean() and np.average() functions in NumPy. When would you use one over the\n",
    "other?\n",
    "Ans  \n",
    "\n",
    "* np.mean()  \n",
    "\n",
    "  Purpose: Computes the arithmetic mean (average) of the elements in an array.  \n",
    "  Syntax: np.mean(a, axis=None, dtype=None, out=None)  \n",
    "\n",
    "  use np.mean() when:  \n",
    "\n",
    "    You need a simple average without considering weights.  \n",
    "     You want a straightforward computation of the mean for general statistical analysis.   \n",
    "\n",
    "* np.average()  \n",
    "\n",
    "  Purpose: Computes a weighted average of the elements in an array, allowing for more flexibility.  \n",
    "  Syntax: np.average(a, axis=None, weights=None, returned=False)  \n",
    "\n",
    "  Use np.average() when:  \n",
    "\n",
    "    You have weights that need to be considered in the average calculation.  \n",
    "    You need to compute a weighted mean for specific analyses, such as when combining different datasets with varying levels of significance.  \n",
    "\n",
    "\n"
   ]
  },
  {
   "cell_type": "markdown",
   "metadata": {},
   "source": [
    "##### 3. Describe the methods for reversing a NumPy array along different axes. Provide examples for 1D and 2D arrays.  \n",
    "Ans  \n"
   ]
  },
  {
   "cell_type": "code",
   "execution_count": null,
   "metadata": {},
   "outputs": [],
   "source": [
    "# For a 1D array, reversing can be achieved simply by using slicing.\n",
    "\n",
    "import numpy as np\n",
    "\n",
    "# Create a 1D array\n",
    "arr_1d = np.array([1, 2, 3, 4, 5])\n",
    "\n",
    "# Reverse the 1D array\n",
    "reversed_arr_1d = arr_1d[::-1]\n",
    "\n",
    "print(\"Original 1D Array:\", arr_1d)\n",
    "print(\"Reversed 1D Array:\", reversed_arr_1d)\n",
    "\n",
    "# For a 2D array, you can reverse it along different axes: rows (axis 0) or columns (axis 1).\n",
    "\n",
    "# Create a 2D array\n",
    "arr_2d = np.array([[1, 2, 3],\n",
    "                   [4, 5, 6],\n",
    "                   [7, 8, 9]])\n",
    "\n",
    "# Reverse the 2D array along rows (axis 0)\n",
    "reversed_rows = arr_2d[::-1]\n",
    "\n",
    "print(\"Reversed 2D Array (Rows):\\n\", reversed_rows)\n",
    "\n",
    "\n",
    " # Reverse the 2D array along columns (axis 1)\n",
    "reversed_columns = arr_2d[:, ::-1]\n",
    "\n",
    "print(\"Reversed 2D Array (Columns):\\n\", reversed_columns)\n"
   ]
  },
  {
   "cell_type": "markdown",
   "metadata": {},
   "source": [
    "##### 4. How can you determine the data type of elements in a NumPy array? Discuss the importance of data types in memory management and performance.  \n",
    "Ans  \n",
    "You can determine the data type of elements in a NumPy array using the .dtype attribute. This attribute provides information about the type of data stored in the array, such as integers, floats, or strings.  \n",
    "\n",
    "Importance of Data Types  \n",
    "\n",
    "i. emory Management:  \n",
    "\n",
    "   Each data type in NumPy corresponds to a specific amount of memory. For example, an int32 uses 4 bytes, while a float64 uses 8 bytes. Choosing the appropriate data type can significantly reduce memory consumption, especially when dealing with large datasets.  \n",
    "   \n",
    "ii. Performance:    \n",
    "\n",
    "   Operations on NumPy arrays are optimized for specific data types. For example, arithmetic operations on float64 arrays are usually faster than on object arrays due to the overhead associated with Python objects.  \n",
    "\n",
    "iii. Precision and Range:    \n",
    "\n",
    "   Different data types have different ranges and precision. For instance, using float32 provides less precision compared to float64, which might lead to rounding errors in calculations. Selecting the right type ensures that calculations remain accurate.  \n",
    "\n",
    "iv. Type Safety:  \n",
    "\n",
    "   Ensuring the correct data type can prevent errors in computations. For example, mixing integers and floats may lead to unexpected results, so using consistent data types helps maintain type safety"
   ]
  },
  {
   "cell_type": "markdown",
   "metadata": {},
   "source": [
    "#### 5. Define ndarrays in NumPy and explain their key features. How do they differ from standard Python lists?  \n",
    "Ans  \n",
    "\n",
    "Key Features of ndarray: \n",
    "\n",
    "i. All elements in a ndarray must be of the same data type (e.g., all integers, all floats).  \n",
    "ii. ndarray can be one-dimensional (1D), two-dimensional (2D), or higher dimensions (N-D)  \n",
    "iii. ndarrays store data in contiguous blocks of memory, which improves performance for numerical operations compared to Python lists, which are stored as separate objects.  \n",
    "iv. NumPy supports vectorization, allowing you to perform element-wise operations on arrays without the need for explicit loop  \n",
    "v. ndarray supports advanced slicing and indexing techniques, allowing for easy extraction and manipulation of array subsets.\n",
    "\n",
    "ndarrays are powerful, efficient, and flexible data structures for numerical computations in NumPy. They differ from standard Python lists in terms of data type homogeneity, performance, memory storage, functionality, and dimensional capabilities, making them a preferred choice for scientific computing and data analysis.  "
   ]
  },
  {
   "cell_type": "markdown",
   "metadata": {},
   "source": [
    "##### 6. Analyze the performance benefits of NumPy arrays over Python lists for large-scale numerical operations  \n",
    "Ans  \n",
    "the performance benefits of NumPy arrays over Python lists become especially apparent when handling large-scale numerical operations. NumPy’s memory efficiency, speed, vectorization capabilities, advanced indexing, and integration with other libraries make it the preferred choice for scientific computing and data analysis. This results in faster execution times, lower memory usage, and more concise code, making it a powerful tool for any data-intensive task.  \n"
   ]
  },
  {
   "cell_type": "markdown",
   "metadata": {},
   "source": [
    "##### 7. Compare vstack() and hstack() functions in NumPy. Provide examples demonstrating their usage and output.  \n",
    "Ans   \n",
    "\n",
    "vstack() stacks arrays vertically, increasing the number of rows while keeping the number of columns the same.  \n",
    "\n",
    "hstack() stacks arrays horizontally, increasing the number of columns while keeping the number of rows the same.  "
   ]
  },
  {
   "cell_type": "code",
   "execution_count": null,
   "metadata": {},
   "outputs": [],
   "source": [
    "# use vstack()\n",
    "\n",
    "import numpy as np\n",
    "\n",
    "# Create two 2D arrays\n",
    "arr1 = np.array([[1, 2, 3],\n",
    "                 [4, 5, 6]])\n",
    "\n",
    "arr2 = np.array([[7, 8, 9],\n",
    "                 [10, 11, 12]])\n",
    "\n",
    "# Use vstack to stack arrays vertically\n",
    "vstacked = np.vstack((arr1, arr2))\n",
    "\n",
    "print(\"Array 1:\\n\", arr1)\n",
    "print(\"Array 2:\\n\", arr2)\n",
    "print(\"Vstacked Array:\\n\", vstacked)\n",
    "\n",
    "# Use hstack \n",
    "\n",
    "hstacked = np.hstack((arr1, arr2))\n",
    "print(\"Hstacked Array:\\n\", hstacked)\n"
   ]
  },
  {
   "cell_type": "markdown",
   "metadata": {},
   "source": [
    "##### 8. Explain the differences between fliplr() and flipud() methods in NumPy, including their effects on variousmarray dimensions.  \n",
    "Ans\n",
    "\n",
    "* fliplr()\n",
    "\n",
    "  Function: np.fliplr()  \n",
    "  Purpose: Flips an array left to right (i.e., horizontally). This means that the columns of the array are reversed.   \n",
    "\n",
    "* flipud()  \n",
    "\n",
    "  Function: np.flipud()  \n",
    "  Purpose: Flips an array upside down (i.e., vertically). This means that the rows of the array are reversed.\n",
    "\n",
    "Higher-Dimensional Arrays:  \n",
    "\n",
    "fliplr(): Flips the last two dimensions left to right.  \n",
    "\n",
    "flipud(): Flips the first two dimensions upside down.\n"
   ]
  },
  {
   "cell_type": "code",
   "execution_count": null,
   "metadata": {},
   "outputs": [],
   "source": [
    "import numpy as np\n",
    "\n",
    "# Create a 2D array\n",
    "arr_2d = np.array([[1, 2, 3],\n",
    "                   [4, 5, 6],\n",
    "                   [7, 8, 9]])\n",
    "\n",
    "# Flip the array left to right\n",
    "flipped_lr = np.fliplr(arr_2d)\n",
    "\n",
    "print(\"Original Array:\\n\", arr_2d)\n",
    "print(\"Flipped Left to Right:\\n\", flipped_lr)\n",
    "\n",
    "# Flip the array upside down\n",
    "flipped_ud = np.flipud(arr_2d)\n",
    "\n",
    "print(\"Flipped Upside Down:\\n\", flipped_ud)\n"
   ]
  },
  {
   "cell_type": "markdown",
   "metadata": {},
   "source": [
    "##### 9. Discuss the functionality of the array_split() method in NumPy. How does it handle uneven splits?  \n",
    "Ans  \n",
    "\n",
    "The array_split() method in NumPy is a versatile function that allows for the flexible splitting of arrays into multiple sub-arrays. It efficiently handles uneven splits by creating sub-arrays of nearly equal size, making it an essential tool for data manipulation and analysis in Python."
   ]
  },
  {
   "cell_type": "code",
   "execution_count": null,
   "metadata": {},
   "outputs": [],
   "source": [
    "import numpy as np\n",
    "\n",
    "# Create a 1D array\n",
    "arr = np.array([1, 2, 3, 4, 5, 6, 7, 8, 9])\n",
    "\n",
    "# Split into 3 equal parts\n",
    "split_equal_3 = np.array_split(arr, 3)\n",
    "split_equal_4 = np.array_split(arr, 4)\n",
    "\n",
    "print(\"Original Array:\", arr)\n",
    "print(\"Split into 3 equal parts:\", split_equal_3)\n",
    "print(\"Split into 4 equal parts:\", split_equal_4)"
   ]
  },
  {
   "cell_type": "markdown",
   "metadata": {},
   "source": [
    "##### 10. Explain the concepts of vectorization and broadcasting in NumPy. How do they contribute to efficient array operations?  \n",
    "Ans  \n",
    "\n",
    "Vectorization and broadcasting are key features of NumPy that enhance performance and ease of use for array operations. They enable efficient computation by leveraging optimized routines and allow for flexible handling of arrays with different shapes, making NumPy a powerful tool for scientific computing and data analysis."
   ]
  },
  {
   "cell_type": "code",
   "execution_count": null,
   "metadata": {},
   "outputs": [],
   "source": [
    "# Example of Vectorization\n",
    "\n",
    "import numpy as np\n",
    "\n",
    "# Create two arrays\n",
    "a = np.array([1, 2, 3, 4])\n",
    "b = np.array([5, 6, 7, 8])\n",
    "\n",
    "# Vectorized addition\n",
    "result = a + b\n",
    "print(\"Vectorized Addition:\", result)\n",
    "\n",
    "# Example of Broadcasting\n",
    "\n",
    "# Create a 1D array and a 2D array\n",
    "a = np.array([1, 2, 3])\n",
    "b = np.array([[10], [20], [30]])\n",
    "\n",
    "# Broadcasting: adding a 1D array to a 2D array\n",
    "result_broadcast = a + b\n",
    "print(\"Broadcasting Result:\\n\", result_broadcast)\n",
    "\n",
    "\n"
   ]
  },
  {
   "cell_type": "markdown",
   "metadata": {},
   "source": [
    "## Practical Questions:"
   ]
  },
  {
   "cell_type": "markdown",
   "metadata": {},
   "source": [
    "##### 1. Create a 3x3 NumPy array with random integers between 1 and 100. Then, interchange its rows and columns  \n",
    "Ans "
   ]
  },
  {
   "cell_type": "code",
   "execution_count": null,
   "metadata": {},
   "outputs": [],
   "source": [
    "import numpy as np\n",
    "\n",
    "\n",
    "matrix = np.random.randint(1,101 , size =(3,3))\n",
    "\n",
    "\n",
    "\n",
    "transposed_matrix = matrix.T\n",
    "\n",
    "# Print the transposed matrix\n",
    "\n",
    "print(\"Original Matrix:\\n\",matrix)\n",
    "print(\"\\nTransposed Matrix:\\n\",transposed_matrix)\n"
   ]
  },
  {
   "cell_type": "markdown",
   "metadata": {},
   "source": [
    "##### 2. Generate a 1D NumPy array with 10 elements. Reshape it into a 2x5 array, then into a 5x2 array."
   ]
  },
  {
   "cell_type": "code",
   "execution_count": null,
   "metadata": {},
   "outputs": [],
   "source": [
    "import numpy as np\n",
    "\n",
    "# Generate a 1D array with 10 elements\n",
    "array_1d = np.arange(10)  # This creates an array with values [0, 1, 2, ..., 9]\n",
    "\n",
    "array_2x5 = array_1d.reshape(2, 5)   # Reshape into a 2x5 array)\n",
    "\n",
    "array_5x2 = array_1d.reshape(5, 2) # Reshape into a 5x2 array\n",
    "\n",
    "print(\"Original 1D Array: \\n\",array_1d)  #  Original 1D Array\n",
    "\n",
    "print(\"\\nReshaped to 2x5 Array:\\n\",array_2x5)  # Print the 2x5 array\n",
    "\n",
    "print(\"\\nReshaped to 5x2 Array:\\n\",array_5x2)  # Print the 5x2 array\n",
    "\n",
    "\n"
   ]
  },
  {
   "cell_type": "markdown",
   "metadata": {},
   "source": [
    "##### 3. Create a 4x4 NumPy array with random float values. Add a border of zeros around it, resulting in a 6x6 array"
   ]
  },
  {
   "cell_type": "code",
   "execution_count": null,
   "metadata": {},
   "outputs": [],
   "source": [
    "import numpy as np\n",
    "\n",
    "# Create a 4x4 array with random float values\n",
    "array_4x4 = np.random.random((4, 4))\n",
    "\n",
    "# Add a border of zeros around the 4x4 array\n",
    "array_with_border = np.pad(array_4x4, pad_width=1, constant_values=0,)\n",
    "\n",
    "print(\"Original 4x4 Array:\\n\", array_4x4)  # Print the original 4x4 array\n",
    "\n",
    "print(\"6x6 Array with Border of Zeros:\\n\",array_with_border)  # Print the resulting 6x6 array"
   ]
  },
  {
   "cell_type": "markdown",
   "metadata": {},
   "source": [
    "##### 4. Using NumPy, create an array of integers from 10 to 60 with a step of 5"
   ]
  },
  {
   "cell_type": "code",
   "execution_count": null,
   "metadata": {},
   "outputs": [],
   "source": [
    "import numpy as np\n",
    "\n",
    "array = np.arange(10, 61, 5)\n",
    "print(array)\n"
   ]
  },
  {
   "cell_type": "markdown",
   "metadata": {},
   "source": [
    "##### 5. Create a NumPy array of strings ['python', 'numpy', 'pandas']. Apply different case transformations (uppercase, lowercase, title case, etc.) to each element."
   ]
  },
  {
   "cell_type": "code",
   "execution_count": null,
   "metadata": {},
   "outputs": [],
   "source": [
    "import numpy as np\n",
    "\n",
    "# Create the array of strings\n",
    "array = np.array(['python', 'numpy', 'pandas'])\n",
    "\n",
    "# Apply different case transformations\n",
    "uppercase = np.char.upper(array)\n",
    "lowercase = np.char.lower(array)\n",
    "titlecase = np.char.title(array)\n",
    "capitalize = np.char.capitalize(array)\n",
    "\n",
    "# Print the results\n",
    "print(\"Original =\", array)\n",
    "print(\"Uppercase =\", uppercase)\n",
    "print(\"Lowercase =\", lowercase)\n",
    "print(\"Title Case =\", titlecase)\n",
    "print(\"Capitalized =\", capitalize)"
   ]
  },
  {
   "cell_type": "markdown",
   "metadata": {},
   "source": [
    "##### 6. Generate a NumPy array of words. Insert a space between each character of every word in the array."
   ]
  },
  {
   "cell_type": "code",
   "execution_count": null,
   "metadata": {},
   "outputs": [],
   "source": [
    "import numpy as np\n",
    "\n",
    "# Create the array of words\n",
    "words = np.array(['hello', 'world', 'numpy', 'python'])\n",
    "\n",
    "# Insert a space between each character of every word\n",
    "spaced_words = np.char.join(' ', words)\n",
    "\n",
    "# Print the results\n",
    "print(\"Original:\", words)\n",
    "print(\"Spaced:\", spaced_words)"
   ]
  },
  {
   "cell_type": "markdown",
   "metadata": {},
   "source": [
    "##### 7. Create two 2D NumPy arrays and perform element-wise addition, subtraction, multiplication, and division."
   ]
  },
  {
   "cell_type": "code",
   "execution_count": null,
   "metadata": {},
   "outputs": [],
   "source": [
    "import numpy as np\n",
    "\n",
    "# Create two 2D arrays\n",
    "array1 = np.array([[1, 2, 3], [4, 5, 6]])\n",
    "array2 = np.array([[7, 8, 9], [10, 11, 12]])\n",
    "\n",
    "# Perform element-wise operations\n",
    "addition = array1 + array2\n",
    "subtraction = array1 - array2\n",
    "multiplication = array1 * array2\n",
    "division = array1 / array2\n",
    "\n",
    "# Print the results\n",
    "print(\"Array 1:\\n\", array1,\" \\n\" , \"Array 2: \\n\", array2)\n",
    "\n",
    "print(\"Addition:\\n\", addition)\n",
    "print(\"Subtraction:\\n\", subtraction)\n",
    "print(\"Multiplication:\\n\", multiplication)\n",
    "print(\"Division:\\n\", division)\n"
   ]
  },
  {
   "cell_type": "markdown",
   "metadata": {},
   "source": [
    "##### 8. Use NumPy to create a 5x5 identity matrix, then extract its diagonal elements."
   ]
  },
  {
   "cell_type": "code",
   "execution_count": null,
   "metadata": {},
   "outputs": [],
   "source": [
    "import numpy as np\n",
    "\n",
    "# Create a 5x5 identity matrix\n",
    "identity_matrix = np.eye(5)\n",
    "\n",
    "# Extract the diagonal elements\n",
    "diagonal_elements = np.diag(identity_matrix)\n",
    "\n",
    "# Print the results\n",
    "print(\"Identity Matrix:\\n\", identity_matrix)\n",
    "print(\"Diagonal Elements:\", diagonal_elements)\n"
   ]
  },
  {
   "cell_type": "markdown",
   "metadata": {},
   "source": [
    "##### 9. Generate a NumPy array of 100 random integers between 0 and 1000. Find and display all prime numbers in this array."
   ]
  },
  {
   "cell_type": "code",
   "execution_count": null,
   "metadata": {},
   "outputs": [],
   "source": [
    "import numpy as np\n",
    "\n",
    "# Generate an array of 100 random integers between 0 and 1000\n",
    "random_integers = np.random.randint(0, 1001, size=100)\n",
    "\n",
    "# Function to check for prime numbers\n",
    "def is_prime(n):\n",
    "    if n <= 1:\n",
    "        return False\n",
    "    for i in range(2, int(n**0.5) + 1):\n",
    "        if n % i == 0:\n",
    "            return False\n",
    "    return True\n",
    "\n",
    "# Find all prime numbers in the array\n",
    "prime_numbers = [num for num in random_integers if is_prime(num)]\n",
    "\n",
    "# Print the results\n",
    "print(\"Random Integers:\\n\", random_integers)\n",
    "print(\"Prime Numbers:\", prime_numbers)\n"
   ]
  },
  {
   "cell_type": "markdown",
   "metadata": {},
   "source": [
    "##### 10. Create a NumPy array representing daily temperatures for a month. Calculate and display the weekly averages."
   ]
  },
  {
   "cell_type": "code",
   "execution_count": null,
   "metadata": {},
   "outputs": [],
   "source": [
    "import numpy as np\n",
    "\n",
    "# Generate a NumPy array representing daily temperatures for 28 days\n",
    "\n",
    "np.random.seed(0)  # For reproducibility\n",
    "daily_temperatures = np.random.randint(0, 101, size=28)  # Temperatures between 0 and 100\n",
    "\n",
    "\n",
    "weekly_temperatures = daily_temperatures.reshape(4, 7)  # Reshape the array into a 4-week format (7 days each)\n",
    "\n",
    "\n",
    "weekly_averages = np.mean(weekly_temperatures, axis=1)   # Calculate weekly averages\n",
    "\n",
    "# Print the results\n",
    "print(\"Daily Temperatures for the Month:\\n\", daily_temperatures)\n",
    "print(\"Weekly Temperatures:\\n\", weekly_temperatures)\n",
    "print(\"Weekly Averages:\", weekly_averages)\n"
   ]
  }
 ],
 "metadata": {
  "kernelspec": {
   "display_name": "Python 3",
   "language": "python",
   "name": "python3"
  },
  "language_info": {
   "codemirror_mode": {
    "name": "ipython",
    "version": 3
   },
   "file_extension": ".py",
   "mimetype": "text/x-python",
   "name": "python",
   "nbconvert_exporter": "python",
   "pygments_lexer": "ipython3",
   "version": "3.13.0"
  }
 },
 "nbformat": 4,
 "nbformat_minor": 2
}
