{
 "cells": [
  {
   "cell_type": "markdown",
   "metadata": {},
   "source": [
    "## Theory Questions"
   ]
  },
  {
   "cell_type": "markdown",
   "metadata": {},
   "source": [
    "1. What is the difference between a function and a method in Python  \n",
    "Ans=   \n",
    "* Function  \n",
    "i. Functions are standalone, global entities that can be called from anywhere in the program, without referencing a specific object.  \n",
    "ii. Functions are not tied to any particular object or class    \n",
    "iii.Functions can take arbitrary arguments, including keyword arguments.  \n",
    "\n",
    "* Method  \n",
    "i.Methods are part of a class and are associated with an instance (object) of that class.  \n",
    "ii. Methods are bound to a class and an instance of that class, which is referred to as self (or this in some languages).  \n",
    "iii. ethods are called on an instance of a class, using dot notation  "
   ]
  },
  {
   "cell_type": "code",
   "execution_count": null,
   "metadata": {},
   "outputs": [],
   "source": [
    "# Function\n",
    "\n",
    "def name(name):\n",
    "    print(f\" Data Analytics form {name}\")\n",
    "\n",
    "name(\"pw skill\")   # output Data Analytics form pw skill\n",
    "\n",
    "# Method\n",
    "\n",
    "class boy:\n",
    "    def my_method(self):\n",
    "        print (\"I am a boy\")\n",
    "\n",
    "boy = boy()\n",
    "boy.my_method()    # output I am a boy"
   ]
  },
  {
   "cell_type": "markdown",
   "metadata": {},
   "source": [
    "2. Explain the concept of function arguments and parameters in Python.  \n",
    "Ans =  \n",
    "* Function arguments  \n",
    "i. the actual values passed to a function when it’s called Function arguments  \n",
    "ii. Arguments can be passed in two ways  \n",
    "     1. Positional Arguments  example add(a, b).  \n",
    "     2. Arbitrary Arguments allow us to pass a varying number of values during a function call.   \n",
    "     3. keyword arguments  are assigned based on the name of the arguments   \n",
    "      \n",
    "\n",
    "* Function Parameters   \n",
    "i. variables declared within a function definition that are used to pass data into the function.   \n",
    "ii. They are specified inside the parentheses of the function declaration and are used to customize the output of the function.\n",
    "\n"
   ]
  },
  {
   "cell_type": "code",
   "execution_count": null,
   "metadata": {},
   "outputs": [],
   "source": [
    "# Function arguments \n",
    "\n",
    "   # Positional Arguments\n",
    "def add_numbers(a, b):\n",
    "    sum = a + b\n",
    "    print('Sum:', sum)\n",
    "\n",
    "add_numbers(210, 3)\n",
    "\n",
    "    # Arbitrary Arguments\n",
    "\n",
    "def find_sum(*numbers):\n",
    "    result = 0\n",
    "    \n",
    "    for num in numbers:\n",
    "        result = result + num\n",
    "    \n",
    "    print(\"find_sum = \", result)\n",
    "\n",
    "find_sum(1,2,3,4,5)\n",
    "\n",
    "find_sum(1,2,3,4,5,6,7,8,9,10 )\n",
    " \n",
    "    # keyword arguments\n",
    "  \n",
    "def name(first_name, last_name):\n",
    "    print('First Name:', first_name)\n",
    "    print('Last Name:', last_name)\n",
    "\n",
    "name(first_name = 'kishan',last_name = 'prajapati')"
   ]
  },
  {
   "cell_type": "markdown",
   "metadata": {},
   "source": [
    "3. What are the different ways to define and call a function in Python  \n",
    "Ans =   \n",
    "Use the def keyword followed by the function name, parentheses for arguments, and a colon (:) to indicate the function body.  "
   ]
  },
  {
   "cell_type": "code",
   "execution_count": null,
   "metadata": {},
   "outputs": [],
   "source": [
    "# Lambda Functions = Use the lambda keyword to define a small, anonymous function.\n",
    "\n",
    "sum=lambda x,y : x+y \n",
    "sum(5,7)\n",
    "\n",
    "# Nested Functions = Define a function within another function.\n",
    "\n",
    "def pw_skill():\n",
    "    def inner_ajay():\n",
    "        print(f\"hello inner_ajay\")\n",
    "    inner_ajay()\n",
    "\n",
    "print(pw_skill())\n",
    "\n",
    "    #Generator Functions = Use the yield keyword to define generators, which produce a sequence of values\n",
    "\n",
    "def fibonacci(n):\n",
    "    m = [0, 1]\n",
    "    for i in range(1, n):\n",
    "        m.append(m[-1] + m[-2])\n",
    "    return m\n",
    "\n",
    "\n",
    "print(fibonacci(10))\n",
    "\n",
    "# Calling Functions\n",
    "\n",
    "def you(name):\n",
    "    print(f\"hello {name}\")\n",
    "\n",
    "    # Function Call with Arguments: Pass arguments to the function in parentheses.\n",
    "\n",
    "you (\"kishan\")\n",
    "\n",
    "    # Keyword Arguments \n",
    "\n",
    "you (name= \"ajay\")\n",
    "\n",
    "    # Variable Arguments\n",
    "\n",
    "def student_multiple(*names):\n",
    "    for name in names:\n",
    "        print(f\"student_multiple = Hollo, {name}\")\n",
    "\n",
    "\n",
    "student_multiple(\"kishan\",\"kara\",\"Ram\",\"kareen\")\n",
    "\n",
    "    # Arbitrary Keyword Arguments= Use the **kwargs syntax to accept arbitrary keyword arguments.\n",
    "\n",
    "def porfile_dict(**porfile):\n",
    "    for key , value in porfile.items():\n",
    "        print(f\"{key} : {value}\")\n",
    "\n",
    "porfile_dict( name =\"kishan\", age=18, city=\"mumbai\")\n"
   ]
  },
  {
   "cell_type": "markdown",
   "metadata": {},
   "source": [
    "4. What is the purpose of the return statement in a Python function  \n",
    "Ans =  \n",
    "* Exit the function early, if needed  \n",
    "* Provide a result or value to the caller  \n",
    "* Allow the caller to use the returned value in subsequent code    \n",
    "\n",
    "functions, allowing you to control the flow of execution and pass values back to the caller.\n"
   ]
  },
  {
   "cell_type": "code",
   "execution_count": null,
   "metadata": {},
   "outputs": [],
   "source": [
    "def sub(a ,b):\n",
    "    return a - b\n",
    "\n",
    "ans = sub(5 , 4)\n",
    "print(ans)\n"
   ]
  },
  {
   "cell_type": "markdown",
   "metadata": {},
   "source": [
    "5. What are iterators in Python and how do they differ from iterables  \n",
    "Ans =  \n",
    " \n",
    "* Iterable  \n",
    "\n",
    "i. An iterable is an object that can be iterated over, meaning it can be used in a for loop or with the iter() function. Examples of iterables . Lists , Tuples , strings ,Dictionaries , Sets .\n",
    "  \n",
    "ii . Iterables provide a way to access their elements one at a time, without having to store them all in memory at once  \n",
    "\n",
    "* Iterators  \n",
    "\n",
    "i. Iterators in Python An iterator is an object that keeps track of its current position in an iterable and allows you to access the next element in the sequence.   \n",
    "    1.__next__() - returns the next element in the sequence  \n",
    "    2.__iter__() - returns the iterator object itself   \n",
    "\n",
    "* Differences between iterables and iterators\n",
    "\n",
    "i. Iterables are passive objects that can be iterated over, while iterators are active objects that control the iteration process  \n",
    "\n",
    "ii.  Iterators maintain an internal state, whereas iterables do not.  \n",
    "\n",
    "iii.  Iterables can be used directly in for loops or with iter(), while iterators must be used explicitly with next() or in a for loop."
   ]
  },
  {
   "cell_type": "code",
   "execution_count": null,
   "metadata": {},
   "outputs": [],
   "source": [
    "\n",
    "# use next and iter \n",
    "\n",
    "my_list = [ 1 , 2 , 3 ]\n",
    "iterator = iter(my_list)\n",
    "\n",
    "print(next(iterator)) # output 6\n",
    "\n",
    "print(next(iterator))  # output 3\n",
    "\n",
    "# Using for Loop\n",
    "\n",
    "list = [ 4 , 5 , 6 ]\n",
    "for element in list:\n",
    "    print(f\"Using for Loop {element}\")\n",
    "\n"
   ]
  },
  {
   "cell_type": "markdown",
   "metadata": {},
   "source": [
    "6. Explain the concept of generators in Python and how they are defined  \n",
    "Ans =  \n",
    "\n",
    "i. A generator function is defined using the def keyword.\n",
    "\n",
    "ii. instead of using return to exit the function, a generator function uses yield to produce a value and suspend its execution.  \n",
    "\n",
    "iii. The yield statement returns a value from the function, but it also remembers the current state of the function, including local variables and the program counter.  \n",
    "\n",
    "iv. When the generator is resumed, it picks up where it left off, allowing it to produce the next value in the sequence."
   ]
  },
  {
   "cell_type": "code",
   "execution_count": null,
   "metadata": {},
   "outputs": [],
   "source": [
    " ##\n",
    "squares_generator = (i * i for i in range(4))  # another way  # for i in range(10):\n",
    "for i in squares_generator:                                   #    print(f\"squares of {i} = {i*i} \")\n",
    "    print(i)                                \n"
   ]
  },
  {
   "cell_type": "markdown",
   "metadata": {},
   "source": [
    "7. What are the advantages of using generators over regular functions  \n",
    "Ans =   \n",
    "\n",
    "i.  Generators yield values one by one, without storing all the values in memory at once.  \n",
    "\n",
    "ii. Generators can make code more readable by breaking down complex computations into smaller, more manageable chunks   \n",
    "\n",
    "iii.Generators can be faster than regular functions when processing large datasets, as they avoid the need to store all the intermediate results in memory. \n",
    "\n",
    "iv. Generators can be used as iterators, allowing you to process the generated values on-the-fly, without having to store them in a list or other data structure. \n",
    "  \n",
    "v. With generators, you can inspect the intermediate results and debug the computation at each yield point, making it easier to identify and fix issues.  \n"
   ]
  },
  {
   "cell_type": "code",
   "execution_count": null,
   "metadata": {},
   "outputs": [],
   "source": [
    "#  Generator function\n",
    "\n",
    "def first_million_number():\n",
    "    for i in range(1000000):\n",
    "        yield i\n",
    "\n",
    "\n",
    "\n",
    "# Regular function\n",
    "\n",
    "def first_million_numbers():\n",
    "    numbers = []\n",
    "    for i in range(1000000):\n",
    "        numbers.append(i)\n",
    "    return numbers\n"
   ]
  },
  {
   "cell_type": "markdown",
   "metadata": {},
   "source": [
    "8. What is a lambda function in Python and when is it typically used  \n",
    "Ans =   \n",
    "\n",
    "i. As a parameter to a higher-order function: Many Python functions, such as map(), filter(), and sorted(), accept functions as arguments  \n",
    "\n",
    "ii. For simple, one-time-use functions: When you need a function that performs a specific, limited task, a lambda function can be a concise and efficient solution.  "
   ]
  },
  {
   "cell_type": "code",
   "execution_count": null,
   "metadata": {},
   "outputs": [],
   "source": [
    "# Lambda Functions = Use the lambda keyword to define a small, anonymous function.\n",
    "\n",
    "multiply = lambda x,y : x*y \n",
    "\n",
    "multiply(5,7 )\n"
   ]
  },
  {
   "cell_type": "markdown",
   "metadata": {},
   "source": [
    "9. Explain the purpose and usage of the `map()` function in Python.  \n",
    "Ans =\n",
    "The map() function in Python is a built-in function that applies a given function to each item of an iterable  and returns a new iterable with the transformed values"
   ]
  },
  {
   "cell_type": "code",
   "execution_count": null,
   "metadata": {},
   "outputs": [],
   "source": [
    "# Square each number in a list using map()\n",
    "\n",
    "number_list = [1,3,5,7,9]\n",
    "\n",
    "squared_number = list(map(lambda x : x ** 2 , number_list))\n",
    "print(\"squared_numbers = \" ,squared_number)\n",
    "\n",
    "# using map() add two list\n",
    "\n",
    "number_1 = [1,2,3,4]\n",
    "number_2 = [5,6,7,8]\n",
    "\n",
    "add_number = list(map(lambda x ,y : x+y , number_1 , number_2))\n",
    "\n",
    "print(\"add_number =\",add_number)"
   ]
  },
  {
   "cell_type": "markdown",
   "metadata": {},
   "source": [
    "10. What is the difference between map() , reduce() , and filter() functions in Python  \n",
    "Ans =  \n",
    "* map() applies a function to each element, transforming the data.  \n",
    "* filter() selects elements based on a condition.  \n",
    "* reduce() accumulates values by applying a binary function. \n"
   ]
  },
  {
   "cell_type": "code",
   "execution_count": null,
   "metadata": {},
   "outputs": [],
   "source": [
    "# map()\n",
    "\n",
    "number = [1,2,3,4,5,6]\n",
    "\n",
    "print(\"multiply list =\",list(map(lambda x : x**2 , number)))\n",
    "\n",
    "# filter()\n",
    "\n",
    "print(f\"even list ={list(filter(lambda x : x % 2 == 0 , number))}\")\n",
    "\n",
    "# reduce() \n",
    "\n",
    "from functools import reduce\n",
    "add = reduce(lambda x, y: x + y, number )\n",
    "print(add)\n"
   ]
  },
  {
   "cell_type": "markdown",
   "metadata": {},
   "source": [
    "# Practical Questions:\n"
   ]
  },
  {
   "cell_type": "markdown",
   "metadata": {},
   "source": [
    "1. Write a Python function that takes a list of numbers as input and returns the sum of all even numbers in\n",
    "the list."
   ]
  },
  {
   "cell_type": "code",
   "execution_count": null,
   "metadata": {},
   "outputs": [],
   "source": [
    "number = int(input(\"Enter the number of element in list \"))  # it take the input of element in list\n",
    "\n",
    "num= []   # it is empty list\n",
    "\n",
    "for i in range(number):   #  it repeat the number of times that have a list in element\n",
    "    x = int(input(\"One by One Enter the number of list \")) # it take the input of number in list\n",
    "    num.append(x)    # it append the number in empty list\n",
    "\n",
    "even = filter(lambda x : x % 2 ==0 , num)  # he find the even number in list of num\n",
    "print(\"sum even numbers =\", sum(even))  \n"
   ]
  },
  {
   "cell_type": "markdown",
   "metadata": {},
   "source": [
    "2. Create a Python function that accepts a string and returns the reverse of that string"
   ]
  },
  {
   "cell_type": "code",
   "execution_count": null,
   "metadata": {},
   "outputs": [],
   "source": [
    "string = str(input(\"Enter the string =\"))   # take the input as a string\n",
    "\n",
    "print(string[::-1])    # print reverse the string"
   ]
  },
  {
   "cell_type": "markdown",
   "metadata": {},
   "source": [
    "3. Implement a Python function that takes a list of integers and returns a new list containing the squares of\n",
    "each number."
   ]
  },
  {
   "cell_type": "code",
   "execution_count": null,
   "metadata": {},
   "outputs": [],
   "source": [
    "number_list = [ 2,3,4,5,6,7]\n",
    "print(\"square list =\", list(map(lambda x : x ** 2 , number_list))) "
   ]
  },
  {
   "cell_type": "markdown",
   "metadata": {},
   "source": [
    " 4.Write a Python function that checks if a given number is prime or not "
   ]
  },
  {
   "cell_type": "code",
   "execution_count": null,
   "metadata": {},
   "outputs": [],
   "source": [
    "\n",
    "def is_prime(n):\n",
    "    if n <= 1:                           # he find the number in big than 0 \n",
    "        return False\n",
    "    for i in range(2, int(n**0.5) + 1):                      \n",
    "        if n % i == 0:                         # if number divide by i it is not a prime number\n",
    "            return print(\"not a prime number\")\n",
    "    return print(\"it is a prime prime\")\n",
    "\n",
    "\n",
    "n = int(input(\"is a prime\"))\n",
    "is_prime(n)"
   ]
  },
  {
   "cell_type": "markdown",
   "metadata": {},
   "source": [
    "5. Create an iterator class in Python that generates the Fibonacci sequence up to a specified number of \n",
    "terms."
   ]
  },
  {
   "cell_type": "code",
   "execution_count": null,
   "metadata": {},
   "outputs": [],
   "source": [
    "nums = int(input(\" fibonacci number\"))   # take input\n",
    "\n",
    "def fibonacci(nums):\n",
    "    x, y = 0, 1           # x = 0 , y = 1\n",
    "    for i in range(nums):          # i in  range of input\n",
    "        x, y = y, x+y   \n",
    "        yield x \n",
    " \n",
    "k = fibonacci(nums)      # cell the def \n",
    "for i in range(nums):     # i in range of input\n",
    "    print(next(k))         # it repeat  the next what is input number and print"
   ]
  },
  {
   "cell_type": "markdown",
   "metadata": {},
   "source": [
    "6. Write a generator function in Python that yields the powers of 2 up to a given exponent"
   ]
  },
  {
   "cell_type": "code",
   "execution_count": null,
   "metadata": {},
   "outputs": [],
   "source": [
    "def powers_of_2(exponent):        \n",
    "    for i in range (exponent + 1):       # i in range of input + 1\n",
    "        yield 2**i\n",
    "\n",
    "\n",
    "number = int(input(\"number\"))         # it is input of int\n",
    "for power in powers_of_2(number):    # cell the def white input\n",
    "            print(power)       "
   ]
  },
  {
   "cell_type": "markdown",
   "metadata": {},
   "source": [
    "7. Implement a generator function that reads a file line by line and yields each line as a string."
   ]
  },
  {
   "cell_type": "code",
   "execution_count": null,
   "metadata": {},
   "outputs": [],
   "source": [
    "def read_files(file_path):\n",
    "    with open(file_path, 'r') as file:\n",
    "        for line in file:\n",
    "            yield line.string('\\n')  # Remove the newline character\n",
    "\n",
    "# Example usage\n",
    "name= {\n",
    "    2 : \"kishan\",\n",
    "    4 : \"karan\",\n",
    "    7 : \"ajay\"\n",
    "}\n",
    "file_path = name         # Replace with your file path\n",
    "for line in read_files(file_path):\n",
    "    print(line)"
   ]
  },
  {
   "cell_type": "markdown",
   "metadata": {},
   "source": [
    " 8. Use a lambda function in Python to sort a list of tuples based on the second element of each tuple"
   ]
  },
  {
   "cell_type": "code",
   "execution_count": null,
   "metadata": {},
   "outputs": [],
   "source": [
    "list_tuple = [(2,\" pen\"), (4, \"books\" ),(5,\"notebooks\"), (4,\"toys\"),(2 , \"cakes\") ]\n",
    "\n",
    "second_number = sorted(list_tuple , key = lambda x : x[1])  # sort the list tuple is second number element second number\n",
    "\n",
    "print(second_number)\n"
   ]
  },
  {
   "cell_type": "markdown",
   "metadata": {},
   "source": [
    " 9. Write a Python program that uses `map()` to convert a list of temperatures from Celsius to Fahrenheit"
   ]
  },
  {
   "cell_type": "code",
   "execution_count": null,
   "metadata": {},
   "outputs": [],
   "source": [
    "\n",
    "celsius_temps = [0, 10, 43, 65, 70, 80, 90,  100]   # List of temperatures in Celsius\n",
    "\n",
    "\n",
    "def celsius_to_fahrenheit(celsius):  # Function to convert Celsius to Fahrenheit\n",
    "    return (celsius * 9/5) + 32\n",
    "\n",
    "\n",
    "fahrenheit_temps = list(map(celsius_to_fahrenheit, celsius_temps))  # Use map to apply the conversion function to the list of temperatures\n",
    "\n",
    "\n",
    "print(\"Celsius temperatures:\", celsius_temps)\n",
    "print(\"Fahrenheit temperatures:\", fahrenheit_temps)\n"
   ]
  },
  {
   "cell_type": "markdown",
   "metadata": {},
   "source": [
    " 10. Create a Python program that uses filter() to remove all the vowels from a given string."
   ]
  },
  {
   "cell_type": "code",
   "execution_count": null,
   "metadata": {},
   "outputs": [],
   "source": [
    "\n",
    "def remove_vowels(input_string): \n",
    "\n",
    "    vowels = \"aeiouAEIOU\"\n",
    "    \n",
    "    filtered_string =''.join(filter(lambda char: char not in vowels, input_string)) # Use filter to remove vowels\n",
    "    return filtered_string\n",
    "\n",
    "\n",
    "string = \"Hello, World!\"\n",
    "result = remove_vowels(input_string)\n",
    "print(\"Original string =\", string)\n",
    "print(\"String without vowels =\", result)\n"
   ]
  },
  {
   "cell_type": "markdown",
   "metadata": {},
   "source": [
    " 11) Imagine an accounting routine used in a book shop. It works on a list with sublists, which look like this:\n",
    " Write a Python program, which returns a list with 2-tuples. Each tuple consists of the order number and the \n",
    "product of the price per item and the quantity. The product should be increased by 10,- € if the value of the \n",
    "order is smaller than 100,00 €.\n",
    " Write a Python program using lambda and map"
   ]
  },
  {
   "cell_type": "code",
   "execution_count": null,
   "metadata": {},
   "outputs": [],
   "source": [
    "orders = [\n",
    "    [1, 30.00, 3],  # Order number, price per item, quantity\n",
    "    [2, 70.00, 2],\n",
    "    [3, 80.00, 5],\n",
    "    [4, 50.00, 4]\n",
    "]\n",
    "\n",
    "# Calculate the order totals\n",
    "\n",
    "def calculate_totals(orders):       # Use map to create tuples with the order number and the total price\n",
    "    return list(map(lambda order: (\"order number = \" ,order[0], \n",
    "    \n",
    "    \"quantity = \",order[2] ,\n",
    "    \n",
    "    \"price = \" ,(order[1] * order[2]) + (10 if (order[1] * order[2]) < 10000 else 0) ), orders)) \n",
    "    \n",
    "result = calculate_totals(orders)\n",
    "print(result)"
   ]
  }
 ],
 "metadata": {
  "kernelspec": {
   "display_name": "Python 3",
   "language": "python",
   "name": "python3"
  },
  "language_info": {
   "codemirror_mode": {
    "name": "ipython",
    "version": 3
   },
   "file_extension": ".py",
   "mimetype": "text/x-python",
   "name": "python",
   "nbconvert_exporter": "python",
   "pygments_lexer": "ipython3",
   "version": "3.12.6"
  }
 },
 "nbformat": 4,
 "nbformat_minor": 2
}
