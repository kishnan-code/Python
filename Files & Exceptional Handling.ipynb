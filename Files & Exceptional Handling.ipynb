{
 "cells": [
  {
   "cell_type": "markdown",
   "metadata": {},
   "source": [
    "1. Discuss the scenarios where multithreading is preferable to multiprocessing and scenarios where\n",
    "multiprocessing is a better choice  \n",
    "Ans  \n",
    "Multithreading :  \n",
    "\n",
    "1. In these cases, threads can continue executing other operations while one thread is blocked, thus improving overall performance.  \n",
    "\n",
    "2. Since threads share the same memory space, it's easier to share data between threads without the need for inter-process communication (IPC).  \n",
    "\n",
    "3. If multiple parts of a program need to access and modify common data structures (like a shared cache), multithreading is simpler and more efficient than multiprocessing\n",
    "use of Multithreadin  \n",
    "\n",
    "* You have I/O-bound tasks (e.g., network, file operations). \n",
    "* You need shared memory between tasks. \n",
    "* You need lightweight concurrency with minimal overhead.  \n",
    "* You're working with Python's GIL for I/O-bound operations. \n",
    "\n",
    "Multiprocessing  \n",
    "\n",
    "1. Since each process has its own memory space and can run independently of others, there is no interference from the GIL. This allows true parallelism on multi-core system  \n",
    "\n",
    "2. Each process in a multiprocessing environment has its own memory space, which eliminates the need for locking mechanisms or dealing with race conditions associated with shared memory in multithreading.  \n",
    "\n",
    "3. This is particularly useful for tasks that need to run in complete isolation from each other.  \n",
    "\n",
    "Use Multiprocessing when:  \n",
    "\n",
    "\n",
    "* You have CPU-bound tasks (e.g., computations, data processing).  \n",
    "* You need to bypass the GIL and achieve true parallelism.  \n",
    "* You need isolation between tasks and better fault tolerance.  \n",
    "* You need to scale across multiple processors or machines.  \n",
    "* In practice, some systems can benefit from a hybrid approach, using both threads and processes. For example, a multiprocessing * * * pool   can handle CPU-intensive tasks, while each process might use threads to handle I/O-bound operations concurrently.   \n"
   ]
  },
  {
   "cell_type": "markdown",
   "metadata": {},
   "source": [
    "2. Describe what a process pool is and how it helps in managing multiple processes efficiently.  \n",
    "Ans  \n",
    "\n",
    "A process pool is a collection of worker processes that are managed by a pool manager, which efficiently handles the distribution and execution of tasks across these processes. Instead of creating and destroying processes repeatedly for each task (which can be expensive in terms of time and system resources), a process pool maintains a fixed number of worker processes that can be reused to perform multiple tasks   \n",
    "\n",
    "How a Process Pool Works:  \n",
    "\n",
    "1.Pool Initialization: When a process pool is created, a set number of worker processes are spawned and placed in a \"pool.\" These processes remain idle until a task is assigned to them.  \n",
    "\n",
    "2. Task Assignment: When a new task needs to be executed, instead of creating a new process, the pool assigns the task to one of the available worker processes.  \n",
    "\n",
    "3. Reusability: Once a worker completes a task, it doesn't exit; instead, it goes back into the pool, ready to be reused for the next task. This avoids the overhead of continuously creating and destroying processes.  \n",
    "\n",
    "4. Task Queue: Tasks are often placed in a queue, and workers take tasks from the queue as they become available. This allows for asynchronous and parallel execution of tasks.   \n",
    "\n",
    "5. Size Control: The pool has a predefined size, which determines how many worker processes can run in parallel. This helps control system resource usage and prevent overloading the system with too many concurrent processes"
   ]
  },
  {
   "cell_type": "markdown",
   "metadata": {},
   "source": [
    "3. Explain what multiprocessing is and why it is used in Python programs.   \n",
    "Ans  \n",
    "\n",
    "1. Bypassing the Global Interpreter Lock (GIL):  \n",
    "\n",
    "Python's GIL prevents multiple native threads from executing Python bytecodes at the same time in a single process. This makes Python threads unsuitable for CPU-bound tasks like number crunching or heavy computations. Multiprocessing helps avoid the GIL by creating separate processes, each with its own Python interpreter and memory space, allowing parallel execution on multi-core systems.  \n",
    "\n",
    "2. Parallel Processing:  \n",
    "\n",
    "For CPU-bound tasks, such as image processing, scientific simulations, or large-scale data analysis, multiprocessing enables parallel processing. This means different CPU cores can work on different tasks simultaneously, significantly speeding up the program's execution.  \n",
    "\n",
    "3. Improved Performance for Heavy Computation:  \n",
    "\n",
    "Since each process can run on its own core, multiprocessing improves the overall performance of tasks that would otherwise be slow or blocked by the GIL in a multithreaded setup. It makes the execution of compute-heavy tasks faster by distributing the workload across multiple cores.  \n",
    "\n",
    "4. Better Resource Utilization:  \n",
    "\n",
    "By using multiprocessing, you can maximize the utilization of a multi-core system. Instead of running on a single core, multiple processes can run on different cores, leveraging the hardware capabilities of modern processors.  \n",
    "\n",
    "5. Fault Isolation:  \n",
    "\n",
    "Since each process is independent, a crash in one process doesn’t affect others. This isolation can be beneficial for systems where fault tolerance and stability are important."
   ]
  },
  {
   "cell_type": "markdown",
   "metadata": {},
   "source": [
    "4. Write a Python program using multithreading where one thread adds numbers to a list, and another\n",
    "thread removes numbers from the list. Implement a mechanism to avoid race conditions using\n",
    "threading.Lock."
   ]
  },
  {
   "cell_type": "code",
   "execution_count": null,
   "metadata": {},
   "outputs": [],
   "source": [
    "import threading\n",
    "import time\n",
    "\n",
    "# Shared list\n",
    "shared_list = []\n",
    "\n",
    "# Lock to synchronize access to the shared list\n",
    "list_lock = threading.Lock()\n",
    "\n",
    "def add_numbers():\n",
    "    \"\"\"Thread function to add numbers to the shared list.\"\"\"\n",
    "    for i in range(5):\n",
    "        time.sleep(0.1)  # Simulate some work\n",
    "        with list_lock:  # Ensure exclusive access to shared_list\n",
    "            shared_list.append(i)\n",
    "            print(f\"Added: {i}\")\n",
    "        \n",
    "def remove_numbers():\n",
    "    \"\"\"Thread function to remove numbers from the shared list.\"\"\"\n",
    "    while True:\n",
    "        time.sleep(0.2)  # Simulate some work\n",
    "        with list_lock:  # Ensure exclusive access to shared_list\n",
    "            if shared_list:  # Only remove if list is not empty\n",
    "                removed = shared_list.pop(0)\n",
    "                print(f\"Removed: {removed}\")\n",
    "            else:\n",
    "                print(\"List is empty, nothing to remove.\")\n",
    "                break  # Exit the loop when list is empty\n",
    "\n",
    "# Create threads\n",
    "add_thread = threading.Thread(target=add_numbers)\n",
    "remove_thread = threading.Thread(target=remove_numbers)\n",
    "\n",
    "# Start threads\n",
    "add_thread.start()\n",
    "remove_thread.start()\n",
    "\n",
    "# Wait for both threads to finish\n",
    "add_thread.join()\n",
    "remove_thread.join()\n",
    "\n",
    "print(\"Final shared list:\", shared_list)\n"
   ]
  },
  {
   "cell_type": "markdown",
   "metadata": {},
   "source": [
    "5. Describe the methods and tools available in Python for safely sharing data between threads and\n",
    "processes   \n",
    "Ans  \n",
    "1. Thread-Safe Data Sharing in Python (using the threading module)  \n",
    "Threads within the same process share the same memory space, so they can access common data structures. However, this shared memory space also creates risks like race conditions, where multiple threads access and modify shared data simultaneously, leading to inconsistent results. To safely share data between threads\n",
    "\n",
    "2. Process-Safe Data Sharing in Python (using the multiprocessing module)  \n",
    "Unlike threads, processes do not share memory space. Each process has its own separate memory, so special mechanisms are needed for sharing data between processes. The multiprocessing module provides several ways to share data safely across processes.  "
   ]
  },
  {
   "cell_type": "markdown",
   "metadata": {},
   "source": [
    "6. Discuss why it’s crucial to handle exceptions in concurrent programs and the techniques available for\n",
    "doing so.  \n",
    "Ans  \n",
    "Handling exceptions in concurrent programs is crucial because the complexity of managing multiple threads or processes running simultaneously increases the potential for errors. In concurrent programming, errors may arise in one thread or process and can propagate unpredictably, potentially affecting the stability and correctness of the entire system.  \n",
    "\n",
    "1. Exception Handling in Multithreaded Programs (Using the threading Module)  \n",
    "In multithreaded applications, each thread runs independently, so exceptions raised within one thread do not directly affect other threads. However, if an exception is not handled properly, it can cause a thread to terminate unexpectedly.  \n",
    "\n",
    "2. Exception Handling in Multiprocessing Programs (Using the multiprocessing Module)  \n",
    "In multiprocessing programs, each process runs in its own memory space, so handling exceptions across processes requires special attention. If an exception occurs in one process, it will not automatically propagate to the parent process.    "
   ]
  },
  {
   "cell_type": "markdown",
   "metadata": {},
   "source": [
    "7. Create a program that uses a thread pool to calculate the factorial of numbers from 1 to 10 concurrently.\n",
    "Use concurrent.futures.ThreadPoolExecutor to manage the threads."
   ]
  },
  {
   "cell_type": "code",
   "execution_count": null,
   "metadata": {},
   "outputs": [],
   "source": [
    "import concurrent.futures\n",
    "import math\n",
    "\n",
    "# Function to compute the factorial of a number\n",
    "def factorial(n):\n",
    "    return math.factorial(n)\n",
    "\n",
    "def main():\n",
    "    # Use ThreadPoolExecutor to manage a pool of threads\n",
    "    with concurrent.futures.ThreadPoolExecutor(max_workers=5) as executor:\n",
    "        # Submit tasks to compute factorial of numbers from 1 to 10\n",
    "        futures = [executor.submit(factorial, i) for i in range(1, 11)]\n",
    "        \n",
    "        # Wait for all the futures to complete and print their results\n",
    "        for future in concurrent.futures.as_completed(futures):\n",
    "            print(f\"Factorial: {future.result()}\")\n",
    "\n",
    "if __name__ == '__main__':\n",
    "    main()\n"
   ]
  },
  {
   "cell_type": "markdown",
   "metadata": {},
   "source": [
    "8. Create a Python program that uses multiprocessing.Pool to compute the square of numbers from 1 to 10 in\n",
    "parallel. Measure the time taken to perform this computation using a pool of different sizes (e.g., 2, 4, 8\n",
    "processes).  "
   ]
  },
  {
   "cell_type": "code",
   "execution_count": null,
   "metadata": {},
   "outputs": [],
   "source": [
    "import multiprocessing\n",
    "\n",
    "import time\n",
    "start = time.perf_counter()\n",
    "def square(no):\n",
    "    result = no*no\n",
    "    print(f\"The square of {no} is {result}  .\")\n",
    "\n",
    "numbers = [1, 2, 3, 4, 6000]\n",
    "\n",
    "with multiprocessing.Pool() as pool:\n",
    "    pool.map(square, numbers)\n",
    "    \n",
    "end = time.perf_counter()\n",
    "\n",
    "print(f\"The program finished in {round(end-start, 2)} seconds\")"
   ]
  }
 ],
 "metadata": {
  "kernelspec": {
   "display_name": "base",
   "language": "python",
   "name": "python3"
  },
  "language_info": {
   "codemirror_mode": {
    "name": "ipython",
    "version": 3
   },
   "file_extension": ".py",
   "mimetype": "text/x-python",
   "name": "python",
   "nbconvert_exporter": "python",
   "pygments_lexer": "ipython3",
   "version": "3.12.7"
  }
 },
 "nbformat": 4,
 "nbformat_minor": 2
}
