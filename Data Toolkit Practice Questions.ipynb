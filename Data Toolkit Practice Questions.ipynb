{
 "cells": [
  {
   "cell_type": "markdown",
   "metadata": {},
   "source": [
    "1. Demonstrate three different methods for creating identical 2D arrays in NumPy. Provide the code for each\n",
    "method and the final output after each method"
   ]
  },
  {
   "cell_type": "code",
   "execution_count": null,
   "metadata": {},
   "outputs": [],
   "source": [
    "\n",
    "\n",
    "import numpy as np\n",
    "\n",
    "# Method 1: Using numpy.array()\n",
    "\n",
    "array1 = np.array([[1, 2, 3], [4, 5, 6]])\n",
    "print(\" Method 1: Using numpy.array() \\n\",array1)\n",
    "\n",
    "# Method 2: Using numpy.zeros()\n",
    "\n",
    "array2 = np.zeros((2, 3), dtype=int)\n",
    "array2[0] = [1, 2, 3]\n",
    "array2[1] = [4, 5, 6]\n",
    "print(\"Method 2:  Using numpy.zeros() \\n\",array2)\n",
    "\n",
    "\n",
    "# Method 3: Using numpy.full()\n",
    "\n",
    "array3 = np.full((2, 3), 0)\n",
    "array3[0] = [1, 2, 3]\n",
    "array3[1] = [4, 5, 6]\n",
    "print(\"Method 3: Using numpy.full() \\n\",array3)\n",
    "\n"
   ]
  },
  {
   "cell_type": "markdown",
   "metadata": {},
   "source": [
    "2. Using the Numpy function, generate an array of 100 evenly spaced numbers between 1 and 10 and Reshape that 1D array into a 2D array"
   ]
  },
  {
   "cell_type": "code",
   "execution_count": null,
   "metadata": {},
   "outputs": [],
   "source": [
    "import numpy as np\n",
    "array_1D = np.linspace(1, 10 ,100)\n",
    "print(\"array_1 = \\n\", array_1D)\n",
    "\n",
    "\n",
    "array_2D = array_1D.reshape(10,10)\n",
    "print(\"array_2D \\n\",array_2D)"
   ]
  },
  {
   "cell_type": "markdown",
   "metadata": {},
   "source": [
    "3. Explain the following termsg  \n",
    "\n",
    "a. The difference in np.array, np.asarray and np.asanyarray.  \n",
    "Ans   \n",
    "*  np.array:  \n",
    " This function creates an array from any object that exposes the array interface, such as lists or tuples. It copies the data by default, meaning it always returns a new array. You can specify the data type (dtype), and if you set copy=False, it may return a view instead of a copy, but this behavior can lead to unexpected results if the input is not already an array.  \n",
    "\n",
    "arr = np.array([1, 2, 3])  # Creates a new array  \n",
    "\n",
    "*  np.asarray:  \n",
    " This function also creates an array from any object, but it does not make a copy if the input is already an array (it will return the input array itself). This is useful when you want to ensure that you are working with a NumPy array but don't need a new copy if the input is already suitable.  \n",
    "\n",
    " arr = np.asarray([1, 2, 3])  \n",
    "\n",
    "*  np.asanyarray:  \n",
    " This function is similar to np.asarray, but it allows for subclasses of ndarray (like masked arrays) to be returned. So, if you pass a subclass of ndarray, it will return it as-is, while np.asarray would convert it to a standard ndarray.  \n",
    "\n",
    " arr = np.asanyarray(np.ma.masked_array([1, 2, 3]))  \n",
    "\n",
    "b. The difference between Deep copy and shallow copy  \n",
    "Ans  \n",
    "\n",
    "* Shallow Copy:  \n",
    "A shallow copy creates a new object, but it inserts references into it to the objects found in the original. This means that if the original object contains other objects (like lists or arrays), the new object will refer to the same inner objects. Modifications to these inner objects will affect both the original and the copied object.  \n",
    "\n",
    "*  Deep Copy: \n",
    "A deep copy creates a new object and recursively copies all objects found in the original, meaning that the new object is entirely independent of the original. Changes made to the copied object do not affect the original object."
   ]
  },
  {
   "cell_type": "code",
   "execution_count": null,
   "metadata": {},
   "outputs": [],
   "source": [
    "import  copy\n",
    "\n",
    "original = [[1, 2, 3], [4, 5, 6]]\n",
    "print(\"original = \",original)\n",
    "\n",
    "shallow_copied = copy.copy(original)\n",
    "shallow_copied[0][0] = 10\n",
    "print(\"shallow_copied =\" ,original)  # Output: [[10, 2, 3], [4, 5, 6]]\n",
    "\n",
    "deep_copied = copy.deepcopy(original)\n",
    "deep_copied[0][0] = 100\n",
    "print(\"deep_copied = \",original)  # Output: [[10, 2, 3], [4, 5, 6]]\n"
   ]
  },
  {
   "cell_type": "markdown",
   "metadata": {},
   "source": [
    "4. Generate a 3x3 array with random floating-point numbers between 5 and 20. Then, round each number in the array to 2 decimal places"
   ]
  },
  {
   "cell_type": "code",
   "execution_count": null,
   "metadata": {},
   "outputs": [],
   "source": [
    "import numpy as np\n",
    "\n",
    "# Generate a 3x3 array with random floats between 5 and 20\n",
    "random_array = np.random.uniform(5, 20, (3, 3))\n",
    "print(\"random_array \\n\",random_array)\n",
    "\n",
    "# Round each number to 2 decimal places\n",
    "rounded_array = np.round(random_array, 2)\n",
    "\n",
    "print(\"rounded_array \\n\" , rounded_array)\n"
   ]
  },
  {
   "cell_type": "markdown",
   "metadata": {},
   "source": [
    "5.  Create a NumPy array with random integers between 1 and 10 of shape (5, 6). After creating the array\n",
    "perform the following operations:\n",
    "\n",
    " a)Extract all even integers from array.\n",
    "\n",
    " b)Extract all odd integers from array"
   ]
  },
  {
   "cell_type": "code",
   "execution_count": null,
   "metadata": {},
   "outputs": [],
   "source": [
    "import numpy as np \n",
    "\n",
    "random_array = np.random.randint(1,10,size=(5,6))\n",
    "\n",
    "print(\"from random_array\\n\", random_array)\n",
    "\n",
    "# a) Extract all even integers from the array \n",
    "\n",
    "even_integers = random_array[random_array % 2 == 0]\n",
    "print(\"Even number from random_array:\\n\",even_integers)\n",
    "\n",
    "\n",
    "# b) Extract all odd integers from the array\n",
    "\n",
    "odd_integers = random_array[random_array % 2 != 0]\n",
    "print(\"Odd number from random_array:\\n\",odd_integers)\n"
   ]
  },
  {
   "cell_type": "markdown",
   "metadata": {},
   "source": [
    "6. Create a 3D NumPy array of shape (3, 3, 3) containing random integers between 1 and 10. Perform the following operations:\n",
    "\n",
    " a) Find the indices of the maximum values along each depth level (third axis).\n",
    "\n",
    " b) Perform element-wise multiplication of between both array"
   ]
  },
  {
   "cell_type": "code",
   "execution_count": null,
   "metadata": {},
   "outputs": [],
   "source": [
    "import numpy as np \n",
    "\n",
    "random_array_3d = np.random.randint(1,10,size=(3,3,3))\n",
    "print(\"random_array_3d \\n\",random_array_3d )\n",
    "\n",
    "#  a) Find the indices of the maximum values along each depth level (third axis).\n",
    "\n",
    "max = np.argmax(random_array_3d , axis=2)\n",
    "print(\"maximum values from random_array_3d  \\n \",max)\n",
    "\n",
    "#  b) Perform element-wise multiplication of between both array\n",
    "  \n",
    "elemen_twise_multiplication = random_array_3d * random_array_3d \n",
    "print(\"element-wise_multiplication of random_array_3d \\n\", elemen_twise_multiplication)"
   ]
  },
  {
   "cell_type": "markdown",
   "metadata": {},
   "source": [
    "7. Clean and transform the 'Phone' column in the sample dataset to remove non-numeric characters and convert it to a numeric data type. Also display the table attributes and data types of each column"
   ]
  },
  {
   "cell_type": "code",
   "execution_count": null,
   "metadata": {},
   "outputs": [],
   "source": [
    "import pandas as pd \n",
    "import numpy as np\n",
    " \n",
    "df = pd.read_csv(\"People Data.csv\")\n",
    "\n",
    "# Clean phone coloumn\n",
    "\n",
    "df['Phone'] = df['Phone'].replace(r'\\D', '', regex=True) \n",
    "df['Phone'] = pd.to_numeric(df['Phone'], errors='coerce') \n",
    "print(df)\n",
    "\n",
    "# Also display the table attributes and data types of each column \n",
    " \n",
    "print(df.dtypes)"
   ]
  },
  {
   "cell_type": "markdown",
   "metadata": {},
   "source": [
    "8.  Perform the following tasks using people dataset:\n",
    "\n",
    " a) Read the 'data.csv' file using pandas, skipping the first 50 rows.\n",
    "\n",
    " b) Only read the columns: 'Last Name', ‘Gender’,’Email’,‘Phone’ and ‘Salary’ from the file.\n",
    "\n",
    " c) Display the first 10 rows of the filtered dataset.\n",
    "\n",
    " d) Extract the ‘Salary’' column as a Series and display its last 5 values"
   ]
  },
  {
   "cell_type": "code",
   "execution_count": null,
   "metadata": {},
   "outputs": [],
   "source": [
    "import pandas as pd \n",
    "import numpy as np\n",
    " \n",
    "\n",
    " # a) Read the 'data.csv' file using pandas, skipping the first 50 rows.\n",
    "\n",
    "df = pd.read_csv(\"People Data.csv\", skiprows= 50)\n",
    "\n",
    "#  b) Only read the columns: 'Last Name', ‘Gender’,’Email’,‘Phone’ and ‘Salary’ from the file.\n",
    "f = pd.read_csv(\"People Data.csv\",  usecols=['Last Name','Gender','Email','Phone' , 'Salary'])\n",
    "\n",
    "# c) Display the first 10 rows of the filtered dataset.\n",
    "\n",
    "d = pd.read_csv(\"People Data.csv\")\n",
    "\n",
    "d.head(10)\n",
    "\n",
    "# d) Extract the ‘Salary’' column as a Series and display its last 5 values\n",
    "\n",
    "p = pd.read_csv(\"People Data.csv\")\n",
    "Salary = pd.Series(p['Salary'])\n",
    "\n",
    "Salary[-5:]\n"
   ]
  },
  {
   "cell_type": "markdown",
   "metadata": {},
   "source": [
    "9. Filter and select rows from the People_Dataset, where the “Last Name' column contains the name 'Duke', \n",
    "'Gender' column contains the word Female and ‘Salary’ should be less than 85000"
   ]
  },
  {
   "cell_type": "code",
   "execution_count": null,
   "metadata": {},
   "outputs": [],
   "source": [
    "import pandas as pd \n",
    "import numpy as np\n",
    " \n",
    "df = pd.read_csv(\"People Data.csv\") \n",
    "\n",
    "df[\"Last Name\"] = 'Duke'   #  “Last Name' column contains the name 'Duke'\n",
    "\n",
    "df['Gender'] = ' Female'  #  'Gender' column contains the word Female\n",
    "\n",
    "df[df['Salary'] < 85000]  # ‘Salary’ should be less than 85000\n"
   ]
  },
  {
   "cell_type": "markdown",
   "metadata": {},
   "source": [
    "10. Create a 7*5 Dataframe in Pandas using a series generated from 35 random integers between 1 to 6?"
   ]
  },
  {
   "cell_type": "code",
   "execution_count": null,
   "metadata": {},
   "outputs": [],
   "source": [
    "\n",
    "import pandas as pd\n",
    "import numpy as np\n",
    "\n",
    "# Generate 35 random integers between 1 and 6\n",
    "random_integers = np.random.randint(1, 6, size=35)\n",
    "\n",
    "# Create a DataFrame with 7 rows and 5 columns\n",
    "df = pd.DataFrame(random_integers.reshape(7, 5), columns=['A', 'B', 'C', 'D', 'E'])\n",
    "\n",
    "print(df)"
   ]
  },
  {
   "cell_type": "markdown",
   "metadata": {},
   "source": [
    "11. Create two different Series, each of length 50, with the following criteria:\n",
    "\n",
    "a) The first Series should contain random numbers ranging from 10 to 50.\n",
    "\n",
    "b) The second Series should contain random numbers ranging from 100 to 1000.\n",
    "\n",
    "c) Create a DataFrame by joining these Series by column, and, change the names of the columns to 'col1', 'col2',\n",
    "etc"
   ]
  },
  {
   "cell_type": "code",
   "execution_count": null,
   "metadata": {},
   "outputs": [],
   "source": [
    "import pandas as pd \n",
    "import numpy as np\n",
    "\n",
    "# a) The first Series should contain random numbers ranging from 10 to 50.\n",
    "\n",
    "frist =pd.Series(np.random.randint(10,50, size= 50))\n",
    "\n",
    "\n",
    "# b) The second Series should contain random numbers ranging from 100 to 1000.\n",
    "\n",
    "second =pd.Series(np.random.randint(100,1000 , size= 50))\n",
    "\n",
    "# c) Create a DataFrame by joining these Series by column, and, change the names of the columns to 'col1', 'col2', etc\n",
    "\n",
    "df = pd.concat([frist,second] , axis=1  )\n",
    "df.columns = [\"col1\",\"col2\"]\n",
    "df"
   ]
  },
  {
   "cell_type": "markdown",
   "metadata": {},
   "source": [
    "12.  Perform the following operations using people data set:\n",
    "\n",
    "a) Delete the 'Email', 'Phone', and 'Date of birth' columns from the dataset.\n",
    "\n",
    "b) Delete the rows containing any missing values.\n",
    "\n",
    "c) Print the final output also"
   ]
  },
  {
   "cell_type": "code",
   "execution_count": null,
   "metadata": {},
   "outputs": [],
   "source": [
    "import pandas as pd \n",
    "import numpy as np\n",
    " \n",
    "df = pd.read_csv(\"People Data.csv\")\n",
    "\n",
    "# a) Delete the 'Email', 'Phone', and 'Date of birth' columns from the dataset.\n",
    "\n",
    "df = df.drop(['Email', 'Phone',\"Date of birth\"], axis= 1)\n",
    "\n",
    "# b) Delete the rows containing any missing values.\n",
    " \n",
    "df = df.dropna()\n",
    " \n",
    "# c) Print the final output also \n",
    "\n",
    "df\n",
    "\n",
    "\n"
   ]
  },
  {
   "cell_type": "markdown",
   "metadata": {},
   "source": [
    "13.  Create two NumPy arrays, x and y, each containing 100 random float values between 0 and 1. Perform the\n",
    "following tasks using Matplotlib and NumPy:\n",
    "\n",
    "a) Create a scatter plot using x and y, setting the color of the points to red and the marker style to 'o'.\n",
    "\n",
    "b) Add a horizontal line at y = 0.5 using a dashed line style and label it as 'y = 0.5'.\n",
    "\n",
    "c) Add a vertical line at x = 0.5 using a dotted line style and label it as 'x = 0.5'.\n",
    "\n",
    "d) Label the x-axis as 'X-axis' and the y-axis as 'Y-axis'.\n",
    "\n",
    "e) Set the title of the plot as 'Advanced Scatter Plot of Random Values'.\n",
    "\n",
    "f) Display a legend for the scatter plot, the horizontal line, and the vertical line.\n"
   ]
  },
  {
   "cell_type": "code",
   "execution_count": null,
   "metadata": {},
   "outputs": [],
   "source": [
    "import pandas as pd \n",
    "import numpy as np\n",
    "import matplotlib.pyplot as plt \n",
    "\n",
    "\n",
    "#  Create two NumPy arrays, x and y, each containing 100 random float values between 0 and  1\n",
    "x = np.random.rand(100)\n",
    "y = np.random.rand(100)\n",
    "\n",
    "# a) Create a scatter plot using x and y, setting the color of the points to red and the marker style to 'o'.\n",
    "\n",
    "plt.scatter(x,y , color = \"red\" , marker= \"o\")\n",
    "\n",
    "# b) Add a horizontal line at y = 0.5 using a dashed line style and label it as 'y = 0.5'.\n",
    "\n",
    "plt.axhline(y=0.5, color='green', linestyle='--', label='y = 0.5')\n",
    "\n",
    "# c) Add a vertical line at x = 0.5 using a dotted line style and label it as 'x = 0.5'.\n",
    "\n",
    "plt.axvline(x=0.5, color='blue', linestyle=':', label='x = 0.5')\n",
    "\n",
    "# d) Label the x-axis as 'X-axis' and the y-axis as 'Y-axis'\n",
    "\n",
    "plt.xlabel(\"X-axis\")\n",
    "plt.ylabel(\"Y-axis\")\n",
    "\n",
    "# e) Set the title of the plot as 'Advanced Scatter Plot of Random Values'.\n",
    "\n",
    "plt.title('Advanced Scatter Plot of Random Values')\n",
    "\n",
    "# f) Display a legend for the scatter plot, the horizontal line, and the vertical line.\n",
    "\n",
    "plt.legend()\n",
    "plt.show"
   ]
  },
  {
   "cell_type": "markdown",
   "metadata": {},
   "source": [
    "14. Create a time-series dataset in a Pandas DataFrame with columns: 'Date', 'Temperature', 'Humidity' and\n",
    "Perform the following tasks using Matplotlib:\n",
    "\n",
    "a) Plot the 'Temperature' and 'Humidity' on the same plot with different y-axes (left y-axis for 'Temperature' and\n",
    "right y-axis for 'Humidity').\n",
    "\n",
    "b) Label the x-axis as 'Date'.\n",
    "\n",
    "c) Set the title of the plot as 'Temperature and Humidity Over Time'."
   ]
  },
  {
   "cell_type": "code",
   "execution_count": null,
   "metadata": {},
   "outputs": [],
   "source": [
    "import pandas as pd\n",
    "import numpy as np\n",
    "import matplotlib.pyplot as plt\n",
    "\n",
    "# Set the date range\n",
    "date_range = pd.date_range(start='2023-01-01', end='2023-12-31', freq='D')\n",
    "\n",
    "# Generate random temperature values (e.g., between -10 and 35 degrees Celsius)\n",
    "temperature = np.random.uniform(low=-10, high=35, size=len(date_range))\n",
    "\n",
    "# Generate random humidity values (e.g., between 20 and 100 percent)\n",
    "humidity = np.random.uniform(low=20, high=100, size=len(date_range))\n",
    "\n",
    "# Create the DataFrame\n",
    "\n",
    "time_series_data = pd.DataFrame({\n",
    "    'Date': date_range,\n",
    "    'Temperature': temperature,\n",
    "    'Humidity': humidity\n",
    "})\n",
    "\n",
    "# a) Plot the 'Temperature' and 'Humidity' on the same plot with different y-axes (left y-axis for 'Temperature' and right y-axis for 'Humidity').\n",
    "\n",
    "fig, ax1 = plt.subplots(figsize=(12, 6))\n",
    "\n",
    "# Plot Temperature on the left y-axis\n",
    "\n",
    "ax1.plot(time_series_data['Date'], time_series_data['Temperature'], color='tab:red', label='Temperature')\n",
    "ax1.tick_params(axis='y', labelcolor='tab:red')\n",
    "\n",
    "# Create a second y-axis for Humidity\n",
    "\n",
    "ax2.plot(time_series_data['Date'], time_series_data['Humidity'], color='tab:blue', label='Humidity')\n",
    "ax2.tick_params(axis='y', labelcolor='tab:blue')\n",
    "\n",
    "# b) Label the x-axis as 'Date'.\n",
    "\n",
    "ax1.set_xlabel('Date')\n",
    "ax1.set_ylabel('Temperature (°C)', color='tab:red')\n",
    "ax2 = ax1.twinx()\n",
    "ax2.set_ylabel('Humidity (%)', color='tab:blue')\n",
    "\n",
    "# c) Set the title of the plot as 'Temperature and Humidity Over Time'.\n",
    "\n",
    "plt.title('Temperature and Humidity Over Time')\n",
    "ax1.grid()\n",
    "plt.show()\n"
   ]
  },
  {
   "cell_type": "markdown",
   "metadata": {},
   "source": [
    "15. Create a NumPy array data containing 1000 samples from a normal distribution. Perform the following\n",
    "tasks using Matplotlib:\n",
    "\n",
    "a) Plot a histogram of the data with 30 bins.\n",
    "\n",
    "b) Overlay a line plot representing the normal distribution's probability density function (PDF).\n",
    "\n",
    "c) Label the x-axis as 'Value' and the y-axis as 'Frequency/Probability'.\n",
    "\n",
    "d) Set the title of the plot as 'Histogram with PDF Overlay'."
   ]
  },
  {
   "cell_type": "code",
   "execution_count": null,
   "metadata": {},
   "outputs": [],
   "source": [
    "import numpy as np\n",
    "import matplotlib.pyplot as plt\n",
    "from scipy.stats import norm\n",
    "\n",
    "# Parameters for the normal distribution\n",
    "mean = 0      # Mean of the distribution\n",
    "std_dev = 1   # Standard deviation of the distribution\n",
    "num_samples = 1000  # Number of samples\n",
    "\n",
    "# Generate the samples\n",
    "data = np.random.normal(loc=mean, scale=std_dev, size=num_samples)\n",
    "\n",
    "# a) Plot a histogram of the data with 30 bins.\n",
    "\n",
    "plt.hist(data, bins=30, density=True, alpha=0.6, color='g', label='Sample Histogram')\n",
    "\n",
    "# b) Overlay a line plot representing the normal distribution's probability density function (PDF).\n",
    "\n",
    "x = np.linspace(data.min(), data.max(), 100)\n",
    "\n",
    "pdf = norm.pdf(x, loc=mean, scale=std_dev)\n",
    "\n",
    "plt.plot(x, pdf, 'r-', linewidth=2, label='Normal Distribution PDF')\n",
    "\n",
    "# c) Label the x-axis as 'Value' and the y-axis as 'Frequency/Probability'.\n",
    "\n",
    "plt.xlabel('Value')\n",
    "plt.ylabel('Frequency/Probability')\n",
    "\n",
    "# d) Set the title of the plot as 'Histogram with PDF Overlay'.\n",
    " \n",
    "plt.title('Histogram of Samples and Normal Distribution PDF')\n",
    "plt.legend()\n",
    "\n",
    "# Show the plot\n",
    "plt.show()\n"
   ]
  },
  {
   "cell_type": "markdown",
   "metadata": {},
   "source": [
    "16. Create a Seaborn scatter plot of two random arrays, color points based on their position relative to the\n",
    "origin (quadrants), add a legend, label the axes, and set the title as 'Quadrant-wise Scatter Plot'."
   ]
  },
  {
   "cell_type": "code",
   "execution_count": null,
   "metadata": {},
   "outputs": [],
   "source": [
    "import numpy as np\n",
    "import pandas as pd\n",
    "import seaborn as sns\n",
    "import matplotlib.pyplot as plt\n",
    "\n",
    "# Generate random data\n",
    "np.random.seed(0)  # For reproducibility\n",
    "x = np.random.randn(100)\n",
    "y = np.random.randn(100)\n",
    "\n",
    "data = pd.DataFrame({'x': x, 'y': y})\n",
    "\n",
    "plt.figure(figsize=(10, 6))\n",
    "sns.scatterplot(data=data, palette='viridis', s=100)\n",
    "\n",
    "# Add titles and labels\n",
    "plt.title('Quadrant-wise Scatter Plot')\n",
    "plt.xlabel('X-axis')\n",
    "plt.ylabel('Y-axis')\n",
    "plt.axhline(0, color='black', lw=0.8, ls='--')\n",
    "plt.axvline(0, color='black', lw=0.8, ls='--')\n",
    "plt.grid()\n",
    "plt.legend(title='Quadrants')\n",
    "plt.show()\n"
   ]
  },
  {
   "cell_type": "markdown",
   "metadata": {},
   "source": [
    "17. With Bokeh, plot a line chart of a sine wave function, add grid lines, label the axes, and set the title as 'Sine\n",
    "Wave Function"
   ]
  },
  {
   "cell_type": "code",
   "execution_count": 11,
   "metadata": {},
   "outputs": [
    {
     "data": {
      "text/html": [
       "    <style>\n",
       "        .bk-notebook-logo {\n",
       "            display: block;\n",
       "            width: 20px;\n",
       "            height: 20px;\n",
       "            background-image: url(data:image/png;base64,iVBORw0KGgoAAAANSUhEUgAAABQAAAAUCAYAAACNiR0NAAAABHNCSVQICAgIfAhkiAAAAAlwSFlzAAALEgAACxIB0t1+/AAAABx0RVh0U29mdHdhcmUAQWRvYmUgRmlyZXdvcmtzIENTNui8sowAAAOkSURBVDiNjZRtaJVlGMd/1/08zzln5zjP1LWcU9N0NkN8m2CYjpgQYQXqSs0I84OLIC0hkEKoPtiH3gmKoiJDU7QpLgoLjLIQCpEsNJ1vqUOdO7ppbuec5+V+rj4ctwzd8IIbbi6u+8f1539dt3A78eXC7QizUF7gyV1fD1Yqg4JWz84yffhm0qkFqBogB9rM8tZdtwVsPUhWhGcFJngGeWrPzHm5oaMmkfEg1usvLFyc8jLRqDOMru7AyC8saQr7GG7f5fvDeH7Ej8CM66nIF+8yngt6HWaKh7k49Soy9nXurCi1o3qUbS3zWfrYeQDTB/Qj6kX6Ybhw4B+bOYoLKCC9H3Nu/leUTZ1JdRWkkn2ldcCamzrcf47KKXdAJllSlxAOkRgyHsGC/zRday5Qld9DyoM4/q/rUoy/CXh3jzOu3bHUVZeU+DEn8FInkPBFlu3+nW3Nw0mk6vCDiWg8CeJaxEwuHS3+z5RgY+YBR6V1Z1nxSOfoaPa4LASWxxdNp+VWTk7+4vzaou8v8PN+xo+KY2xsw6une2frhw05CTYOmQvsEhjhWjn0bmXPjpE1+kplmmkP3suftwTubK9Vq22qKmrBhpY4jvd5afdRA3wGjFAgcnTK2s4hY0/GPNIb0nErGMCRxWOOX64Z8RAC4oCXdklmEvcL8o0BfkNK4lUg9HTl+oPlQxdNo3Mg4Nv175e/1LDGzZen30MEjRUtmXSfiTVu1kK8W4txyV6BMKlbgk3lMwYCiusNy9fVfvvwMxv8Ynl6vxoByANLTWplvuj/nF9m2+PDtt1eiHPBr1oIfhCChQMBw6Aw0UulqTKZdfVvfG7VcfIqLG9bcldL/+pdWTLxLUy8Qq38heUIjh4XlzZxzQm19lLFlr8vdQ97rjZVOLf8nclzckbcD4wxXMidpX30sFd37Fv/GtwwhzhxGVAprjbg0gCAEeIgwCZyTV2Z1REEW8O4py0wsjeloKoMr6iCY6dP92H6Vw/oTyICIthibxjm/DfN9lVz8IqtqKYLUXfoKVMVQVVJOElGjrnnUt9T9wbgp8AyYKaGlqingHZU/uG2NTZSVqwHQTWkx9hxjkpWDaCg6Ckj5qebgBVbT3V3NNXMSiWSDdGV3hrtzla7J+duwPOToIg42ChPQOQjspnSlp1V+Gjdged7+8UN5CRAV7a5EdFNwCjEaBR27b3W890TE7g24NAP/mMDXRWrGoFPQI9ls/MWO2dWFAar/xcOIImbbpA3zgAAAABJRU5ErkJggg==);\n",
       "        }\n",
       "    </style>\n",
       "    <div>\n",
       "        <a href=\"https://bokeh.org\" target=\"_blank\" class=\"bk-notebook-logo\"></a>\n",
       "        <span id=\"e655bc75-96f6-41b2-9903-099919e69e58\">Loading BokehJS ...</span>\n",
       "    </div>\n"
      ]
     },
     "metadata": {},
     "output_type": "display_data"
    },
    {
     "data": {
      "application/javascript": "'use strict';\n(function(root) {\n  function now() {\n    return new Date();\n  }\n\n  const force = true;\n\n  if (typeof root._bokeh_onload_callbacks === \"undefined\" || force === true) {\n    root._bokeh_onload_callbacks = [];\n    root._bokeh_is_loading = undefined;\n  }\n\nconst JS_MIME_TYPE = 'application/javascript';\n  const HTML_MIME_TYPE = 'text/html';\n  const EXEC_MIME_TYPE = 'application/vnd.bokehjs_exec.v0+json';\n  const CLASS_NAME = 'output_bokeh rendered_html';\n\n  /**\n   * Render data to the DOM node\n   */\n  function render(props, node) {\n    const script = document.createElement(\"script\");\n    node.appendChild(script);\n  }\n\n  /**\n   * Handle when an output is cleared or removed\n   */\n  function handleClearOutput(event, handle) {\n    function drop(id) {\n      const view = Bokeh.index.get_by_id(id)\n      if (view != null) {\n        view.model.document.clear()\n        Bokeh.index.delete(view)\n      }\n    }\n\n    const cell = handle.cell;\n\n    const id = cell.output_area._bokeh_element_id;\n    const server_id = cell.output_area._bokeh_server_id;\n\n    // Clean up Bokeh references\n    if (id != null) {\n      drop(id)\n    }\n\n    if (server_id !== undefined) {\n      // Clean up Bokeh references\n      const cmd_clean = \"from bokeh.io.state import curstate; print(curstate().uuid_to_server['\" + server_id + \"'].get_sessions()[0].document.roots[0]._id)\";\n      cell.notebook.kernel.execute(cmd_clean, {\n        iopub: {\n          output: function(msg) {\n            const id = msg.content.text.trim()\n            drop(id)\n          }\n        }\n      });\n      // Destroy server and session\n      const cmd_destroy = \"import bokeh.io.notebook as ion; ion.destroy_server('\" + server_id + \"')\";\n      cell.notebook.kernel.execute(cmd_destroy);\n    }\n  }\n\n  /**\n   * Handle when a new output is added\n   */\n  function handleAddOutput(event, handle) {\n    const output_area = handle.output_area;\n    const output = handle.output;\n\n    // limit handleAddOutput to display_data with EXEC_MIME_TYPE content only\n    if ((output.output_type != \"display_data\") || (!Object.prototype.hasOwnProperty.call(output.data, EXEC_MIME_TYPE))) {\n      return\n    }\n\n    const toinsert = output_area.element.find(\".\" + CLASS_NAME.split(' ')[0]);\n\n    if (output.metadata[EXEC_MIME_TYPE][\"id\"] !== undefined) {\n      toinsert[toinsert.length - 1].firstChild.textContent = output.data[JS_MIME_TYPE];\n      // store reference to embed id on output_area\n      output_area._bokeh_element_id = output.metadata[EXEC_MIME_TYPE][\"id\"];\n    }\n    if (output.metadata[EXEC_MIME_TYPE][\"server_id\"] !== undefined) {\n      const bk_div = document.createElement(\"div\");\n      bk_div.innerHTML = output.data[HTML_MIME_TYPE];\n      const script_attrs = bk_div.children[0].attributes;\n      for (let i = 0; i < script_attrs.length; i++) {\n        toinsert[toinsert.length - 1].firstChild.setAttribute(script_attrs[i].name, script_attrs[i].value);\n        toinsert[toinsert.length - 1].firstChild.textContent = bk_div.children[0].textContent\n      }\n      // store reference to server id on output_area\n      output_area._bokeh_server_id = output.metadata[EXEC_MIME_TYPE][\"server_id\"];\n    }\n  }\n\n  function register_renderer(events, OutputArea) {\n\n    function append_mime(data, metadata, element) {\n      // create a DOM node to render to\n      const toinsert = this.create_output_subarea(\n        metadata,\n        CLASS_NAME,\n        EXEC_MIME_TYPE\n      );\n      this.keyboard_manager.register_events(toinsert);\n      // Render to node\n      const props = {data: data, metadata: metadata[EXEC_MIME_TYPE]};\n      render(props, toinsert[toinsert.length - 1]);\n      element.append(toinsert);\n      return toinsert\n    }\n\n    /* Handle when an output is cleared or removed */\n    events.on('clear_output.CodeCell', handleClearOutput);\n    events.on('delete.Cell', handleClearOutput);\n\n    /* Handle when a new output is added */\n    events.on('output_added.OutputArea', handleAddOutput);\n\n    /**\n     * Register the mime type and append_mime function with output_area\n     */\n    OutputArea.prototype.register_mime_type(EXEC_MIME_TYPE, append_mime, {\n      /* Is output safe? */\n      safe: true,\n      /* Index of renderer in `output_area.display_order` */\n      index: 0\n    });\n  }\n\n  // register the mime type if in Jupyter Notebook environment and previously unregistered\n  if (root.Jupyter !== undefined) {\n    const events = require('base/js/events');\n    const OutputArea = require('notebook/js/outputarea').OutputArea;\n\n    if (OutputArea.prototype.mime_types().indexOf(EXEC_MIME_TYPE) == -1) {\n      register_renderer(events, OutputArea);\n    }\n  }\n  if (typeof (root._bokeh_timeout) === \"undefined\" || force === true) {\n    root._bokeh_timeout = Date.now() + 5000;\n    root._bokeh_failed_load = false;\n  }\n\n  const NB_LOAD_WARNING = {'data': {'text/html':\n     \"<div style='background-color: #fdd'>\\n\"+\n     \"<p>\\n\"+\n     \"BokehJS does not appear to have successfully loaded. If loading BokehJS from CDN, this \\n\"+\n     \"may be due to a slow or bad network connection. Possible fixes:\\n\"+\n     \"</p>\\n\"+\n     \"<ul>\\n\"+\n     \"<li>re-rerun `output_notebook()` to attempt to load from CDN again, or</li>\\n\"+\n     \"<li>use INLINE resources instead, as so:</li>\\n\"+\n     \"</ul>\\n\"+\n     \"<code>\\n\"+\n     \"from bokeh.resources import INLINE\\n\"+\n     \"output_notebook(resources=INLINE)\\n\"+\n     \"</code>\\n\"+\n     \"</div>\"}};\n\n  function display_loaded(error = null) {\n    const el = document.getElementById(\"e655bc75-96f6-41b2-9903-099919e69e58\");\n    if (el != null) {\n      const html = (() => {\n        if (typeof root.Bokeh === \"undefined\") {\n          if (error == null) {\n            return \"BokehJS is loading ...\";\n          } else {\n            return \"BokehJS failed to load.\";\n          }\n        } else {\n          const prefix = `BokehJS ${root.Bokeh.version}`;\n          if (error == null) {\n            return `${prefix} successfully loaded.`;\n          } else {\n            return `${prefix} <b>encountered errors</b> while loading and may not function as expected.`;\n          }\n        }\n      })();\n      el.innerHTML = html;\n\n      if (error != null) {\n        const wrapper = document.createElement(\"div\");\n        wrapper.style.overflow = \"auto\";\n        wrapper.style.height = \"5em\";\n        wrapper.style.resize = \"vertical\";\n        const content = document.createElement(\"div\");\n        content.style.fontFamily = \"monospace\";\n        content.style.whiteSpace = \"pre-wrap\";\n        content.style.backgroundColor = \"rgb(255, 221, 221)\";\n        content.textContent = error.stack ?? error.toString();\n        wrapper.append(content);\n        el.append(wrapper);\n      }\n    } else if (Date.now() < root._bokeh_timeout) {\n      setTimeout(() => display_loaded(error), 100);\n    }\n  }\n\n  function run_callbacks() {\n    try {\n      root._bokeh_onload_callbacks.forEach(function(callback) {\n        if (callback != null)\n          callback();\n      });\n    } finally {\n      delete root._bokeh_onload_callbacks\n    }\n    console.debug(\"Bokeh: all callbacks have finished\");\n  }\n\n  function load_libs(css_urls, js_urls, callback) {\n    if (css_urls == null) css_urls = [];\n    if (js_urls == null) js_urls = [];\n\n    root._bokeh_onload_callbacks.push(callback);\n    if (root._bokeh_is_loading > 0) {\n      console.debug(\"Bokeh: BokehJS is being loaded, scheduling callback at\", now());\n      return null;\n    }\n    if (js_urls == null || js_urls.length === 0) {\n      run_callbacks();\n      return null;\n    }\n    console.debug(\"Bokeh: BokehJS not loaded, scheduling load and callback at\", now());\n    root._bokeh_is_loading = css_urls.length + js_urls.length;\n\n    function on_load() {\n      root._bokeh_is_loading--;\n      if (root._bokeh_is_loading === 0) {\n        console.debug(\"Bokeh: all BokehJS libraries/stylesheets loaded\");\n        run_callbacks()\n      }\n    }\n\n    function on_error(url) {\n      console.error(\"failed to load \" + url);\n    }\n\n    for (let i = 0; i < css_urls.length; i++) {\n      const url = css_urls[i];\n      const element = document.createElement(\"link\");\n      element.onload = on_load;\n      element.onerror = on_error.bind(null, url);\n      element.rel = \"stylesheet\";\n      element.type = \"text/css\";\n      element.href = url;\n      console.debug(\"Bokeh: injecting link tag for BokehJS stylesheet: \", url);\n      document.body.appendChild(element);\n    }\n\n    for (let i = 0; i < js_urls.length; i++) {\n      const url = js_urls[i];\n      const element = document.createElement('script');\n      element.onload = on_load;\n      element.onerror = on_error.bind(null, url);\n      element.async = false;\n      element.src = url;\n      console.debug(\"Bokeh: injecting script tag for BokehJS library: \", url);\n      document.head.appendChild(element);\n    }\n  };\n\n  function inject_raw_css(css) {\n    const element = document.createElement(\"style\");\n    element.appendChild(document.createTextNode(css));\n    document.body.appendChild(element);\n  }\n\n  const js_urls = [\"https://cdn.bokeh.org/bokeh/release/bokeh-3.6.0.min.js\", \"https://cdn.bokeh.org/bokeh/release/bokeh-gl-3.6.0.min.js\", \"https://cdn.bokeh.org/bokeh/release/bokeh-widgets-3.6.0.min.js\", \"https://cdn.bokeh.org/bokeh/release/bokeh-tables-3.6.0.min.js\", \"https://cdn.bokeh.org/bokeh/release/bokeh-mathjax-3.6.0.min.js\"];\n  const css_urls = [];\n\n  const inline_js = [    function(Bokeh) {\n      Bokeh.set_log_level(\"info\");\n    },\nfunction(Bokeh) {\n    }\n  ];\n\n  function run_inline_js() {\n    if (root.Bokeh !== undefined || force === true) {\n      try {\n            for (let i = 0; i < inline_js.length; i++) {\n      inline_js[i].call(root, root.Bokeh);\n    }\n\n      } catch (error) {display_loaded(error);throw error;\n      }if (force === true) {\n        display_loaded();\n      }} else if (Date.now() < root._bokeh_timeout) {\n      setTimeout(run_inline_js, 100);\n    } else if (!root._bokeh_failed_load) {\n      console.log(\"Bokeh: BokehJS failed to load within specified timeout.\");\n      root._bokeh_failed_load = true;\n    } else if (force !== true) {\n      const cell = $(document.getElementById(\"e655bc75-96f6-41b2-9903-099919e69e58\")).parents('.cell').data().cell;\n      cell.output_area.append_execute_result(NB_LOAD_WARNING)\n    }\n  }\n\n  if (root._bokeh_is_loading === 0) {\n    console.debug(\"Bokeh: BokehJS loaded, going straight to plotting\");\n    run_inline_js();\n  } else {\n    load_libs(css_urls, js_urls, function() {\n      console.debug(\"Bokeh: BokehJS plotting callback run at\", now());\n      run_inline_js();\n    });\n  }\n}(window));",
      "application/vnd.bokehjs_load.v0+json": ""
     },
     "metadata": {},
     "output_type": "display_data"
    },
    {
     "data": {
      "text/html": [
       "\n",
       "  <div id=\"b0a6e6c8-6aec-4756-ae3a-313c5b3ba89b\" data-root-id=\"p1001\" style=\"display: contents;\"></div>\n"
      ]
     },
     "metadata": {},
     "output_type": "display_data"
    },
    {
     "data": {
      "application/javascript": "(function(root) {\n  function embed_document(root) {\n  const docs_json = {\"703717ea-246f-4013-a46c-6c113157da0f\":{\"version\":\"3.6.0\",\"title\":\"Bokeh Application\",\"roots\":[{\"type\":\"object\",\"name\":\"Figure\",\"id\":\"p1001\",\"attributes\":{\"width\":800,\"height\":400,\"x_range\":{\"type\":\"object\",\"name\":\"DataRange1d\",\"id\":\"p1002\"},\"y_range\":{\"type\":\"object\",\"name\":\"DataRange1d\",\"id\":\"p1003\"},\"x_scale\":{\"type\":\"object\",\"name\":\"LinearScale\",\"id\":\"p1011\"},\"y_scale\":{\"type\":\"object\",\"name\":\"LinearScale\",\"id\":\"p1012\"},\"title\":{\"type\":\"object\",\"name\":\"Title\",\"id\":\"p1004\",\"attributes\":{\"text\":\"Sine Wave Function\"}},\"renderers\":[{\"type\":\"object\",\"name\":\"GlyphRenderer\",\"id\":\"p1042\",\"attributes\":{\"data_source\":{\"type\":\"object\",\"name\":\"ColumnDataSource\",\"id\":\"p1036\",\"attributes\":{\"selected\":{\"type\":\"object\",\"name\":\"Selection\",\"id\":\"p1037\",\"attributes\":{\"indices\":[],\"line_indices\":[]}},\"selection_policy\":{\"type\":\"object\",\"name\":\"UnionRenderers\",\"id\":\"p1038\"},\"data\":{\"type\":\"map\",\"entries\":[[\"x\",{\"type\":\"ndarray\",\"array\":{\"type\":\"bytes\",\"data\":\"AAAAAAAAAACRGkt8Vz+wP5EaS3xXP8A/2qdwOgNfyD+RGkt8Vz/QPzXhXVstT9Q/2qdwOgNf2D9+boMZ2W7cP5EaS3xXP+A/433Ua0JH4j814V1bLU/kP4dE50oYV+Y/2qdwOgNf6D8sC/op7mbqP35ugxnZbuw/0NEMCcR27j+RGkt8Vz/wPzrMD/RMQ/E/433Ua0JH8j+ML5njN0vzPzXhXVstT/Q/3pIi0yJT9T+HROdKGFf2PzD2q8INW/c/2qdwOgNf+D+DWTWy+GL5PywL+inuZvo/1by+oeNq+z9+boMZ2W78PycgSJHOcv0/0NEMCcR2/j95g9GAuXr/P5EaS3xXPwBAZnMtOFLBAEA6zA/0TEMBQA8l8q9HxQFA433Ua0JHAkC41rYnPckCQIwvmeM3SwNAYYh7nzLNA0A14V1bLU8EQAo6QBco0QRA3pIi0yJTBUCz6wSPHdUFQIdE50oYVwZAXJ3JBhPZBkAw9qvCDVsHQAVPjn4I3QdA2qdwOgNfCECuAFP2/eAIQINZNbL4YglAV7IXbvPkCUAsC/op7mYKQABk3OXo6ApA1by+oeNqC0CpFaFd3uwLQH5ugxnZbgxAUsdl1dPwDEAnIEiRznINQPt4Kk3J9A1A0NEMCcR2DkCkKu/EvvgOQHmD0YC5eg9ATdyzPLT8D0CRGkt8Vz8QQPtGPNpUgBBAZnMtOFLBEEDQnx6WTwIRQDrMD/RMQxFApPgAUkqEEUAPJfKvR8URQHlR4w1FBhJA433Ua0JHEkBNqsXJP4gSQLjWtic9yRJAIgOohToKE0CML5njN0sTQPZbikE1jBNAYYh7nzLNE0DLtGz9Lw4UQDXhXVstTxRAoA1PuSqQFEAKOkAXKNEUQHRmMXUlEhVA3pIi0yJTFUBJvxMxIJQVQLPrBI8d1RVAHRj27BoWFkCHROdKGFcWQPJw2KgVmBZAXJ3JBhPZFkDGybpkEBoXQDD2q8INWxdAmyKdIAucF0AFT45+CN0XQG97f9wFHhhA2qdwOgNfGEBE1GGYAKAYQK4AU/b94BhAGC1EVPshGUA=\"},\"shape\":[100],\"dtype\":\"float64\",\"order\":\"little\"}],[\"y\",{\"type\":\"ndarray\",\"array\":{\"type\":\"bytes\",\"data\":\"AAAAAAAAAAADhrXMjDywP/CDAnguNMA/kayggGI5yD+aiNkBzxLQP9ofIiFb+NM/+5MNU1HJ1z+CQNqEwoHbPxhNPurYHd8/C1i7+O1M4T9GhZoMGvniPxwWPFK3keQ/ABg/lCAV5j+GGZN4xoHnP4hAIRwx1ug/lkFFlgER6j93zoZi8zDrPzKcHq/dNOw/EyzujrQb7T/B8a4NiuTtP/0jPCWPju4/3176khQZ7z8XHIGMi4PvPzTGy1KGze8/g6xao7j27z/vOc8G+P7vP2Zmsvw75u8/70I4BJ6s7z+/l/eBWVLvPwOssILL1+4/xVNiW3I97j+TIxAn7YPtP1EHwCL7q+w/qkxY6Hq26z+RVimJaaTqP5aCD4nhduk/oSg6uxkv6D+158MBZM7mP9KHZvErVuU/8nixWvXH4z8mRkW6WiXiP2ITsJELcOA/8qg+VZVT3T/agWKM2KjZP/gLinSo49U/v412/ecH0j/lKaSyIjPMP+bENsZjOcQ/3FNHxZdVuD+s23zJpD6gP8nbfMmkPqC/6lNHxZdVuL/txDbGYznEv9wppLIiM8y/wo12/ecH0r/0C4p0qOPVv92BYozYqNm/7qg+VZVT3b9jE7CRC3DgvyRGRbpaJeK/83ixWvXH47/Rh2bxK1blv7fnwwFkzua/oCg6uxkv6L+Xgg+J4Xbpv5BWKYlppOq/rExY6Hq2679SB8Ai+6vsv5MjECftg+2/xFNiW3I97r8ErLCCy9fuv7+X94FZUu+/70I4BJ6s779lZrL8O+bvv+85zwb4/u+/g6xao7j27780xstShs3vvxgcgYyLg++/3176khQZ77/9Izwlj47uv8Lxrg2K5O2/EizujrQb7b8xnB6v3TTsv3fOhmLzMOu/l0FFlgER6r+GQCEcMdbov4QZk3jGgee/ABg/lCAV5r8fFjxSt5Hkv0SFmgwa+eK/Cli7+O1M4b8bTT7q2B3fv4dA2oTCgdu/9ZMNU1HJ17/ZHyIhW/jTv52I2QHPEtC/gKyggGI5yL/ogwJ4LjTAvwSGtcyMPLC/B1wUMyamsbw=\"},\"shape\":[100],\"dtype\":\"float64\",\"order\":\"little\"}]]}}},\"view\":{\"type\":\"object\",\"name\":\"CDSView\",\"id\":\"p1043\",\"attributes\":{\"filter\":{\"type\":\"object\",\"name\":\"AllIndices\",\"id\":\"p1044\"}}},\"glyph\":{\"type\":\"object\",\"name\":\"Line\",\"id\":\"p1039\",\"attributes\":{\"x\":{\"type\":\"field\",\"field\":\"x\"},\"y\":{\"type\":\"field\",\"field\":\"y\"},\"line_color\":\"blue\",\"line_width\":2}},\"nonselection_glyph\":{\"type\":\"object\",\"name\":\"Line\",\"id\":\"p1040\",\"attributes\":{\"x\":{\"type\":\"field\",\"field\":\"x\"},\"y\":{\"type\":\"field\",\"field\":\"y\"},\"line_color\":\"blue\",\"line_alpha\":0.1,\"line_width\":2}},\"muted_glyph\":{\"type\":\"object\",\"name\":\"Line\",\"id\":\"p1041\",\"attributes\":{\"x\":{\"type\":\"field\",\"field\":\"x\"},\"y\":{\"type\":\"field\",\"field\":\"y\"},\"line_color\":\"blue\",\"line_alpha\":0.2,\"line_width\":2}}}}],\"toolbar\":{\"type\":\"object\",\"name\":\"Toolbar\",\"id\":\"p1010\",\"attributes\":{\"tools\":[{\"type\":\"object\",\"name\":\"PanTool\",\"id\":\"p1023\"},{\"type\":\"object\",\"name\":\"WheelZoomTool\",\"id\":\"p1024\",\"attributes\":{\"renderers\":\"auto\"}},{\"type\":\"object\",\"name\":\"BoxZoomTool\",\"id\":\"p1025\",\"attributes\":{\"overlay\":{\"type\":\"object\",\"name\":\"BoxAnnotation\",\"id\":\"p1026\",\"attributes\":{\"syncable\":false,\"line_color\":\"black\",\"line_alpha\":1.0,\"line_width\":2,\"line_dash\":[4,4],\"fill_color\":\"lightgrey\",\"fill_alpha\":0.5,\"level\":\"overlay\",\"visible\":false,\"left\":{\"type\":\"number\",\"value\":\"nan\"},\"right\":{\"type\":\"number\",\"value\":\"nan\"},\"top\":{\"type\":\"number\",\"value\":\"nan\"},\"bottom\":{\"type\":\"number\",\"value\":\"nan\"},\"left_units\":\"canvas\",\"right_units\":\"canvas\",\"top_units\":\"canvas\",\"bottom_units\":\"canvas\",\"handles\":{\"type\":\"object\",\"name\":\"BoxInteractionHandles\",\"id\":\"p1032\",\"attributes\":{\"all\":{\"type\":\"object\",\"name\":\"AreaVisuals\",\"id\":\"p1031\",\"attributes\":{\"fill_color\":\"white\",\"hover_fill_color\":\"lightgray\"}}}}}}}},{\"type\":\"object\",\"name\":\"SaveTool\",\"id\":\"p1033\"},{\"type\":\"object\",\"name\":\"ResetTool\",\"id\":\"p1034\"},{\"type\":\"object\",\"name\":\"HelpTool\",\"id\":\"p1035\"}]}},\"left\":[{\"type\":\"object\",\"name\":\"LinearAxis\",\"id\":\"p1018\",\"attributes\":{\"ticker\":{\"type\":\"object\",\"name\":\"BasicTicker\",\"id\":\"p1019\",\"attributes\":{\"mantissas\":[1,2,5]}},\"formatter\":{\"type\":\"object\",\"name\":\"BasicTickFormatter\",\"id\":\"p1020\"},\"axis_label\":\"Y\",\"major_label_policy\":{\"type\":\"object\",\"name\":\"AllLabels\",\"id\":\"p1021\"}}}],\"below\":[{\"type\":\"object\",\"name\":\"LinearAxis\",\"id\":\"p1013\",\"attributes\":{\"ticker\":{\"type\":\"object\",\"name\":\"BasicTicker\",\"id\":\"p1014\",\"attributes\":{\"mantissas\":[1,2,5]}},\"formatter\":{\"type\":\"object\",\"name\":\"BasicTickFormatter\",\"id\":\"p1015\"},\"axis_label\":\"X\",\"major_label_policy\":{\"type\":\"object\",\"name\":\"AllLabels\",\"id\":\"p1016\"}}}],\"center\":[{\"type\":\"object\",\"name\":\"Grid\",\"id\":\"p1017\",\"attributes\":{\"axis\":{\"id\":\"p1013\"},\"grid_line_color\":\"gray\",\"grid_line_alpha\":0.5}},{\"type\":\"object\",\"name\":\"Grid\",\"id\":\"p1022\",\"attributes\":{\"dimension\":1,\"axis\":{\"id\":\"p1018\"},\"grid_line_color\":\"gray\",\"grid_line_alpha\":0.5}},{\"type\":\"object\",\"name\":\"Legend\",\"id\":\"p1045\",\"attributes\":{\"location\":\"top_left\",\"items\":[{\"type\":\"object\",\"name\":\"LegendItem\",\"id\":\"p1046\",\"attributes\":{\"label\":{\"type\":\"value\",\"value\":\"sin(x)\"},\"renderers\":[{\"id\":\"p1042\"}]}}]}}]}}]}};\n  const render_items = [{\"docid\":\"703717ea-246f-4013-a46c-6c113157da0f\",\"roots\":{\"p1001\":\"b0a6e6c8-6aec-4756-ae3a-313c5b3ba89b\"},\"root_ids\":[\"p1001\"]}];\n  void root.Bokeh.embed.embed_items_notebook(docs_json, render_items);\n  }\n  if (root.Bokeh !== undefined) {\n    embed_document(root);\n  } else {\n    let attempts = 0;\n    const timer = setInterval(function(root) {\n      if (root.Bokeh !== undefined) {\n        clearInterval(timer);\n        embed_document(root);\n      } else {\n        attempts++;\n        if (attempts > 100) {\n          clearInterval(timer);\n          console.log(\"Bokeh: ERROR: Unable to run BokehJS code because BokehJS library is missing\");\n        }\n      }\n    }, 10, root)\n  }\n})(window);",
      "application/vnd.bokehjs_exec.v0+json": ""
     },
     "metadata": {
      "application/vnd.bokehjs_exec.v0+json": {
       "id": "p1001"
      }
     },
     "output_type": "display_data"
    }
   ],
   "source": [
    "from bokeh.plotting import figure, show\n",
    "from bokeh.io import output_notebook\n",
    "import numpy as np\n",
    "\n",
    "# Prepare the output\n",
    "output_notebook()  # Use output_file('sine_wave.html') if running as a script\n",
    "\n",
    "# Generate data for the sine wave\n",
    "x = np.linspace(0, 2 * np.pi, 100)\n",
    "y = np.sin(x)\n",
    "\n",
    "# Create a new plot with a title and axis labels\n",
    "p = figure(title='Sine Wave Function', x_axis_label='X', y_axis_label='Y', width=800, height=400)\n",
    "\n",
    "# Add grid lines\n",
    "p.grid.grid_line_color = 'gray'\n",
    "p.grid.grid_line_alpha = 0.5\n",
    "\n",
    "# Add a line renderer for the sine wave\n",
    "p.line(x, y, line_width=2, color='blue', legend_label='sin(x)')\n",
    "\n",
    "# Show the legend\n",
    "p.legend.location = 'top_left'\n",
    "\n",
    "# Show the plot\n",
    "show(p)\n"
   ]
  },
  {
   "cell_type": "markdown",
   "metadata": {},
   "source": [
    "18. Using Bokeh, generate a bar chart of randomly generated categorical data, color bars based on their\n",
    "values, add hover tooltips to display exact values, label the axes, and set the title as 'Random Categorical\n",
    "Bar Chart"
   ]
  },
  {
   "cell_type": "code",
   "execution_count": null,
   "metadata": {},
   "outputs": [],
   "source": [
    "from bokeh.plotting import figure, show\n",
    "from bokeh.io import output_notebook\n",
    "from bokeh.models import ColumnDataSource, HoverTool\n",
    "import numpy as np\n",
    "import pandas as pd\n",
    "\n",
    "# Prepare the output\n",
    "output_notebook()  # Use output_file('bar_chart.html') if running as a script\n",
    "\n",
    "# Generate random categorical data\n",
    "categories = [f'Category {i}' for i in range(1, 11)]\n",
    "values = np.random.randint(1, 100, size=len(categories))\n",
    "\n",
    "# Create a DataFrame for better data handling\n",
    "data = pd.DataFrame({'categories': categories, 'values': values})\n",
    "\n",
    "# Create a ColumnDataSource\n",
    "source = ColumnDataSource(data)\n",
    "\n",
    "# Create a new plot with a title and axis labels\n",
    "p = figure(x_range=categories, title='Random Categorical Bar Chart',\n",
    "           x_axis_label='Categories', y_axis_label='Values', width=800, height=400)\n",
    "\n",
    "# Add a hover tool to display exact values\n",
    "hover = HoverTool()\n",
    "hover.tooltips = [(\"Category\", \"@categories\"), (\"Value\", \"@values\")]\n",
    "p.add_tools(hover)\n",
    "\n",
    "# Color bars based on their values\n",
    "p.vbar(x='categories', top='values', source=source, width=0.9,\n",
    "        line_color='white', fill_color='blue')\n",
    "\n",
    "# Show the plot\n",
    "show(p)\n"
   ]
  },
  {
   "cell_type": "markdown",
   "metadata": {},
   "source": [
    "19. Using Plotly, create a basic line plot of a randomly generated dataset, label the axes, and set the title as \n",
    "'Simple Line Plot'8"
   ]
  },
  {
   "cell_type": "code",
   "execution_count": null,
   "metadata": {},
   "outputs": [],
   "source": [
    "import numpy as np\n",
    "import plotly.graph_objects as go\n",
    "\n",
    "# Generate random data\n",
    "np.random.seed(0)  # For reproducibility\n",
    "x = np.linspace(0, 10, 100)  # X values\n",
    "y = np.random.rand(100)  # Random Y values\n",
    "\n",
    "# Create a line plot\n",
    "fig = go.Figure()\n",
    "\n",
    "fig.add_trace(go.Scatter(x=x, y=y, mode='lines', name='Random Data'))\n",
    "\n",
    "# Add titles and labels\n",
    "fig.update_layout(\n",
    "    title='Simple Line Plot',\n",
    "    xaxis_title='X Axis',\n",
    "    yaxis_title='Y Axis'\n",
    ")\n",
    "\n",
    "# Show the plot\n",
    "fig.show()\n"
   ]
  },
  {
   "cell_type": "markdown",
   "metadata": {},
   "source": [
    "20. Using Plotly, create an interactive pie chart of randomly generated data, add labels and percentages, set \n",
    "the title as 'Interactive Pie Chart'."
   ]
  },
  {
   "cell_type": "code",
   "execution_count": null,
   "metadata": {},
   "outputs": [],
   "source": [
    "import numpy as np\n",
    "import plotly.graph_objects as go\n",
    "\n",
    "# Generate random data\n",
    "np.random.seed(0)  # For reproducibility\n",
    "labels = ['Category A', 'Category B', 'Category C', 'Category D', 'Category E']\n",
    "values = np.random.randint(1, 100, size=len(labels))  # Random values for each category\n",
    "\n",
    "# Create a pie chart\n",
    "fig = go.Figure(data=[go.Pie(labels=labels, values=values, textinfo='percent+label', hole=0.3)])  # Add a hole for a donut chart                             \n",
    "                        \n",
    "# Update layout\n",
    "fig.update_layout(\n",
    "    title='Interactive Pie Chart',\n",
    ")\n",
    "\n",
    "# Show the plot\n",
    "fig.show()\n"
   ]
  },
  {
   "cell_type": "markdown",
   "metadata": {},
   "source": []
  }
 ],
 "metadata": {
  "kernelspec": {
   "display_name": "base",
   "language": "python",
   "name": "python3"
  },
  "language_info": {
   "codemirror_mode": {
    "name": "ipython",
    "version": 3
   },
   "file_extension": ".py",
   "mimetype": "text/x-python",
   "name": "python",
   "nbconvert_exporter": "python",
   "pygments_lexer": "ipython3",
   "version": "3.12.7"
  }
 },
 "nbformat": 4,
 "nbformat_minor": 2
}
