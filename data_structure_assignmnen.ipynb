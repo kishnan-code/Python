{
 "cells": [
  {
   "cell_type": "markdown",
   "metadata": {},
   "source": [
    "1.Discuss string slicing and provide examples.  \n",
    "Ans =  \n",
    "* You can return a range of characters by using the slice syntax.   \n",
    "*  Specify the start index and the end index, separated by a colon, to return a part of the string."
   ]
  },
  {
   "cell_type": "code",
   "execution_count": 28,
   "metadata": {},
   "outputs": [
    {
     "name": "stdout",
     "output_type": "stream",
     "text": [
      "There\n",
      "village\n",
      "Trsolei lg\n",
      "e'np\n"
     ]
    }
   ],
   "source": [
    "const = \"There's no place like village.\"\n",
    "\n",
    "print(const[0:5]) # Output: There\n",
    "\n",
    "print(const[-8:-1]) # output village\n",
    "\n",
    "print(const[0::3])  # output Trsolei lg\n",
    "\n",
    "print(const[2:12:3])   # output e'np\n"
   ]
  },
  {
   "cell_type": "markdown",
   "metadata": {},
   "source": [
    " 2. Explain the key features of lists in python.    \n",
    "Ans =  \n",
    "i. Lists maintain the order in which elements were inserted, allowing you to \n",
    "access and manipulate elements by their position (index).  \n",
    "ii. Lists are dynamic and can be modified after creation.\n",
    "              You can add, remove, or change elements at any time.\n"
   ]
  },
  {
   "cell_type": "code",
   "execution_count": 29,
   "metadata": {},
   "outputs": [
    {
     "name": "stdout",
     "output_type": "stream",
     "text": [
      "append = ['kishan', 'karan', 'ajay', 'ram', 'pw']\n",
      "extend = ['kishan', 'karan', 'ajay', 'ram', 'pw', 'p', 'w']\n",
      "insert = ['kishan', 'karan', 'ajay', 'ram', 'skill', 'pw', 'p', 'w']\n",
      "remove = ['kishan', 'karan', 'ajay', 'ram', 'skill', 'pw', 'p']\n",
      "pop = ['kishan', 'karan', 'ajay', 'ram', 'skill', 'pw']\n",
      "sort = ['ajay', 'karan', 'kishan', 'pw', 'ram', 'skill']\n",
      "reverse = ['skill', 'ram', 'pw', 'kishan', 'karan', 'ajay']\n",
      "copy = ['skill', 'ram', 'pw', 'kishan', 'karan', 'ajay']\n",
      "clear = []\n"
     ]
    }
   ],
   "source": [
    "name = [\"kishan\",\"karan\",\"ajay\",\"ram\"] \n",
    "\n",
    "name.append(\"pw\")         # append is the keyword to adds an item to the end of the list\n",
    "print(\"append =\",name)      # output  ['kishan', 'karan', 'ajay', 'ram', 'pw']\n",
    "\n",
    "name.extend(\"pw\")         # Adds items of lists and other iterables to the end of the list\n",
    "print(\"extend =\",name)      # output  ['kishan', 'karan', 'ajay', 'ram', 'pw', 'p', 'w']\n",
    "\n",
    "name.insert(4,\"skill\")    # Inserts an item at the specified inde\n",
    "print(\"insert =\",name)      # output  ['kishan', 'karan', 'ajay', 'ram', 'skill', 'pw', 'p', 'w']\n",
    "\n",
    "name.remove(\"w\")          # Removes the specified value from the list\n",
    "print(\"remove =\",name)      # output ['kishan', 'karan', 'ajay', 'ram','skill', 'pw', 'p', ]\n",
    "\n",
    "name.pop(-1)              # Returns and removes item present at the given index\n",
    "print(\"pop =\",name)         # output ['kishan', 'karan', 'ajay', 'ram', 'skill', 'pw']\n",
    "\n",
    "name.index(\"skill\")       # Returns the index of the first matched item\n",
    "                            # output 4\n",
    "                       \n",
    "name.count(\"kishan\")      # Returns the count of the specified item in the list    \n",
    "                            # output 1     \n",
    "\n",
    "name.sort()               # Sorts the list in ascending/descending order arrang white alphabetical order\n",
    "print(\"sort =\",name)        # output ['ajay', 'karan', 'kishan', 'pw', 'ram', 'skill']\n",
    "\n",
    "name.reverse()            # Reverses the item of the list\n",
    "print(\"reverse =\",name)     # output ['skill', 'ram', 'pw', 'kishan', 'karan', 'ajay']\n",
    "\n",
    "names = name.copy()       #  Returns the shallow copy of the list\n",
    "print(\"copy =\",names)       # output ['skill', 'ram', 'pw', 'kishan', 'karan', 'ajay']\n",
    "\n",
    "name.clear()              # Removes all items from the list\n",
    "print(\"clear =\",name)       # output []"
   ]
  },
  {
   "cell_type": "markdown",
   "metadata": {},
   "source": [
    "3. Describe how to access , modify ,  and delete elements in a list with examples  \n",
    "Ans :  \n",
    "Access : You can access elements in a list using their index number  \n",
    "Modify : You can modify elements in a list by assigning a new value to the element at a specific index  \n",
    "Delete : There are several ways to delete elements from a list in Python like pop , remove , del\n"
   ]
  },
  {
   "cell_type": "code",
   "execution_count": 30,
   "metadata": {},
   "outputs": [
    {
     "name": "stdout",
     "output_type": "stream",
     "text": [
      "Access =  1\n",
      "Modify  = [10, 4, 5, 6, 1, 9, 7, 8]\n",
      "Delete = [4, 5, 6, 1, 9, 7, 8]\n"
     ]
    }
   ],
   "source": [
    "\n",
    "# Access Example\n",
    "\n",
    "number_list = [2,4,5,6,1,9,7,8]\n",
    "\n",
    "number_list.index(4)                     # Access 4 index\n",
    "print(\"Access = \",number_list.index(4))   # output 1\n",
    "\n",
    " \n",
    "# Modify Example\n",
    " \n",
    "number_list[0]=10               # change the 0 index in 10 number\n",
    "print(\"Modify  =\",number_list)   # output [10, 4, 5, 6, 1, 9, 7, 8]\n",
    "\n",
    "# Delete Example\n",
    "\n",
    "del number_list [0]           # delete 0 index \n",
    "print(\"Delete =\",number_list)  #output Delete = [4, 5, 6, 1, 9, 7, 8]\n",
    "\n",
    "# like this you can use pop and remove keyword"
   ]
  },
  {
   "cell_type": "markdown",
   "metadata": {},
   "source": [
    "4. Compare and contrast tuples and lists with examples.  \n",
    "Ans =   \n",
    "i. Both tuples and lists are used to store collections of data in Python.  \n",
    "ii.Both can be indexed and sliced, allowing for efficient access to specific elements.  \n",
    "\n",
    "* Tuples :   \n",
    "i. Tuples are immutable, and their contents cannot be modified once created  \n",
    "ii.Tuples are defined using parentheses ()  \n",
    "iii.Tuples do not have these methods like append(), extend(), remove(), and sort()\n",
    "        \n",
    "* List :  \n",
    "i. Lists are mutable, meaning their contents can be changed after creation  \n",
    "ii.Lists are defined using square brackets []  \n",
    "ii. Lists have methods like append(), extend(), remove(), and sort() that modify the list\n"
   ]
  },
  {
   "cell_type": "code",
   "execution_count": 31,
   "metadata": {},
   "outputs": [
    {
     "name": "stdout",
     "output_type": "stream",
     "text": [
      "list = [78, 67, 56, 34, 98, 76, 80, 90]\n"
     ]
    },
    {
     "ename": "AttributeError",
     "evalue": "'tuple' object has no attribute 'append'",
     "output_type": "error",
     "traceback": [
      "\u001b[1;31m---------------------------------------------------------------------------\u001b[0m",
      "\u001b[1;31mAttributeError\u001b[0m                            Traceback (most recent call last)",
      "Cell \u001b[1;32mIn[31], line 10\u001b[0m\n\u001b[0;32m      7\u001b[0m \u001b[38;5;66;03m# Tuples Example\u001b[39;00m\n\u001b[0;32m      9\u001b[0m score_tuples \u001b[38;5;241m=\u001b[39m (\u001b[38;5;241m78\u001b[39m,\u001b[38;5;241m67\u001b[39m,\u001b[38;5;241m56\u001b[39m,\u001b[38;5;241m34\u001b[39m,\u001b[38;5;241m98\u001b[39m,\u001b[38;5;241m76\u001b[39m,\u001b[38;5;241m80\u001b[39m)\n\u001b[1;32m---> 10\u001b[0m \u001b[43mscore_tuples\u001b[49m\u001b[38;5;241;43m.\u001b[39;49m\u001b[43mappend\u001b[49m(\u001b[38;5;241m100\u001b[39m)              \u001b[38;5;66;03m# Error: 'tuple' object has no attribute 'append'\u001b[39;00m\n\u001b[0;32m     11\u001b[0m \u001b[38;5;28mprint\u001b[39m(\u001b[38;5;124m\"\u001b[39m\u001b[38;5;124mTuple =\u001b[39m\u001b[38;5;124m\"\u001b[39m,score_tuples)\n",
      "\u001b[1;31mAttributeError\u001b[0m: 'tuple' object has no attribute 'append'"
     ]
    }
   ],
   "source": [
    "# List Example\n",
    "\n",
    "score_List = [78,67,56,34,98,76,80]\n",
    "score_List.append(90)                 # no Error\n",
    "print(\"list =\",score_List)\n",
    "\n",
    "# Tuples Example\n",
    "\n",
    "score_tuples = (78,67,56,34,98,76,80)\n",
    "score_tuples.append(100)              # Error: 'tuple' object has no attribute 'append'\n",
    "print(\"Tuple =\",score_tuples)\n"
   ]
  },
  {
   "cell_type": "markdown",
   "metadata": {},
   "source": [
    "5. Describe the key features of sets and provide examples of their use.  \n",
    "Ans =  \n",
    "i. Unordered Collection: Sets are an unordered collection of unique elements.  \n",
    "ii.Immutable: Sets are immutable, meaning their contents cannot be changed after creation.  \n",
    "iii. set don`t print duplicate items\n"
   ]
  },
  {
   "cell_type": "code",
   "execution_count": null,
   "metadata": {},
   "outputs": [],
   "source": [
    "set_num = {1,2,3,4} # add 5\n",
    "set_num1 = {3,4,5,6} \n",
    "\n",
    "# Adding Elements\n",
    "\n",
    "set_num.add(5)         # add 5 in set_num\n",
    "print(\"add =\",set_num)  #output {1, 2, 3, 4, 5}\n",
    "\n",
    "# Union = Combine elements from two sets:\n",
    "\n",
    "union_set = set_num | set_num1\n",
    "print(\"union =\",union_set)       # output {1, 2, 3, 4, 5, 6}\n",
    "\n",
    "# Difference = Find elements in one set that are not in anothe \n",
    "\n",
    "diff_set = set_num - set_num1\n",
    "print(\"Difference =\",diff_set) # output {1, 2}\n",
    "\n",
    "# Checking Membership = Use the in operator to check if an element is in a set\n",
    "\n",
    "print(2 in set_num)  # output True\n",
    "print(6 in set_num) # output False\n",
    "\n",
    "\n",
    "# symmetric difference = the between two sets set_num and set_num1 includes all elements\n",
    "#                          of set_num  and Bset_num1 without the common elements\n",
    "\n",
    "symmetric_difference = set_num ^ set_num1\n",
    "print(\"symmetric difference =\", symmetric_difference) # output {1, 2, 6}\n",
    "\n",
    "# Intersection = The intersection of two sets  include the common elements between set\n",
    "\n",
    "Intersection = set_num & set_num1\n",
    "print (\"Intersection =\",Intersection ) # output {3, 4, 5}\n",
    "\n",
    "# update = The update() method is used to update the set with items \n",
    "#            other collection types (lists, tuples, sets, etc)\n",
    "\n",
    "set_num.update(set_num1)\n",
    "print(\"update =\", set_num)   # output {1, 2, 3, 4, 5, 6}"
   ]
  },
  {
   "cell_type": "markdown",
   "metadata": {},
   "source": [
    "6. Discuss the use cases of tuples and sets in Python programming.  \n",
    "Ans =  \n",
    "\n",
    "i. Tuples are ordered, indexed, and mutable (but immutable once created).  \n",
    "\n",
    " * Use tuples when you need  \n",
    " You need an ordered collection  \n",
    " You need to return multiple values from a function.  \n",
    " You require immutability for some parts of your data.  \n",
    " \n",
    "ii. Sets are unordered, unindexed, and mutable (but can be converted to frozensets for immutability).  \n",
    " * Use sets when you need  \n",
    " You need to remove duplicates from a collection.  \n",
    " You need fast membership testing.  \n",
    " You require efficient storage and manipulation of unique data.\n"
   ]
  },
  {
   "cell_type": "code",
   "execution_count": null,
   "metadata": {},
   "outputs": [],
   "source": [
    "# tuples\n",
    "\n",
    "def person_details():\n",
    "    return (\"kishan\" ,18, \"mumbai\")\n",
    "\n",
    "name, age, bron = person_details ()\n",
    "print(\"name =\",name)\n",
    "print(\"age =\",age)\n",
    "print(\"bron = \",bron)\n",
    "\n",
    "# set\n",
    "\n",
    "my_list = [2,5,6,3,6,7,8,5,7]\n",
    "\n",
    "my_set =  set(my_list)\n",
    "print(\"my_set =\",my_set)\n",
    "\n",
    "print(2 in my_set)\n",
    "print(9 in my_set)\n"
   ]
  },
  {
   "cell_type": "markdown",
   "metadata": {},
   "source": [
    "7. Describe how to add, modify, and delete items in a dictionary with examples.  \n",
    "Ans"
   ]
  },
  {
   "cell_type": "code",
   "execution_count": null,
   "metadata": {},
   "outputs": [],
   "source": [
    "score_dict = {\n",
    "    \"kishan\" : 80, \n",
    "    \"karan\" : 76,   \n",
    "    \"kareen\" : 55,\n",
    "}\n",
    "\n",
    "#Add  in dictionary\n",
    " # i.Use of []\n",
    "\n",
    "score_dict[\"ajay\"]= 75 \n",
    "print(\"use of [] =\",score_dict)         #output {'kishan': 80, 'karan': 76, 'kareen': 55, 'ajay': 75}\n",
    "\n",
    "  # ii. Update \n",
    "\n",
    "score_dict.update({\"ayush\" : 97,})\n",
    "print(\"updata =\",score_dict)         #output  {'kishan': 80, 'karan': 76, 'kareen': 55, 'ajay': 75, 'ayush': 97}\n",
    "\n",
    " # iii. ** operator.\n",
    "\n",
    "score_dict_A = {\"ram\": 35}\n",
    "score_dict = {**score_dict, **score_dict_A}\n",
    "print(\"** operator =\",score_dict)         # output {'kishan': 80, 'karan': 76, 'kareen': 55, 'ajay': 75, 'ayush': 97, 'ram': 35}\n",
    "\n",
    "# Modify in dictionary\n",
    "\n",
    "score_dict[\"ajay\"]= 45\n",
    "print(\"Modify  =\",score_dict)   # output  {'kishan': 80, 'karan': 76, 'kareen': 55, 'ajay': 45, 'ayush': 97, 'ram': 35}\n",
    "\n",
    "# Deleting items from a dictionary\n",
    "\n",
    "# i. pop\n",
    "\n",
    "score_dict.pop(\"ajay\")\n",
    "print(\"pop  =\",score_dict)   # output  {'kishan': 80, 'karan': 76, 'kareen': 55, 'ayush': 97, 'ram': 35}\n",
    "\n",
    "# ii. del\n",
    "del score_dict[\"ayush\"]\n",
    "print(\"del  =\",score_dict)   # output  {'kishan': 80, 'karan': 76, 'kareen': 55, 'ram': 35}\n",
    "\n",
    "# iii. clear\n",
    "\n",
    "score_dict.clear()\n",
    "print(\"clear =\",score_dict)   # output  {}\n",
    "\n",
    "\n"
   ]
  },
  {
   "cell_type": "markdown",
   "metadata": {},
   "source": [
    "8. Discuss the importance of dictionary keys being immutable and provide examples.  \n",
    "Ans=  \n",
    "  \n",
    "Dictionary keys play a crucial role in Python dictionaries, serving as unique identifiers for each key-value pair  \n",
    "\n",
    "* Dictionary keys must be unique within a dictionary.  \n",
    "* Keys act as indices, allowing you to access values by referencing their corresponding keys. \n",
    "* Keys help organize data in a structured manner, enabling you to group related values together.  \n",
    "* Dictionary keys enable fast lookups, as Python can quickly locate a value by its associated key.  \n",
    "* Dictionary keys can be of any immutable data type, including strings, integers, floats, tuples, and even custom objects.  \n",
    "\n",
    "immutable dictionary keys  \n",
    "\n",
    "* dictionary keys must be immutable, meaning they cannot be changed once created. \n",
    "* Immutable keys ensure that each key remains uniquely identifiable throughout its lifetime. "
   ]
  },
  {
   "cell_type": "code",
   "execution_count": null,
   "metadata": {},
   "outputs": [],
   "source": [
    "# Let take examples of list and dictionary \n",
    "\n",
    "# first examples\n",
    "\n",
    "my_list =  [1,2,3,4]\n",
    "\n",
    "my_list.append(5)\n",
    "print(my_list)"
   ]
  },
  {
   "cell_type": "code",
   "execution_count": null,
   "metadata": {},
   "outputs": [],
   "source": [
    "my_dict = {\"Ayaj\" : 45} # output [1, 2, 3, 4, 5]\n",
    "\n",
    "my_dict.append(\"kishan\") \n",
    "print(my_dict)              # Error"
   ]
  },
  {
   "cell_type": "code",
   "execution_count": null,
   "metadata": {},
   "outputs": [],
   "source": [
    "# scoend examples\n",
    "\n",
    "  # tuples as a key\n",
    "\n",
    "tuple_dict= {(1, 2 ): \" one two\", 3 :\"three\"}\n",
    "print(\"tuple_dict =\", tuple_dict)\n",
    " \n",
    " # string as a key, list as a value\n",
    "number_dict= {\"number\": [1,2,3,4,5,6,7]}\n",
    "print(\"number_dict =\", number_dict)\n"
   ]
  },
  {
   "cell_type": "code",
   "execution_count": null,
   "metadata": {},
   "outputs": [],
   "source": [
    "# list as a key\n",
    "\n",
    "list_dict =  {[1, 2 ]: \" one two\", 3 :\"three\"} # Error \n",
    "print(list_dict)"
   ]
  }
 ],
 "metadata": {
  "kernelspec": {
   "display_name": "Python 3",
   "language": "python",
   "name": "python3"
  },
  "language_info": {
   "codemirror_mode": {
    "name": "ipython",
    "version": 3
   },
   "file_extension": ".py",
   "mimetype": "text/x-python",
   "name": "python",
   "nbconvert_exporter": "python",
   "pygments_lexer": "ipython3",
   "version": "3.12.6"
  }
 },
 "nbformat": 4,
 "nbformat_minor": 2
}
