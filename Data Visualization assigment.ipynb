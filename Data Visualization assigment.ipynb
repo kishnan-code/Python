{
 "cells": [
  {
   "cell_type": "markdown",
   "metadata": {},
   "source": [
    "## MATPLOTLIB ASSIGNMENT:\n",
    "\n"
   ]
  },
  {
   "cell_type": "markdown",
   "metadata": {},
   "source": [
    " 1. Create a scatter plot using Matplotlib to visualize the relationship between two arrays, x and y for the given data.\n",
    "\n",
    " x = [1, 2, 3, 4, 5, 6, 7, 8, 9, 10]  \n",
    " y = [2, 4, 5, 7, 6, 8, 9, 10, 12, 13]"
   ]
  },
  {
   "cell_type": "code",
   "execution_count": null,
   "metadata": {},
   "outputs": [],
   "source": [
    "import matplotlib.pyplot as plt\n",
    "\n",
    "x = [1, 2, 3, 4, 5, 6, 7, 8, 9, 10]\n",
    "y = [2, 4, 5, 7, 6, 8, 9, 10, 12, 13]\n",
    "plt.scatter( x,y , color = \"red\" , marker= \"+\")\n",
    "plt.title('Scatter Plot of x vs y')\n",
    "plt.xlabel('x values')\n",
    "plt.ylabel('y values')\n",
    "plt.show()\n"
   ]
  },
  {
   "cell_type": "markdown",
   "metadata": {},
   "source": [
    "2. Generate a line plot to visualize the trend of values for the given data  \n",
    "\n",
    "data = np.array([3, 7, 9, 15, 22, 29, 35])"
   ]
  },
  {
   "cell_type": "code",
   "execution_count": null,
   "metadata": {},
   "outputs": [],
   "source": [
    "import matplotlib.pyplot as plt\n",
    "import numpy as np\n",
    "\n",
    "data = np.array([3, 7, 9, 15, 22, 29, 35])\n",
    "x= np.arange(len(data))\n",
    "\n",
    "plt.plot(x,data,  marker='o', linestyle='-', linewidth=2, markersize=6)\n",
    "\n",
    "plt.title('Scatter Plot of x vs data')\n",
    "plt.xlabel('x values')\n",
    "plt.ylabel('data values')\n",
    "plt.show()"
   ]
  },
  {
   "cell_type": "markdown",
   "metadata": {},
   "source": [
    "3. Display a bar chart to represent the frequency of each item in the given array categories.  \n",
    "\n",
    "categories = ['A', 'B', 'C', 'D', 'E']  \n",
    "values = [25, 40, 30, 35, 20]  \n"
   ]
  },
  {
   "cell_type": "code",
   "execution_count": null,
   "metadata": {},
   "outputs": [],
   "source": [
    "import matplotlib.pyplot as plt\n",
    "import numpy as np\n",
    "\n",
    "categories = ['A', 'B', 'C', 'D', 'E']\n",
    "values = [25, 40, 30, 35, 20]\n",
    "\n",
    "plt.bar(categories,values, color = \"green\")\n",
    "\n",
    "plt.title('Frequency of Categories')\n",
    "plt.xlabel('Categories')\n",
    "plt.ylabel('Frequency')"
   ]
  },
  {
   "cell_type": "markdown",
   "metadata": {},
   "source": [
    "4. Create a histogram to visualize the distribution of values in the array data.  \n",
    "\n",
    "data = np.random.normal(0, 1, 1000)"
   ]
  },
  {
   "cell_type": "code",
   "execution_count": null,
   "metadata": {},
   "outputs": [],
   "source": [
    "import matplotlib.pyplot as plt \n",
    "import numpy as np \n",
    "\n",
    "data = np.random.normal(0, 1, 1000)\n",
    "\n",
    "plt.hist(data , bins=5, color='skyblue', edgecolor='black')\n",
    "\n",
    "# Add titles and labels\n",
    "plt.title('Histogram of Values')\n",
    "plt.xlabel('Value Ranges')\n",
    "plt.ylabel('Frequency')\n",
    "plt.show()"
   ]
  },
  {
   "cell_type": "markdown",
   "metadata": {},
   "source": [
    "5. Show a pie chart to represent the percentage distribution of different sections in the array sections.  \n",
    "\n",
    "sections = ['Section A', 'Section B', 'Section C', 'Section D']  \n",
    "sizes = [25, 30, 15, 30]"
   ]
  },
  {
   "cell_type": "code",
   "execution_count": null,
   "metadata": {},
   "outputs": [],
   "source": [
    "import matplotlib.pyplot as plt \n",
    "\n",
    "sections = ['Section A', 'Section B', 'Section C', 'Section D']\n",
    "sizes = [25, 30, 15, 30]\n",
    "\n",
    "plt.pie(sizes, labels=sections,autopct='%.2f%%', startangle=90, shadow=True, )\n",
    "\n",
    "plt.title('Percentage Distribution of Sections')\n"
   ]
  },
  {
   "cell_type": "markdown",
   "metadata": {},
   "source": [
    "## SEABORN ASSIGNMENT:"
   ]
  },
  {
   "cell_type": "markdown",
   "metadata": {},
   "source": [
    "1. Create a scatter plot to visualize the relationship between two variables, by generating a synthetic dataset."
   ]
  },
  {
   "cell_type": "code",
   "execution_count": null,
   "metadata": {},
   "outputs": [],
   "source": [
    "import numpy as np\n",
    "import matplotlib.pyplot as plt\n",
    "\n",
    "# Step 1: Generate synthetic data\n",
    "np.random.seed(0)  # For reproducibility\n",
    "x = np.random.rand(100) * 10  # 100 random points in the range [0, 10]\n",
    "y = 2 * x + 1 + np.random.normal(0, 2, 100)  # Linear relationship with some noise\n",
    "\n",
    "# Step 2: Create the scatter plot\n",
    "plt.figure(figsize=(9, 5))\n",
    "plt.scatter(x, y, color='blue', alpha=0.6, edgecolors='w', s=100)\n",
    "plt.title('Scatter Plot of Synthetic Data')\n",
    "plt.xlabel('Variable X')\n",
    "plt.ylabel('Variable Y')\n",
    "plt.grid(True)\n",
    "plt.show()\n"
   ]
  },
  {
   "cell_type": "markdown",
   "metadata": {},
   "source": [
    "2. Generate a dataset of random numbers. Visualize the distribution of a numerical variable."
   ]
  },
  {
   "cell_type": "code",
   "execution_count": null,
   "metadata": {},
   "outputs": [],
   "source": [
    "import numpy as np\n",
    "import matplotlib.pyplot as plt\n",
    "import seaborn as sns\n",
    "\n",
    "# Step 1: Generate a dataset of random numbers\n",
    "np.random.seed(0)  \n",
    "data = np.random.normal(loc=0, scale=1, size=1000)\n",
    "\n",
    "# Step 2: Visualize the distribution\n",
    "plt.figure(figsize=(10, 6))\n",
    "\n",
    "# Histogram\n",
    "plt.subplot(1, 2, 1)\n",
    "plt.hist(data, bins=30, color='skyblue', edgecolor='black', alpha=0.7)\n",
    "plt.title('Histogram of Random Numbers')\n",
    "plt.xlabel('Value')\n",
    "plt.ylabel('Frequency')\n",
    "\n",
    "# KDE Plot\n",
    "plt.subplot(1, 2, 2)\n",
    "sns.kdeplot(data, color='purple', fill=True, alpha=0.5)\n",
    "plt.title('Kernel Density Estimate of Random Numbers')\n",
    "plt.xlabel('Value')\n",
    "plt.ylabel('Density')\n",
    "\n",
    "plt.tight_layout()\n",
    "plt.show()\n"
   ]
  },
  {
   "cell_type": "markdown",
   "metadata": {},
   "source": [
    "3. Create a dataset representing categories and their corresponding values. Compare different categories based on numerical values"
   ]
  },
  {
   "cell_type": "code",
   "execution_count": null,
   "metadata": {},
   "outputs": [],
   "source": [
    "import pandas as pd\n",
    "import matplotlib.pyplot as plt\n",
    "\n",
    "data = {\n",
    "      'Category': ['A', 'B', 'C', 'D', 'E'],\n",
    "    'Value': [23, 45, 12, 67, 34]\n",
    "}\n",
    "\n",
    "df = pd.DataFrame(data)\n",
    "\n",
    "plt.figure(figsize= (10,6))\n",
    "plt.bar(df['Category'], df [\"Value\"])\n",
    "plt.title('Comparison of Categories Based on Values')\n",
    "plt.xlabel('Category')\n",
    "plt.ylabel('Value')\n"
   ]
  },
  {
   "cell_type": "markdown",
   "metadata": {},
   "source": [
    "4. Generate a dataset with categories and numerical values. Visualize the distribution of a numerical variable across different categories"
   ]
  },
  {
   "cell_type": "code",
   "execution_count": null,
   "metadata": {},
   "outputs": [],
   "source": [
    "import pandas as pd\n",
    "import numpy as np\n",
    "import matplotlib.pyplot as plt\n",
    "import seaborn as sns\n",
    "\n",
    "\n",
    "np.random.seed(0)  \n",
    "categories = ['A', 'B', 'C', 'D']\n",
    "data = {\n",
    "    'Category': np.random.choice(categories, size=200),  # Randomly assign categories\n",
    "    'Value': np.random.randn(200) * 10 + 20  # Generate random numerical values\n",
    "}\n",
    "\n",
    "df = pd.DataFrame(data)\n",
    "\n",
    "# Step 2: Visualize the distribution using a box plot\n",
    "plt.figure(figsize=(10, 6))\n",
    "sns.boxplot(x='Category', y='Value', data=df, palette='pastel')\n",
    "plt.title('Distribution of Values Across Categories')\n",
    "plt.xlabel('Category')\n",
    "plt.ylabel('Value')\n",
    "plt.grid(True)\n",
    "\n",
    "plt.tight_layout()\n",
    "plt.show()\n"
   ]
  },
  {
   "cell_type": "markdown",
   "metadata": {},
   "source": [
    "5. Generate a synthetic dataset with correlated features. Visualize the correlation matrix of a dataset using a heatmap."
   ]
  },
  {
   "cell_type": "code",
   "execution_count": null,
   "metadata": {},
   "outputs": [],
   "source": [
    "import numpy as np\n",
    "import pandas as pd\n",
    "import seaborn as sns\n",
    "import matplotlib.pyplot as plt\n",
    "\n",
    "# Step 1: Generate synthetic dataset with correlated features\n",
    "np.random.seed(0)  \n",
    "n_samples = 100\n",
    "\n",
    "# Generate correlated features\n",
    "x = np.random.rand(n_samples)\n",
    "y = 2 * x + np.random.normal(0, 0.1, n_samples)  # y is correlated with x\n",
    "z = -1 * x + np.random.normal(0, 0.1, n_samples)  # z is inversely correlated with x\n",
    "\n",
    "# Create a DataFrame\n",
    "data = {\n",
    "    'Feature1': x,\n",
    "    'Feature2': y,\n",
    "    'Feature3': z\n",
    "}\n",
    "df = pd.DataFrame(data)\n",
    "\n",
    "# Step 2: Compute the correlation matrix\n",
    "correlation_matrix = df.corr()\n",
    "\n",
    "# Step 3: Visualize the correlation matrix using a heatmap\n",
    "plt.figure(figsize=(8, 6))\n",
    "sns.heatmap(correlation_matrix, annot=True, cmap='coolwarm', fmt=\".2f\", square=True, cbar_kws={\"shrink\": .8})\n",
    "plt.title('Correlation Matrix Heatmap')\n",
    "plt.tight_layout()\n",
    "plt.show()\n"
   ]
  },
  {
   "cell_type": "markdown",
   "metadata": {},
   "source": [
    "## PLOTLY ASSIGNMENT:"
   ]
  },
  {
   "cell_type": "markdown",
   "metadata": {},
   "source": [
    "1. Using the given dataset, to generate a 3D scatter plot to visualize the distribution of data points in a threedimensional space.\n",
    "\n",
    "np.random.seed(30)  \n",
    "data = {  \n",
    "    'X': np.random.uniform(-10, 10, 300),  \n",
    "    'Y': np.random.uniform(-10, 10, 300),  \n",
    "    'Z': np.random.uniform(-10, 10, 300)  \n",
    "}  \n",
    "df = pd.DataFrame(data)  "
   ]
  },
  {
   "cell_type": "code",
   "execution_count": null,
   "metadata": {},
   "outputs": [],
   "source": [
    "import numpy as np\n",
    "import pandas as pd\n",
    "import matplotlib.pyplot as plt\n",
    "import plotly.graph_objects as go\n",
    "import plotly.express as px\n",
    "\n",
    "\n",
    "np.random.seed(30)\n",
    "data = {\n",
    "    'X': np.random.uniform(-10, 10, 300),\n",
    "    'Y': np.random.uniform(-10, 10, 300),\n",
    "    'Z': np.random.uniform(-10, 10, 300)\n",
    "}\n",
    "df = pd.DataFrame(data)\n",
    "\n",
    "fig = go.Figure()\n",
    "fig = px.scatter_3d(x=df.X , y=df.Y, z= df.Z)\n",
    "fig.show()\n",
    "\n"
   ]
  },
  {
   "cell_type": "markdown",
   "metadata": {},
   "source": [
    "2. a .Using the Student Grades, create a violin plot to display the distribution of scores across different grade\n",
    "categories.  \n",
    "\n",
    "np.random.seed(15)  \n",
    "data = {  \n",
    "    'Grade': np.random.choice(['A', 'B', 'C', 'D', 'F'], 200),  \n",
    "    'Score': np.random.randint(50, 100, 200)  \n",
    "}  \n",
    "df = pd.DataFrame(data)  \n",
    "\n",
    "b. Using the sales data, generate a heatmap to visualize the variation in sales across\n",
    "different months and days.  \n",
    "\n",
    "np.random.seed(20)  \n",
    "data = {  \n",
    "    'Month': np.random.choice(['Jan', 'Feb', 'Mar', 'Apr', 'May'], 100),  \n",
    "    'Day': np.random.choice(range(1, 31), 100),  \n",
    "    'Sales': np.random.randint(1000, 5000, 100)  \n",
    "}  \n",
    "df = pd.DataFrame(data)  "
   ]
  },
  {
   "cell_type": "code",
   "execution_count": null,
   "metadata": {},
   "outputs": [],
   "source": [
    "import numpy as np\n",
    "import pandas as pd\n",
    "import matplotlib.pyplot as plt\n",
    "import plotly.graph_objects as go\n",
    "import plotly.express as px\n",
    "\n",
    "# 2.a . Using the Student Grades, create a violin plot to display the distribution of scores across different grade categories.\n",
    "\n",
    "np.random.seed(15)\n",
    "data = {\n",
    "    'Grade': np.random.choice(['A', 'B', 'C', 'D', 'F'], 200),\n",
    "    'Score': np.random.randint(50, 100, 200)\n",
    "}\n",
    "f = pd.DataFrame(data)\n",
    "\n",
    "\n",
    "fig = px.violin(f, x='Grade', y='Score', box=True, points='all')\n",
    "fig.show()\n",
    "\n",
    "# b. Using the sales data, generate a heatmap to visualize the variation in sales across different months and days.\n",
    "\n",
    "np.random.seed(20)\n",
    "data = {\n",
    "    'Month': np.random.choice(['Jan', 'Feb', 'Mar', 'Apr', 'May'], 100),\n",
    "    'Day': np.random.choice(range(1, 31), 100),\n",
    "    'Sales': np.random.randint(1000, 5000, 100)\n",
    "}\n",
    "df = pd.DataFrame(data)\n",
    "\n",
    "fig = px.imshow(df)\n",
    "fig.show()"
   ]
  },
  {
   "cell_type": "markdown",
   "metadata": {},
   "source": [
    "\n",
    "3. Using the sales data, generate a heatmap to visualize the variation in sales across different months and\n",
    "days.  \n",
    "\n",
    "np.random.seed(20)  \n",
    "data = {  \n",
    "    'Month': np.random.choice(['Jan', 'Feb', 'Mar', 'Apr', 'May'], 100),  \n",
    "    'Day': np.random.choice(range(1, 31), 100),  \n",
    "    'Sales': np.random.randint(1000, 5000, 100)  \n",
    "}  \n",
    "df = pd.DataFrame(data)  \n"
   ]
  },
  {
   "cell_type": "code",
   "execution_count": null,
   "metadata": {},
   "outputs": [],
   "source": [
    "import numpy as np\n",
    "import pandas as pd\n",
    "import matplotlib.pyplot as plt\n",
    "import plotly.graph_objects as go\n",
    "import plotly.express as px\n",
    "\n",
    "np.random.seed(20)\n",
    "data = {\n",
    "    'Month': np.random.choice(['Jan', 'Feb', 'Mar', 'Apr', 'May'], 100),\n",
    "    'Day': np.random.choice(range(1, 31), 100),\n",
    "    'Sales': np.random.randint(1000, 5000, 100)\n",
    "}\n",
    "df = pd.DataFrame(data)\n",
    "\n",
    "fig = px.imshow(df)\n",
    "fig.show()"
   ]
  },
  {
   "cell_type": "markdown",
   "metadata": {},
   "source": [
    "4. Using the given x and y data, generate a 3D surface plot to visualize the function   \n",
    "\n",
    "x = np.linspace(-5, 5, 100)  \n",
    "y = np.linspace(-5, 5, 100)  \n",
    "x, y = np.meshgrid(x, y)  \n",
    "z = np.sin(np.sqrt(x**2 + y**2))  \n",
    "data = {  \n",
    "    'X': x.flatten(),  \n",
    "    'Y': y.flatten(),  \n",
    "    'Z': z.flatten()  \n",
    "}  \n",
    "df = pd.DataFrame(data)  "
   ]
  },
  {
   "cell_type": "code",
   "execution_count": null,
   "metadata": {},
   "outputs": [],
   "source": [
    "import numpy as np\n",
    "import pandas as pd\n",
    "import matplotlib.pyplot as plt\n",
    "import plotly.graph_objects as go\n",
    "import plotly.express as px\n",
    "\n",
    "\n",
    "x = np.linspace(-5, 5, 100)\n",
    "y = np.linspace(-5, 5, 100)\n",
    "x, y = np.meshgrid(x, y)\n",
    "z = np.sin(np.sqrt(x**2 + y**2))\n",
    "data = {\n",
    "    'X': x.flatten(),\n",
    "    'Y': y.flatten(),\n",
    "    'Z': z.flatten()\n",
    "}\n",
    "df = pd.DataFrame(data)\n",
    "fig = px.scatter_3d(x = df.X , y = df.Y , z = df.Z)\n",
    "fig.show()\n"
   ]
  },
  {
   "cell_type": "markdown",
   "metadata": {},
   "source": [
    "5. Using the given dataset, create a bubble chart to represent each country's population (y-axis), GDP (xaxis), and bubble size proportional to the population.  \n",
    "\n",
    "np.random.seed(25)  \n",
    "data = {  \n",
    "    'Country': ['USA', 'Canada', 'UK','Germany', 'France'],  \n",
    "\n",
    "    'Population':np.random.randint(100, 1000, 5),  \n",
    "\n",
    "    'GDP': np.random.randint(500, 2000,5)  \n",
    "}  \n",
    "df = pd.DataFrame(data)  "
   ]
  },
  {
   "cell_type": "code",
   "execution_count": null,
   "metadata": {},
   "outputs": [],
   "source": [
    "import numpy as np\n",
    "import pandas as pd\n",
    "import matplotlib.pyplot as plt\n",
    "import plotly.graph_objects as go\n",
    "import plotly.express as px\n",
    "\n",
    "np.random.seed(25)\n",
    "data = {\n",
    "    'Country': ['USA', 'Canada', 'UK','Germany', 'France'],\n",
    "\n",
    "    'Population':np.random.randint(100, 1000, 5),\n",
    "\n",
    "    'GDP': np.random.randint(500, 2000,5)\n",
    "}\n",
    "df = pd.DataFrame(data)\n",
    "\n",
    "fig = px.scatter(df,x='GDP',y='Population',size='Population',color='Country')\n",
    " \n",
    "fig.show()\n"
   ]
  },
  {
   "cell_type": "markdown",
   "metadata": {},
   "source": [
    "## BOKEH ASSIGNMENT:"
   ]
  },
  {
   "cell_type": "markdown",
   "metadata": {},
   "source": [
    "1.Create a Bokeh plot displaying a sine wave. Set x-values from 0 to 10 and y-values as the sine of x."
   ]
  },
  {
   "cell_type": "code",
   "execution_count": null,
   "metadata": {},
   "outputs": [],
   "source": [
    "import numpy as np\n",
    "import pandas as pd\n",
    "import matplotlib.pyplot as plt\n",
    "import bokeh.io\n",
    "import bokeh.plotting\n",
    "bokeh.io.output_notebook()\n",
    "  \n",
    "from bokeh.plotting import figure, show\n",
    "from bokeh.io import output_notebook\n",
    "\n",
    "x = np.linspace(0, 10, 100)\n",
    "y = np.sin(x)\n",
    "\n",
    "p = figure(title=\"Sine Wave\", x_axis_label='X', y_axis_label='sin(X)')\n",
    "\n",
    "p.line(x, y, legend_label=\"sin(x)\", line_width=2, color=\"blue\")\n",
    "\n",
    "show(p)"
   ]
  },
  {
   "cell_type": "markdown",
   "metadata": {},
   "source": [
    "2.Create a Bokeh scatter plot using randomly generated x and y values. Use different sizes and colors for the\n",
    "markers based on the 'sizes' and 'colors' columns."
   ]
  },
  {
   "cell_type": "code",
   "execution_count": null,
   "metadata": {},
   "outputs": [],
   "source": [
    "import numpy as np\n",
    "from bokeh.plotting import figure, show\n",
    "from bokeh.io import output_notebook\n",
    "from bokeh.models import ColumnDataSource\n",
    "\n",
    "# Prepare to display the plot in a notebook (optional)\n",
    "output_notebook()\n",
    "\n",
    "# Generate random data\n",
    "np.random.seed(42)  # For reproducibility\n",
    "n = 100  # Number of points\n",
    "x = np.random.rand(n) * 10  # Random x values from 0 to 10\n",
    "y = np.random.rand(n) * 10  # Random y values from 0 to 10\n",
    "sizes = np.random.randint(5, 50, size=n)  # Random sizes for markers\n",
    "colors = [f\"#{np.random.randint(0, 0xFFFFFF):06x}\" for _ in range(n)]  # Random colors\n",
    "\n",
    "# Create a ColumnDataSource\n",
    "source = ColumnDataSource(data=dict(x=x, y=y, sizes=sizes, colors=colors))\n",
    "\n",
    "# Create a scatter plot\n",
    "p = figure(title=\"Random Scatter Plot\", x_axis_label='X' )\n",
    "\n",
    "# Add scatter points\n",
    "p.scatter('x', 'y', size='sizes', color='colors', source=source, alpha=0.6)\n",
    "\n",
    "# Show the plot\n",
    "show(p)\n"
   ]
  },
  {
   "cell_type": "markdown",
   "metadata": {},
   "source": [
    "3. Generate a Bokeh bar chart representing the counts of different fruits using the following dataset\n",
    "\n",
    "fruits = ['Apples', 'Oranges', 'Bananas', 'Pears']\n",
    "counts = [20, 25, 30, 35]\n"
   ]
  },
  {
   "cell_type": "code",
   "execution_count": null,
   "metadata": {},
   "outputs": [],
   "source": [
    "from bokeh.plotting import figure, show\n",
    "from bokeh.io import output_notebook\n",
    "from bokeh.models import ColumnDataSource\n",
    "\n",
    "output_notebook()\n",
    "\n",
    "fruits = ['Apples', 'Oranges', 'Bananas', 'Pears']\n",
    "counts = [20, 25, 30, 35]\n",
    "\n",
    "\n",
    "source = ColumnDataSource(data=dict(fruits=fruits, counts=counts))\n",
    "\n",
    "# Create a bar chart\n",
    "p = figure(x_range=fruits, title=\"Fruit Counts\", x_axis_label='Fruits', y_axis_label='Count' )\n",
    "\n",
    "# Add bars to the plot\n",
    "p.vbar(x='fruits', top='counts', source=source, width=0.5, color=\"navy\", alpha=0.8)\n",
    "\n",
    "# Show the plot\n",
    "show(p)\n"
   ]
  },
  {
   "cell_type": "markdown",
   "metadata": {},
   "source": [
    "4. Create a Bokeh histogram to visualize the distribution of the given data\n",
    "\n",
    "data_hist = np.random.randn(1000)\n",
    "hist, edges = np.histogram(data_hist, bins=30)"
   ]
  },
  {
   "cell_type": "code",
   "execution_count": null,
   "metadata": {},
   "outputs": [],
   "source": [
    "import numpy as np\n",
    "from bokeh.plotting import figure, show\n",
    "from bokeh.io import output_notebook\n",
    "\n",
    "output_notebook()\n",
    "\n",
    "# Generate random data\n",
    "data_hist = np.random.randn(1000)\n",
    "\n",
    "# Create a histogram\n",
    "hist, edges = np.histogram(data_hist, bins=30)\n",
    "\n",
    "# Create a new plot\n",
    "p = figure(title=\"Histogram of Random Data\", x_axis_label='Value', y_axis_label='Frequency')\n",
    "\n",
    "# Add bars to the plot\n",
    "p.quad(top=hist, bottom=0, left=edges[:-1], right=edges[1:], fill_color='navy', line_color='white', alpha=0.7)\n",
    "\n",
    "show(p)\n"
   ]
  },
  {
   "cell_type": "markdown",
   "metadata": {},
   "source": [
    "5. Create a Bokeh heatmap using the provided dataset.  \n",
    "\n",
    "data_heatmap = np.random.rand(10, 10)  \n",
    "x = np.linspace(0, 1, 10)    \n",
    "y = np.linspace(0, 1, 10)  \n",
    "xx, yy = np.meshgrid(x, y)   "
   ]
  },
  {
   "cell_type": "code",
   "execution_count": null,
   "metadata": {},
   "outputs": [],
   "source": [
    "import numpy as np\n",
    "from bokeh.plotting import figure, show\n",
    "from bokeh.io import output_notebook\n",
    "from bokeh.transform import linear_cmap\n",
    "from bokeh.models import ColorBar\n",
    "from bokeh.palettes import Viridis256\n",
    "\n",
    "output_notebook()\n",
    "\n",
    "data_heatmap = np.random.rand(10, 10)\n",
    "x = np.linspace(0, 1, 10)\n",
    "y = np.linspace(0, 1, 10)\n",
    "xx, yy = np.meshgrid(x, y)\n",
    "\n",
    "# Flatten the arrays for the heatmap\n",
    "x_flat = xx.flatten()\n",
    "y_flat = yy.flatten()\n",
    "z_flat = data_heatmap.flatten()\n",
    "\n",
    "# Create a color mapper\n",
    "mapper = linear_cmap(field_name='z', palette=Viridis256, low=min(z_flat), high=max(z_flat))\n",
    "\n",
    "# Create a ColumnDataSource\n",
    "from bokeh.models import ColumnDataSource\n",
    "source = ColumnDataSource(data=dict(x=x_flat, y=y_flat, z=z_flat))\n",
    "\n",
    "# Create a new plot\n",
    "p = figure(title=\"Heatmap\", x_axis_label='X', y_axis_label='Y')\n",
    "\n",
    "# Add squares to the plot\n",
    "p.rect(x='x', y='y', width=0.1, height=0.1, source=source,\n",
    "        line_color=None, fill_color=mapper)\n",
    "\n",
    "# Add color bar\n",
    "color_bar = ColorBar(color_mapper=mapper['transform'], location=(0, 0))\n",
    "p.add_layout(color_bar, 'right')\n",
    "\n",
    "# Show the plot\n",
    "show(p)\n"
   ]
  }
 ],
 "metadata": {
  "kernelspec": {
   "display_name": "base",
   "language": "python",
   "name": "python3"
  },
  "language_info": {
   "codemirror_mode": {
    "name": "ipython",
    "version": 3
   },
   "file_extension": ".py",
   "mimetype": "text/x-python",
   "name": "python",
   "nbconvert_exporter": "python",
   "pygments_lexer": "ipython3",
   "version": "3.12.7"
  }
 },
 "nbformat": 4,
 "nbformat_minor": 2
}
