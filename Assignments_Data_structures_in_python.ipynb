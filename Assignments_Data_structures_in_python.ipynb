{
 "cells": [
  {
   "cell_type": "markdown",
   "metadata": {},
   "source": [
    "1. Write a code to reverse a string"
   ]
  },
  {
   "cell_type": "code",
   "execution_count": null,
   "metadata": {},
   "outputs": [],
   "source": [
    "string = \" hi ajay \"\n",
    "print(string[: :-1])      # reverse a string"
   ]
  },
  {
   "cell_type": "markdown",
   "metadata": {},
   "source": [
    "2.  Write a code to count the number of vowels in a string"
   ]
  },
  {
   "cell_type": "code",
   "execution_count": null,
   "metadata": {},
   "outputs": [],
   "source": [
    "def count_vowels(string):\n",
    "    vowels = \"aeiouAEIOU\"  # Including both lowercase and uppercase vowels\n",
    "    count = 0\n",
    "    for char in string:   \n",
    "        if char in vowels:\n",
    "            count += 1\n",
    "    return count\n",
    "\n",
    "string = \"Write a code to count the number of vowels in a string\"\n",
    "\n",
    "vowels = count_vowels(string)\n",
    "print(vowels)"
   ]
  },
  {
   "cell_type": "markdown",
   "metadata": {},
   "source": [
    "3. Write a code to check if a given string is a palindrome or not"
   ]
  },
  {
   "cell_type": "code",
   "execution_count": null,
   "metadata": {},
   "outputs": [],
   "source": [
    "\n",
    "\n",
    "def is_palindrome(s):\n",
    "    normalized_str = ''.join(s.split()).lower()\n",
    "    return normalized_str == normalized_str[::-1]   # Check if the string is the same forwards and backwards\n",
    "\n",
    "\n",
    "input_string = input(\" check if a given string is a palindrome or not\")\n",
    "\n",
    "if is_palindrome(input_string):\n",
    "    print(f'\"{input_string}\" is a palindrome.')\n",
    "else:\n",
    "    print(f'\"{input_string}\" is not a palindrome.')\n",
    "\n"
   ]
  },
  {
   "cell_type": "markdown",
   "metadata": {},
   "source": [
    "4.  Write a code to check if two given strings are anagrams of each other"
   ]
  },
  {
   "cell_type": "code",
   "execution_count": null,
   "metadata": {},
   "outputs": [],
   "source": [
    "def are_anagrams(str1, str2):\n",
    "    \n",
    "    normalized_str1 = ''.join(str1.split()).lower()\n",
    "    normalized_str2 = ''.join(str2.split()).lower()\n",
    "    return sorted(normalized_str1) == sorted(normalized_str2)  # Check if the sorted characters of both strings are the same\n",
    "\n",
    " \n",
    "string1 = input( \"string 1\")\n",
    "string2 = input( \"string 2\")\n",
    "\n",
    "if are_anagrams(string1, string2):\n",
    "    print(f'\"{string1}\" and \"{string2}\" are anagrams.')\n",
    "else:\n",
    "    print(f'\"{string1}\" and \"{string2}\" are not anagrams.')"
   ]
  },
  {
   "cell_type": "code",
   "execution_count": null,
   "metadata": {},
   "outputs": [],
   "source": []
  },
  {
   "cell_type": "markdown",
   "metadata": {},
   "source": [
    "5 . Write a code to find all occurrences of a given substring within another string"
   ]
  },
  {
   "cell_type": "code",
   "execution_count": null,
   "metadata": {},
   "outputs": [],
   "source": [
    "def find_occurrences(main_string, substring):\n",
    "    start = 0\n",
    "    occurrences = []\n",
    "    \n",
    "    while True:\n",
    "        start = main_string.find(substring, start)\n",
    "        if start == -1:  # No more occurrences found\n",
    "            break\n",
    "        occurrences.append(start)\n",
    "        start += 1  # Move to the next character after the found substring\n",
    "    \n",
    "    return occurrences\n",
    "\n",
    "main_string = input(\"main_string\")\n",
    "substring = input(\"substring \")\n",
    "\n",
    "occurrences = find_occurrences(main_string, substring)\n",
    "print(f'Occurrences of \"{substring}\": {occurrences}')"
   ]
  },
  {
   "cell_type": "markdown",
   "metadata": {},
   "source": [
    "6. Write a code to perform basic string compression using the counts of repeated characters"
   ]
  },
  {
   "cell_type": "code",
   "execution_count": null,
   "metadata": {},
   "outputs": [],
   "source": [
    "def compress_string(s):\n",
    "    if not s:\n",
    "        return \"\"\n",
    "    compressed = []\n",
    "    count = 1\n",
    "    for i in range(1, len(s)):\n",
    "        if s[i] == s[i - 1]:\n",
    "            count += 1\n",
    "        else:\n",
    "            compressed.append(s[i - 1] + str(count))\n",
    "            count = 1\n",
    "    compressed.append(s[-1] + str(count))# Add the last repeated character\n",
    "    compressed_str = ''.join(compressed)\n",
    "    return compressed_str if len(compressed_str) < len(s) else s\n",
    "\n",
    "    \n",
    "input_string = input(\"string\")\n",
    "compressed_string = compress_string(input_string)\n",
    "print(f'Compressed string: {compressed_string}')  "
   ]
  },
  {
   "cell_type": "markdown",
   "metadata": {},
   "source": [
    "7. Write a code to determine if a string has all unique characters"
   ]
  },
  {
   "cell_type": "code",
   "execution_count": null,
   "metadata": {},
   "outputs": [],
   "source": [
    "def has_unique_characters(s):\n",
    "                             # \n",
    "    s = s.lower()     # Convert the string to lowercase (optional, depending on case sensitivity)\n",
    "    \n",
    "    seen = set()   # Create a set to track unique characters\n",
    "    \n",
    "    for char in s:\n",
    "        if char in seen:\n",
    "            return False  # Found a duplicate\n",
    "        seen.add(char)\n",
    "    return True  # All characters are unique\n",
    "\n",
    "\n",
    "input_string_1 = \"Hello\"  # l is repeating\n",
    "print(has_unique_characters(input_string_1))  # Output: False\n",
    "\n",
    "input_string_2= \"World\" # not any  alphabet is repeating\n",
    "print(has_unique_characters(input_string_2))  # Output: True\n"
   ]
  },
  {
   "cell_type": "markdown",
   "metadata": {},
   "source": [
    "8. Write a code to convert a given string to uppercase or lowercas  "
   ]
  },
  {
   "cell_type": "code",
   "execution_count": null,
   "metadata": {},
   "outputs": [],
   "source": [
    "# uppercase \n",
    "\n",
    "def uppercase (string):\n",
    "    return string.upper()    # convert a given string to uppercase\n",
    "\n",
    "word = \"my name is kishan\"\n",
    "upper = uppercase(word)\n",
    "print(\"uppercase = \", upper)\n",
    "       \n",
    "       \n",
    "#  lowercas \n",
    "\n",
    "def  lowercas(string): \n",
    "    return string.lower()  # convert a given string to lowercase\n",
    "\n",
    "word = \"MY NAME IS KISHAN\"\n",
    "lower = lowercas(word)\n",
    "print(\"lowercas =\", lower)"
   ]
  },
  {
   "cell_type": "markdown",
   "metadata": {},
   "source": [
    "9. Write a code to count the number of words in a string"
   ]
  },
  {
   "cell_type": "code",
   "execution_count": null,
   "metadata": {},
   "outputs": [],
   "source": [
    "string = input(\"string\")\n",
    "\n",
    "count = len(string)\n",
    "print(count)\n"
   ]
  },
  {
   "cell_type": "markdown",
   "metadata": {},
   "source": [
    "10. Write a code to concatenate two strings without using the + operator"
   ]
  },
  {
   "cell_type": "code",
   "execution_count": null,
   "metadata": {},
   "outputs": [],
   "source": [
    "def add_string(string_1 , string_2):\n",
    "    return f\"{string_1} {string_2}\"\n",
    "\n",
    "str_1 = \"hello\"\n",
    "str_2 = \"world\"\n",
    "add = add_string(str_1,str_2)\n",
    "print(add)"
   ]
  },
  {
   "cell_type": "markdown",
   "metadata": {},
   "source": [
    "11.  Write a code to remove all occurrences of a specific element from a list"
   ]
  },
  {
   "cell_type": "code",
   "execution_count": 35,
   "metadata": {},
   "outputs": [
    {
     "name": "stdout",
     "output_type": "stream",
     "text": [
      "[1, 3, 4, 6, 7]\n"
     ]
    }
   ],
   "source": [
    "def remove_occurrences(lst , element):\n",
    "    return [item for item in lst if item != element ] # remove the give element\n",
    "\n",
    "num_liest = [ 1,2,3,2,4,6,7]\n",
    "remove = 2     # specific element\n",
    "\n",
    "k = remove_occurrences(num_liest, remove )\n",
    "print(k)\n"
   ]
  },
  {
   "cell_type": "markdown",
   "metadata": {},
   "source": [
    "12.  Implement a code to find the second largest number in a given list of integer"
   ]
  },
  {
   "cell_type": "code",
   "execution_count": 36,
   "metadata": {},
   "outputs": [
    {
     "name": "stdout",
     "output_type": "stream",
     "text": [
      "6\n"
     ]
    }
   ],
   "source": [
    "def second_largest(lst):\n",
    "    unique_numbers = set(lst)   # Remove duplicates by converting the list to a set\n",
    "    if len(unique_numbers) < 2:    # Check if there are at least two unique numbers\n",
    "        return None               # Not enough unique numbers\n",
    "\n",
    "    sorted_numbers = sorted(unique_numbers)    # Sort the unique numbers and return the second largest\n",
    "    return sorted_numbers[-2]\n",
    "\n",
    "my_list = [3, 6 , 1, 5, 7, 2, 7]\n",
    "result = second_largest(my_list)\n",
    "\n",
    "print(result)  \n"
   ]
  },
  {
   "cell_type": "markdown",
   "metadata": {},
   "source": [
    "13. Create a code to count the occurrences of each element in a list and return a dictionary with elements as \n",
    "keys and their counts as values"
   ]
  },
  {
   "cell_type": "code",
   "execution_count": 37,
   "metadata": {},
   "outputs": [
    {
     "name": "stdout",
     "output_type": "stream",
     "text": [
      "{'kishan': 2, 'karan': 1, 'pwskill': 3, 'ram': 1}\n"
     ]
    }
   ],
   "source": [
    "def count_occurrences(input_list):\n",
    "    count_dict ={}\n",
    "    for element in input_list:\n",
    "        if element in count_dict:\n",
    "            count_dict[element] += 1\n",
    "        else:\n",
    "            count_dict[element] = 1\n",
    "    return count_dict\n",
    "\n",
    "my_list = [ \"kishan\", \"karan\", \"pwskill\", \"kishan\",\"ram\",\"pwskill\", \"pwskill\"]\n",
    "r = count_occurrences(my_list)\n",
    "print(r)"
   ]
  },
  {
   "cell_type": "markdown",
   "metadata": {},
   "source": [
    "14. Write a code to reverse a list in-place without using any built-in reverse functions"
   ]
  },
  {
   "cell_type": "code",
   "execution_count": null,
   "metadata": {},
   "outputs": [],
   "source": [
    "# method frist\n",
    "\n",
    "my_list = [1, 2, 3, 4, 5,7,8,9]\n",
    "print(\"method frist =\",my_list[::-1])\n",
    "\n",
    "# method second\n",
    "\n",
    "def reverse_list(input_list):\n",
    "    left = 0\n",
    "    right = len(input_list)-1\n",
    "    \n",
    "  # Swap elements\n",
    "    while left < right:\n",
    "        input_list[left], input_list[right] = input_list[right],input_list[left]\n",
    "        left +=1\n",
    "        right -=1\n",
    "\n",
    "# usage:\n",
    "\n",
    "my_list = [1, 2, 3, 4, 5,7,8,9]\n",
    "reverse_list(my_list)\n",
    "print(\"method second = \",my_list)\n"
   ]
  },
  {
   "cell_type": "markdown",
   "metadata": {},
   "source": [
    "15.  Implement a code to find and remove duplicates from a list while preserving the original order of \n",
    "elements"
   ]
  },
  {
   "cell_type": "code",
   "execution_count": 78,
   "metadata": {},
   "outputs": [
    {
     "name": "stdout",
     "output_type": "stream",
     "text": [
      "[1, 2, 3, 4, 5, 8, 9, 7]\n"
     ]
    }
   ],
   "source": [
    "def remove_duplicates(input_list):\n",
    "    seen = set()\n",
    "    output_list = []\n",
    "    \n",
    "    for element in input_list:\n",
    "        if element not in seen:\n",
    "            seen.add(element)\n",
    "            output_list.append(element)\n",
    "    \n",
    "    return output_list\n",
    "\n",
    "#  usage:\n",
    "\n",
    "my_list = [1,2,3,2,4,1,5,8,9,8,7]\n",
    "result = remove_duplicates(my_list)\n",
    "print(result)\n"
   ]
  },
  {
   "cell_type": "markdown",
   "metadata": {},
   "source": [
    "16. Create a code to check if a given list is sorted (either in ascending or descending order) or no"
   ]
  },
  {
   "cell_type": "code",
   "execution_count": 103,
   "metadata": {},
   "outputs": [
    {
     "name": "stdout",
     "output_type": "stream",
     "text": [
      "Sorted in ascending order\n",
      "Sorted in descending order\n",
      "Not sorted\n"
     ]
    }
   ],
   "source": [
    "def is_sorted(input_list):\n",
    "    if not input_list:  # An empty list is considered sorted\n",
    "        return True\n",
    "\n",
    "    ascending = all(input_list[i] <= input_list[i + 1] for i in range(len(input_list) - 1))\n",
    "    descending = all(input_list[i] >= input_list[i + 1] for i in range(len(input_list) - 1))\n",
    "\n",
    "    if ascending:\n",
    "        return \"Sorted in ascending order\"\n",
    "    elif descending:\n",
    "        return \"Sorted in descending order\"\n",
    "    else:\n",
    "        return \"Not sorted\"\n",
    "\n",
    "# Example usage:\n",
    "my_list1 = [1, 2, 3, 4, 5]\n",
    "my_list2 = [5, 4, 3, 2, 1]\n",
    "my_list3 = [1, 3, 2, 4]\n",
    "\n",
    "print(is_sorted(my_list1))  # Output: Sorted in ascending order\n",
    "print(is_sorted(my_list2))  # Output: Sorted in descending order\n",
    "print(is_sorted(my_list3))  # Output: Not sorted\n"
   ]
  },
  {
   "cell_type": "markdown",
   "metadata": {},
   "source": [
    "17. Write a code to merge two sorted lists into a single sorted list"
   ]
  },
  {
   "cell_type": "code",
   "execution_count": 104,
   "metadata": {},
   "outputs": [
    {
     "name": "stdout",
     "output_type": "stream",
     "text": [
      "[1, 3, 5, 2, 4, 6]\n"
     ]
    }
   ],
   "source": [
    "list1 = [1, 3, 5]\n",
    "list2 = [2, 4, 6]\n",
    "\n",
    "merge_list = list1 + list2\n",
    "merge_list.sort\n",
    "print(merge_list)"
   ]
  },
  {
   "cell_type": "markdown",
   "metadata": {},
   "source": [
    "18. Implement a code to find the intersection of two given lists"
   ]
  },
  {
   "cell_type": "code",
   "execution_count": 105,
   "metadata": {},
   "outputs": [
    {
     "name": "stdout",
     "output_type": "stream",
     "text": [
      "intersect element = [4, 5]\n"
     ]
    }
   ],
   "source": [
    "def intersect_lists(list1, list2):\n",
    "    set1 = set(list1)\n",
    "    intersection = [element for element in list2 if element in set1]\n",
    "    return intersection\n",
    "\n",
    "# Example usage:\n",
    "list1 = [1, 2, 3, 4, 5]\n",
    "list2 = [4, 5, 6, 7, 8]\n",
    "result = intersect_lists(list1, list2)\n",
    "print(\"intersect element =\",result)\n"
   ]
  },
  {
   "cell_type": "markdown",
   "metadata": {},
   "source": [
    "19.  Create a code to find the union of two lists without duplicate"
   ]
  },
  {
   "cell_type": "code",
   "execution_count": 106,
   "metadata": {},
   "outputs": [
    {
     "name": "stdout",
     "output_type": "stream",
     "text": [
      "union lists = [1, 2, 3, 4, 5, 6, 7, 8]\n"
     ]
    }
   ],
   "source": [
    "def union_lists(list1, list2):\n",
    "    # Use a set to automatically handle duplicates\n",
    "    union_set = set(list1) | set(list2)\n",
    "    return list(union_set)\n",
    "\n",
    "# Example usage:\n",
    "list1 = [1, 2, 3, 4, 5]\n",
    "list2 = [4, 5, 6, 7, 8]\n",
    "result = union_lists(list1, list2)\n",
    "print(\"union lists =\",result)\n"
   ]
  },
  {
   "cell_type": "markdown",
   "metadata": {},
   "source": [
    "20.  Write a code to shuffle a given list randomly without using any built-in shuffle functions"
   ]
  },
  {
   "cell_type": "code",
   "execution_count": 107,
   "metadata": {},
   "outputs": [
    {
     "name": "stdout",
     "output_type": "stream",
     "text": [
      "shuffle list =  [4, 3, 5, 1, 2]\n"
     ]
    }
   ],
   "source": [
    "import random\n",
    "\n",
    "def shuffle_list(input_list):\n",
    "    shuffled_list = input_list[:]\n",
    "    n = len(shuffled_list)\n",
    "\n",
    "    for i in range(n - 1, 0, -1):\n",
    "        j = random.randint(0, i)  # Random index from 0 to i\n",
    "        # Swap elements at indices i and j\n",
    "        shuffled_list[i], shuffled_list[j] = shuffled_list[j], shuffled_list[i]\n",
    "\n",
    "    return shuffled_list\n",
    "\n",
    "# Example usage:\n",
    "my_list = [1, 2, 3, 4, 5]\n",
    "shuffled_result = shuffle_list(my_list)\n",
    "print(\"shuffle list = \",shuffled_result)\n"
   ]
  },
  {
   "cell_type": "markdown",
   "metadata": {},
   "source": [
    "21. Write a code that takes two tuples as input and returns a new tuple containing elements that are \n",
    "common to both input tuples\n"
   ]
  },
  {
   "cell_type": "code",
   "execution_count": 108,
   "metadata": {},
   "outputs": [
    {
     "name": "stdout",
     "output_type": "stream",
     "text": [
      "common element =  (8, 2, 3, 4)\n"
     ]
    }
   ],
   "source": [
    "def common_element(tuple_1, tuple_2):\n",
    "    common = set(tuple_1) & set(tuple_2) # take the common element both input\n",
    "    return tuple(common)  # convert set into tuple\n",
    "\n",
    "tuple_a = (2,3,4,5,6,8)\n",
    "tuple_b = (1,2,3,4,7,8,9)\n",
    "element = common_element(tuple_a,tuple_b)\n",
    "print(\"common element = \",element)"
   ]
  },
  {
   "cell_type": "markdown",
   "metadata": {},
   "source": [
    "22. Create a code that prompts the user to enter two sets of integers separated by commas. Then, print the \n",
    "intersection of these two set"
   ]
  },
  {
   "cell_type": "code",
   "execution_count": null,
   "metadata": {},
   "outputs": [],
   "source": [
    "# let this input of set\n",
    "\n",
    "set1 =  {2,3,4,6,7}\n",
    "set2 ={1,2,3,4,5,8,9}\n",
    "\n",
    "# print the intersection of these two set\n",
    "\n",
    "intersection = set1_input & set2_input\n",
    "print(\"intersection set =\",intersection)"
   ]
  },
  {
   "cell_type": "markdown",
   "metadata": {},
   "source": [
    "23.  Write a code to concatenate two tuples. The function should take two tuples as input and return a new \n",
    "tuple containing elements from both input tuples"
   ]
  },
  {
   "cell_type": "code",
   "execution_count": 110,
   "metadata": {},
   "outputs": [
    {
     "name": "stdout",
     "output_type": "stream",
     "text": [
      "(1, 2, 3, 4, 5, 6)\n"
     ]
    }
   ],
   "source": [
    "def concatenate_tuples(tuple1, tuple2):\n",
    "    return tuple1 + tuple2\n",
    "\n",
    "# Example usage\n",
    "\n",
    "tuple_a = (1, 2, 3)\n",
    "tuple_b = (4, 5, 6)\n",
    "result = concatenate_tuples(tuple_a, tuple_b)\n",
    "print(result)  # Output: (1, 2, 3, 4, 5, 6)\n",
    "\n"
   ]
  },
  {
   "cell_type": "markdown",
   "metadata": {},
   "source": [
    "24. Develop a code that prompts the user to input two sets of strings. Then, print the elements that are \n",
    "present in the first set but not in the second set"
   ]
  },
  {
   "cell_type": "code",
   "execution_count": 111,
   "metadata": {},
   "outputs": [
    {
     "name": "stdout",
     "output_type": "stream",
     "text": [
      "Elements in the first set but not in the second set: {'apple', 'cherry'}\n"
     ]
    }
   ],
   "source": [
    "# let this input of set\n",
    "\n",
    "string_set_1 = {\"apple\", \"banana\", \"cherry\"}\n",
    "string_set_2 = {\"banana\" , \" grape\"}\n",
    " \n",
    "#Then, print the elements that are present in the first set but not in the second set\n",
    "\n",
    "diff = string_set_1.difference(string_set_2)\n",
    "print(\"Elements in the first set but not in the second set:\",diff)"
   ]
  },
  {
   "cell_type": "markdown",
   "metadata": {},
   "source": [
    "25.  Create a code that takes a tuple and two integers as input. The function should return a new tuple \n",
    "containing elements from the original tuple within the specified range of indices"
   ]
  },
  {
   "cell_type": "code",
   "execution_count": 112,
   "metadata": {},
   "outputs": [
    {
     "name": "stdout",
     "output_type": "stream",
     "text": [
      "(2, 3, 4)\n"
     ]
    }
   ],
   "source": [
    "def extract_tuple_range(org_tuple, start_index, end_index):\n",
    "    # Validate indices\n",
    "    if start_index < 0 or end_index > len(org_tuple) or start_index >= end_index:\n",
    "        raise print(\"Invalid index range.\")\n",
    "    \n",
    "    # Return the new tuple with elements in the specified range\n",
    "    return org_tuple[start_index:end_index]\n",
    "\n",
    "# Example usage:\n",
    "my_tuple = (1, 2, 3, 4, 5, 6)\n",
    "start = 1\n",
    "end = 4\n",
    "result = extract_tuple_range(my_tuple, start, end)\n",
    "print(result)  # Output: (2, 3, 4)\n"
   ]
  },
  {
   "cell_type": "markdown",
   "metadata": {},
   "source": [
    "26.  Write a code that prompts the user to input two sets of characters. Then, print the union of these two set"
   ]
  },
  {
   "cell_type": "code",
   "execution_count": null,
   "metadata": {},
   "outputs": [],
   "source": [
    "# Prompt user for input\n",
    "\n",
    "set1_input = input(\"Enter the first set of characters (e.g., abc): \")\n",
    "set2_input = input(\"Enter the second set of characters (e.g., def): \")\n",
    "\n",
    "# Convert input strings to sets\n",
    "\n",
    "set1 = set(set1_input)\n",
    "set2 = set(set2_input)\n",
    "\n",
    "# Calculate the union of the two sets\n",
    "union_set = set1.union(set2)\n",
    "\n",
    "# Print the result\n",
    "print(\"The union of the two sets is:\", (union_set))\n"
   ]
  },
  {
   "cell_type": "markdown",
   "metadata": {},
   "source": [
    "27. Develop a code that takes a tuple of integers as input. The function should return the maximum and \n",
    "minimum values from the tuple using tuple unpackin"
   ]
  },
  {
   "cell_type": "code",
   "execution_count": null,
   "metadata": {},
   "outputs": [],
   "source": [
    "def max_min(int_tuple):\n",
    "\n",
    "    max_ = max(int_tuple)    # Find maximum and minimum values\n",
    "    min_ = min(int_tuple)\n",
    "    return max_ , min_   # Return the results using tuple unpacking\n",
    "\n",
    "\n",
    "input_tuple = input(\"Enter a tuple of integers (e.g., (1, 2, 3)): \")   # input\n",
    "\n",
    "int_tuple = eval(input_tuple)    # Convert input string to a tuple of integers\n",
    "\n",
    "max_, min_ = max_min(int_tuple)   # Call the function and unpack the results\n",
    "\n",
    "# Print the results\n",
    "print(\"Maximum value:\", max_)\n",
    "print(\"Minimum value:\", min_)\n"
   ]
  },
  {
   "cell_type": "markdown",
   "metadata": {},
   "source": [
    "28. Create a code that defines two sets of integers. Then, print the union, intersection, and difference of these \n",
    "two sets"
   ]
  },
  {
   "cell_type": "code",
   "execution_count": 119,
   "metadata": {},
   "outputs": [
    {
     "name": "stdout",
     "output_type": "stream",
     "text": [
      "union =  {1, 2, 3, 4, 5, 6, 7, 8, 9}\n",
      "intersection =  {2, 3, 4}\n",
      "difference =  {6, 7}\n"
     ]
    }
   ],
   "source": [
    "set1 =  {2,3,4,6,7}\n",
    "set2 = {1,2,3,4,5,8,9}\n",
    "\n",
    "# union \n",
    "\n",
    "set_ = set1 | set2\n",
    "print(\"union = \",set_)\n",
    "\n",
    "# intersection \n",
    "\n",
    "set_ = set1 & set2\n",
    "print(\"intersection = \",set_)\n",
    " \n",
    "# difference\n",
    "\n",
    "set_ = set1.difference(set2)\n",
    "print(\"difference = \",set_)"
   ]
  },
  {
   "cell_type": "markdown",
   "metadata": {},
   "source": [
    "29. Write a code that takes a tuple and an element as input. The function should return the count of \n",
    "occurrences of the given element in the tupls"
   ]
  },
  {
   "cell_type": "code",
   "execution_count": 4,
   "metadata": {},
   "outputs": [
    {
     "name": "stdout",
     "output_type": "stream",
     "text": [
      "4\n"
     ]
    }
   ],
   "source": [
    "def count_occurrences(tup, element):\n",
    "   return tup.count(element)   # Counts the occurrences of an element in a tuple.\n",
    "\n",
    "tuple_ = (2,3,4,5,5,7,1,5,5,6,8,9)\n",
    "element = 5\n",
    "count_tuple = count_occurrences(tuple_, element)\n",
    "print(count_tuple)\n"
   ]
  },
  {
   "cell_type": "markdown",
   "metadata": {},
   "source": [
    "30. Develop a code that prompts the user to input two sets of strings. Then, print the symmetric difference of \n",
    "these two sets"
   ]
  },
  {
   "cell_type": "code",
   "execution_count": null,
   "metadata": {},
   "outputs": [],
   "source": [
    "def get_symmetric_difference():\n",
    "\n",
    "    # Prompt user for the first set of strings\n",
    "\n",
    "    first_set_input = input(\"Enter the first set of strings, separated by spaces: \")\n",
    "    first_set = set(first_set_input.split())\n",
    "\n",
    "    # Prompt user for the second set of strings\n",
    "\n",
    "    second_set_input = input(\"Enter the second set of strings, separated by spaces: \")\n",
    "    second_set = set(second_set_input.split())\n",
    "\n",
    "    \n",
    "    symmetric_difference = first_set.symmetric_difference(second_set)  # Calculate the symmetric difference\n",
    "\n",
    "    print(\"The symmetric difference is:\", symmetric_difference)    # Print the result\n",
    "\n",
    "\n",
    "get_symmetric_difference()   # Call the function\n"
   ]
  },
  {
   "cell_type": "markdown",
   "metadata": {},
   "source": [
    "31.  Write a code that takes a list of words as input and returns a dictionary where the keys are unique words \n",
    "and the values are the frequencies of those words in the input list"
   ]
  },
  {
   "cell_type": "code",
   "execution_count": null,
   "metadata": {},
   "outputs": [],
   "source": [
    "def word_frequencies(word_list):\n",
    "    frequency_dict = {}\n",
    "    \n",
    "    for word in word_list:\n",
    "        word = word.lower()\n",
    "        if word in frequency_dict:\n",
    "            frequency_dict[word] += 1\n",
    "        else:\n",
    "            frequency_dict[word] = 1\n",
    "    \n",
    "    return frequency_dict\n",
    "\n",
    "# Example usage\n",
    "\n",
    "input_words = input(\"Enter a list of words, separated by spaces: \").split()\n",
    "result = word_frequencies(input_words)\n",
    "print(\"Word frequencies:\", result)\n"
   ]
  },
  {
   "cell_type": "markdown",
   "metadata": {},
   "source": [
    "32.  Write a code that takes two dictionaries as input and merges them into a single dictionary. If there are \n",
    "common keys, the values should be added together,"
   ]
  },
  {
   "cell_type": "code",
   "execution_count": null,
   "metadata": {},
   "outputs": [],
   "source": [
    "def merge_dictionaries(dict1, dict2):\n",
    "    merged_dict = dict(dict1)  # Create a copy of dict1 to start with\n",
    "\n",
    "    for key, value in dict2.items():\n",
    "        if key in merged_dict:          \n",
    "            merged_dict[key] += value   # If key exists in both dictionaries, add the values together\n",
    "        else:\n",
    "            merged_dict[key] = value            # If key only exists in dict2, add it to merged_dict\n",
    "\n",
    "    return merged_dict\n",
    "\n",
    "# Example usage:\n",
    "\n",
    "dict1 = {'a': 10, 'b': 20, 'c': 30}\n",
    "dict2 = {'b': 5, 'c': 15, 'd': 25}\n",
    "\n",
    "merged = merge_dictionaries(dict1, dict2)\n",
    "print(merged)\n"
   ]
  },
  {
   "cell_type": "markdown",
   "metadata": {},
   "source": [
    "33.  Write a code to access a value in a nested dictionary. The function should take the dictionary and a list of \n",
    "keys as input, and return the corresponding value. If any of the keys do not exist in the dictionary, the \n",
    "function should return Non"
   ]
  },
  {
   "cell_type": "code",
   "execution_count": null,
   "metadata": {},
   "outputs": [],
   "source": [
    "def get_nested_value(nested_dict, keys):\n",
    "    current = nested_dict\n",
    "    for key in keys:\n",
    "        if isinstance(current, dict) and key in current:\n",
    "            current = current[key]\n",
    "        else:\n",
    "            return None\n",
    "    return current\n",
    "\n",
    "# Example usage\n",
    "\n",
    "nested_dict = {\n",
    "    'a': {\n",
    "        'b': {\n",
    "            'c': 42\n",
    "        }\n",
    "    },\n",
    "    'd': 100\n",
    "}\n",
    "\n",
    "keys = ['a', 'b', 'c']\n",
    "value = get_nested_value(nested_dict, keys)\n",
    "print(value)  # Output: 42\n",
    "\n",
    "# Testing with a non-existent key\n",
    "\n",
    "keys = ['a', 'x', 'c']\n",
    "value = get_nested_value(nested_dict, keys)\n",
    "print(value)  # Output: None\n"
   ]
  },
  {
   "cell_type": "markdown",
   "metadata": {},
   "source": [
    "34. Write a code that takes a dictionary as input and returns a sorted version of it based on the values. You \n",
    "can choose whether to sort in ascending or descending orde"
   ]
  },
  {
   "cell_type": "code",
   "execution_count": null,
   "metadata": {},
   "outputs": [],
   "source": [
    "def sort_dict_by_value(input_dict, ascending=True):\n",
    "    sorted_items = sorted(input_dict.items(), key=lambda item: item[1], reverse=not ascending)\n",
    "    return dict(sorted_items)\n",
    "\n",
    "# Example usage\n",
    "\n",
    "my_dict = {\n",
    "    'apple': 3,\n",
    "    'banana': 1,\n",
    "    'cherry': 2\n",
    "}\n",
    "\n",
    "sorted_dict_asc = sort_dict_by_value(my_dict, ascending=True)\n",
    "print(\"Sorted in ascending order:\", sorted_dict_asc)  # Output: {'banana': 1, 'cherry': 2, 'apple': 3}\n",
    "\n",
    "sorted_dict_desc = sort_dict_by_value(my_dict, ascending=False)\n",
    "print(\"Sorted in descending order:\", sorted_dict_desc)  # Output: {'apple': 3, 'cherry': 2, 'banana': 1}\n"
   ]
  },
  {
   "cell_type": "markdown",
   "metadata": {},
   "source": [
    "35. Write a code that inverts a dictionary, swapping keys and values. Ensure that the inverted dictionary \n",
    "correctly handles cases where multiple keys have the same value by storing the keys as a list in the \n",
    "inverted dictionary."
   ]
  },
  {
   "cell_type": "code",
   "execution_count": null,
   "metadata": {},
   "outputs": [],
   "source": [
    "def invert_dict(input_dict):\n",
    "    inverted_dict = {}\n",
    "    for key, value in input_dict.items():\n",
    "        if value not in inverted_dict:\n",
    "            inverted_dict[value] = [key]\n",
    "        else:\n",
    "            inverted_dict[value].append(key)\n",
    "    return inverted_dict\n",
    "\n",
    "# Example usage\n",
    "\n",
    "my_dict = {\n",
    "    'a': 1,\n",
    "    'b': 2,\n",
    "    'c': 1,\n",
    "    'd': 3\n",
    "}\n",
    "\n",
    "inverted_dict = invert_dict(my_dict)\n",
    "print(inverted_dict)  # Output: {1: ['a', 'c'], 2: ['b'], 3: ['d']}\n"
   ]
  }
 ],
 "metadata": {
  "kernelspec": {
   "display_name": "Python 3",
   "language": "python",
   "name": "python3"
  },
  "language_info": {
   "codemirror_mode": {
    "name": "ipython",
    "version": 3
   },
   "file_extension": ".py",
   "mimetype": "text/x-python",
   "name": "python",
   "nbconvert_exporter": "python",
   "pygments_lexer": "ipython3",
   "version": "3.12.6"
  }
 },
 "nbformat": 4,
 "nbformat_minor": 2
}
