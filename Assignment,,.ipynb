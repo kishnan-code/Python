{
 "cells": [
  {
   "cell_type": "markdown",
   "metadata": {},
   "source": [
    "1. explain the key feature of python that make it a popular choice for programming\n",
    "\n",
    "Ans\n",
    "\n",
    "i.  easy to use and learn . It makes it an ideal programming language for beginners.\n",
    "\n",
    "ii. python supports multipl programming paradigms it allows developers to choose the \n",
    "approach that best first their specif project.\n",
    " \n",
    "iii.python is an open source language.\n",
    "\n",
    "iv. python code can be run on different operating systems and platform.\n",
    "\n",
    "V.  python comes with a comprehensive standard  library. \n"
   ]
  },
  {
   "cell_type": "markdown",
   "metadata": {},
   "source": [
    "2.Descibe thr role of predefined keywords in python and provide examples of how they are \n",
    "used in a program.\n",
    "\n",
    "i.  Python keywords are special reserved words that have specific meanings and\n",
    "    purposes and can’t be used for anything but those specific purposes. \n",
    "\n",
    "ii. Keywords are used to define the syntax of the coding. \n",
    "\n",
    "iii.The keyword cannot be used as an identifier, function, or variable name\n"
   ]
  },
  {
   "cell_type": "code",
   "execution_count": null,
   "metadata": {},
   "outputs": [],
   "source": [
    "# used of keyword in program.\n",
    "  \n",
    "x = int(input(\"number:\"))\n",
    "\n",
    "if x >= 5:         #   if = This is used to make a conditional statement.\n",
    "    print(\"big the 5\")\n",
    "\n",
    "elif x < 5:  \n",
    "    print(\"small than 5\")      #   elif = Elif is a condition statement used with an if statement.\n",
    "                               #     The elif statement is executed if the previous conditions were not true.\n",
    "   \n",
    "else:                          #   else = Else is used with if and elif conditional statements. \n",
    "   print(\"none\")               #     The else block is executed if the given condition is not true.\n",
    "\n",
    "# table \n",
    "print(\"write a table give a number :\")\n",
    "\n",
    "num= int(input(\"number :\")) \n",
    "    #The for keyword is used to create a for loop. \n",
    "for i in range (1,11):           # range allows the user to generate a series of numbers within a given range. \n",
    "    print(num,\"x\",i,\"=\",i*num)"
   ]
  },
  {
   "cell_type": "markdown",
   "metadata": {},
   "source": [
    "3. compare and contrast mutable and immutable objects in python with examples \n",
    "\n",
    "ans = \n",
    "\n",
    "i. the object that can be changed after creation are known as mutable object like list,arrys,set,dictionary,etc.... , \n",
    "it can change the size or content of the object during runtime\n",
    "\n",
    "ii.  the object that can not be changed after creation and these objects have fixed allocation\n",
    "       of space in memory and a unique memory address that remains constsnt throughout their lifetime\n",
    "       examples strig, Tuples, int, float, complex,"
   ]
  },
  {
   "cell_type": "code",
   "execution_count": null,
   "metadata": {},
   "outputs": [],
   "source": [
    "# Arithmetic Operators \n",
    "\n",
    "a = 9\n",
    "b = 4\n",
    "\n",
    "# addition  \n",
    "print ('Sum: ', a + b)  # output sum: 13\n",
    "\n",
    "# subtraction\n",
    "print ('Subtraction: ', a - b)   # output Subtraction: 5\n",
    "\n",
    "# multiplication\n",
    "print ('Multiplication: ', a * b)  # output Multiplication: 36\n",
    "\n",
    "# division\n",
    "print ('Division: ', a / b)       # output Division: 2.25\n",
    "\n",
    "# floor division\n",
    "print ('Floor Division: ', a // b)   # output Floor Division: 2\n",
    "\n",
    "# modulo\n",
    "print ('Modulo: ', a % b)   # output Modulo: 1\n",
    "\n",
    "# a to the power b\n",
    "print ('Power: ', a ** b)    # output Power: 6561\n"
   ]
  },
  {
   "cell_type": "code",
   "execution_count": null,
   "metadata": {},
   "outputs": [],
   "source": [
    "# Assignment Operators \n",
    "\n",
    "a = 10      # assign 10 to a\n",
    "\n",
    "b = 5       # assign 5 to b \n",
    "\n",
    "a += b      # a = a + b  assign the sum of a and b to a\n",
    "\n",
    "print(a)    # Output: 15\n",
    "\n",
    "# Comparison Operators "
   ]
  },
  {
   "cell_type": "code",
   "execution_count": null,
   "metadata": {},
   "outputs": [],
   "source": [
    "# Comparison Operators \n",
    "\n",
    "print(3 == 5)  #    ==\tIs Equal To\t  (gives us False) \n",
    "\n",
    "print(3 != 5)  #    !=\tNot Equal To     ( gives us True)\n",
    "\n",
    "print(3 > 5)   #    >\tGreater Than\t    ( gives us False)\n",
    "\n",
    "print(3 < 5)   #    <\tLess Than\t   (gives us True)\n",
    "\n",
    "print(3 >= 5)  #    >=\tGreater Than or Equal To\t( give us False)\n",
    "\n",
    "print(3 <= 5)  #    <=\tLess Than or Equal To\t( gives us True)"
   ]
  },
  {
   "cell_type": "code",
   "execution_count": null,
   "metadata": {},
   "outputs": [],
   "source": [
    "#Logical Operators\n",
    "\n",
    "# logical AND\n",
    "print(True and True)     # True\n",
    "print(True and False)    # False\n",
    "\n",
    "# logical OR\n",
    "print(True or False)     # True\n",
    "print(False and False)   # False\n",
    "\n",
    "# logical NOT\n",
    "print(not True)          # Fals"
   ]
  },
  {
   "cell_type": "markdown",
   "metadata": {},
   "source": [
    "5. Explain the concept of type casting in python with examples. \n",
    "\n",
    "ans =\n",
    "\n",
    "In programming, type conversion is the process of converting data of one type to another.  \n",
    "\n",
    "  * Implicit Conversion = automatic type conversion. if we try to add str and int We get TypeErro. Python is not able to use Implicit    Conversion in such conditions.\n",
    "                   \n",
    " \n",
    "  * Explicit Conversion = manual type conversion .\n",
    "In Explicit Type Conversion, users convert the data type of an object to required data type.\n",
    "We use the built-in functions like int(), float(), str(), etc to perform explicit type conversion."
   ]
  },
  {
   "cell_type": "code",
   "execution_count": null,
   "metadata": {},
   "outputs": [],
   "source": [
    "# Implicit Conversion\n",
    "\n",
    "integer = 123 \n",
    "floa = 1.23\n",
    "\n",
    "new_number = integer + floa  \n",
    "\n",
    "                                    # output\n",
    "print(\"Value:\",new_number)              # Value: 124.23\n",
    "print(\"Data Type new_number\",type(new_number))    # Data Type: <class 'float'>\n",
    "\n",
    "# explicit type conversion\n",
    "\n",
    "num_string = '12'\n",
    "num_integer = 23\n",
    "                                                                             \n",
    "num_string = int(num_string)\n",
    "\n",
    "print(\"Data type num_string \",type(num_string)) # Data type of num_string after Type Casting: <class 'int'>\n",
    "\n",
    "num_sum = num_integer + num_string\n",
    "\n",
    "print(\"Sum:\",num_sum) #Sum: 35\n",
    "print(\"Data type of num_sum:\",type(num_sum)) #Data type of num_sum: <class 'int'>\n"
   ]
  },
  {
   "cell_type": "markdown",
   "metadata": {},
   "source": [
    "6. How do conditional statemets work in python? illustrate with exampies\n",
    "\n",
    "Ans=  Suppose we need to assign different grades to students based on their scores."
   ]
  },
  {
   "cell_type": "code",
   "execution_count": null,
   "metadata": {},
   "outputs": [],
   "source": [
    "scores = int(input(\"scores :\"))\n",
    "if scores >= 90:        # If a student scores above 90,  grade A\n",
    "   print(\"grade : A\")\n",
    "\n",
    "elif scores > 90 or scores >= 75:   # If a student scores above 75,  grade B\n",
    "   print(\"grade : B\") \n",
    "\n",
    "elif scores > 90 or scores >= 65:     # If a student scores above 65,  grade C \n",
    "    print(\"grade : c\")\n",
    "\n",
    "elif scores > 90 or scores >= 35:     # If a student scores above 35,  grade D\n",
    "    print(\"grade : D\")\n",
    "\n",
    "else:                        # If a student scores less  35,  grade Fail\n",
    "   print(\"grade : Fail\")"
   ]
  },
  {
   "cell_type": "markdown",
   "metadata": {},
   "source": [
    "7. Describe the different types of loops in python and their use cases with examples.\n",
    "\n",
    "Ans = In Python, loops are used to execute a block of code repeatedly until a certain condition is met\n"
   ]
  },
  {
   "cell_type": "code",
   "execution_count": null,
   "metadata": {},
   "outputs": [],
   "source": [
    "# While Loop in Python is used to execute a set of statements as long as a condition is true\n",
    "count = 1\n",
    "while count <= 4:\n",
    "   print(count)\n",
    "   count += 1"
   ]
  },
  {
   "cell_type": "code",
   "execution_count": 42,
   "metadata": {},
   "outputs": [],
   "source": [
    "#The for loop is used for iterating over a sequence, such as a list, tuple, dictionary, set, or string.\n",
    "\n",
    "Boy = [\"kishan\", \"karan\", \"Ram\"] \n",
    "Boys = ()\n",
    "for Boy in Boys:                      \n",
    "   print(Boys)"
   ]
  },
  {
   "cell_type": "code",
   "execution_count": null,
   "metadata": {},
   "outputs": [],
   "source": [
    " # Example Break statement \n",
    "for letter in 'Python':\n",
    "   if letter == 'h':\n",
    "      break          # Terminates the loop and transfers execution to the statement immediately following the loop.\n",
    "   print('Current Letter :', letter)\n"
   ]
  },
  {
   "cell_type": "code",
   "execution_count": null,
   "metadata": {},
   "outputs": [],
   "source": [
    "# Example Continue statement \n",
    "for letter in 'Python':\n",
    "   if letter == 'h':\n",
    "      continue                #Skips the rest of the code inside a loop for the current iteration only\n",
    "   print('Current Letter :', letter)"
   ]
  }
 ],
 "metadata": {
  "kernelspec": {
   "display_name": "Python 3",
   "language": "python",
   "name": "python3"
  },
  "language_info": {
   "codemirror_mode": {
    "name": "ipython",
    "version": 3
   },
   "file_extension": ".py",
   "mimetype": "text/x-python",
   "name": "python",
   "nbconvert_exporter": "python",
   "pygments_lexer": "ipython3",
   "version": "3.12.6"
  }
 },
 "nbformat": 4,
 "nbformat_minor": 2
}
